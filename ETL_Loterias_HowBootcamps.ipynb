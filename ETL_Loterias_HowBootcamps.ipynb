{
  "cells": [
    {
      "cell_type": "markdown",
      "metadata": {
        "id": "GXuVWF6v5eFg"
      },
      "source": [
        "#ETL - Loterias"
      ]
    },
    {
      "cell_type": "markdown",
      "metadata": {
        "id": "N8SzDSOm2CUJ"
      },
      "source": [
        "O objetivo desse exercício foi extrair dados de um site, transformá-los e retornar um resumo para o usuário."
      ]
    },
    {
      "cell_type": "markdown",
      "metadata": {
        "id": "Wn8y-ifkc_J9"
      },
      "source": [
        "##Import"
      ]
    },
    {
      "cell_type": "code",
      "execution_count": 1,
      "metadata": {
        "colab": {
          "base_uri": "https://localhost:8080/"
        },
        "id": "Zn4x2BAK5V5K",
        "outputId": "dda271aa-c901-4a77-ab23-0f1459b10384"
      },
      "outputs": [
        {
          "name": "stdout",
          "output_type": "stream",
          "text": [
            "Requirement already satisfied: requests in /home/lucas/anaconda3/lib/python3.9/site-packages (2.26.0)\n",
            "Requirement already satisfied: certifi>=2017.4.17 in /home/lucas/anaconda3/lib/python3.9/site-packages (from requests) (2021.10.8)\n",
            "Requirement already satisfied: urllib3<1.27,>=1.21.1 in /home/lucas/anaconda3/lib/python3.9/site-packages (from requests) (1.26.7)\n",
            "Requirement already satisfied: idna<4,>=2.5 in /home/lucas/anaconda3/lib/python3.9/site-packages (from requests) (3.2)\n",
            "Requirement already satisfied: charset-normalizer~=2.0.0 in /home/lucas/anaconda3/lib/python3.9/site-packages (from requests) (2.0.4)\n"
          ]
        }
      ],
      "source": [
        "!pip install requests"
      ]
    },
    {
      "cell_type": "code",
      "execution_count": 2,
      "metadata": {
        "id": "3ulULjp93EgR"
      },
      "outputs": [],
      "source": [
        "import requests\n",
        "import pandas as pd\n",
        "import collections"
      ]
    },
    {
      "cell_type": "markdown",
      "metadata": {
        "id": "DWXrEg-_dh_S"
      },
      "source": [
        "#Extract"
      ]
    },
    {
      "cell_type": "code",
      "execution_count": 5,
      "metadata": {
        "colab": {
          "base_uri": "https://localhost:8080/",
          "height": 177
        },
        "id": "0w3zavsy9Qv9",
        "outputId": "964ac121-19c0-431f-e224-c1362b9e7994"
      },
      "outputs": [
        {
          "name": "stderr",
          "output_type": "stream",
          "text": [
            "/home/lucas/anaconda3/lib/python3.9/site-packages/urllib3/connectionpool.py:1013: InsecureRequestWarning: Unverified HTTPS request is being made to host 'servicebus2.caixa.gov.br'. Adding certificate verification is strongly advised. See: https://urllib3.readthedocs.io/en/1.26.x/advanced-usage.html#ssl-warnings\n",
            "  warnings.warn(\n"
          ]
        },
        {
          "data": {
            "text/plain": [
              "'{\\r\\n  \"html\": \"<table class=\\\\\"tabela-resultado lotofacil\\\\\">\\\\r\\\\n<thead>\\\\r\\\\n<tr>\\\\r\\\\n<th><small>\\\\r\\\\nConcurso\\\\r\\\\n</small></th><th><small>\\\\r\\\\nData_Sorteio\\\\r\\\\n</small></th><th><small>\\\\r\\\\nBola1\\\\r\\\\n</small></th><th><small>\\\\r\\\\nBola2\\\\r\\\\n</small></th><th><small>\\\\r\\\\nBola3\\\\r\\\\n</small></th><th><small>\\\\r\\\\nBola4\\\\r\\\\n'"
            ]
          },
          "execution_count": 5,
          "metadata": {},
          "output_type": "execute_result"
        }
      ],
      "source": [
        "#Coleta os dados brutos\n",
        "url = 'https://servicebus2.caixa.gov.br/portaldeloterias/api/resultados?modalidade=Lotof%C3%A1cil'\n",
        "r = requests.get(url, verify=False)\n",
        "r_text = r.text\n",
        "r_text[:300]"
      ]
    },
    {
      "cell_type": "code",
      "execution_count": null,
      "metadata": {
        "colab": {
          "base_uri": "https://localhost:8080/",
          "height": 299
        },
        "id": "AL8ay19Z_hHL",
        "outputId": "2fbbad58-5a7a-4d32-f488-b1fb7500f067"
      },
      "outputs": [
        {
          "data": {
            "text/html": [
              "\n",
              "  <div id=\"df-e0168422-6d95-417b-8ff8-8716853e9206\">\n",
              "    <div class=\"colab-df-container\">\n",
              "      <div>\n",
              "<style scoped>\n",
              "    .dataframe tbody tr th:only-of-type {\n",
              "        vertical-align: middle;\n",
              "    }\n",
              "\n",
              "    .dataframe tbody tr th {\n",
              "        vertical-align: top;\n",
              "    }\n",
              "\n",
              "    .dataframe thead th {\n",
              "        text-align: right;\n",
              "    }\n",
              "</style>\n",
              "<table border=\"1\" class=\"dataframe\">\n",
              "  <thead>\n",
              "    <tr style=\"text-align: right;\">\n",
              "      <th></th>\n",
              "      <th>Concurso</th>\n",
              "      <th>Data_Sorteio</th>\n",
              "      <th>Bola1</th>\n",
              "      <th>Bola2</th>\n",
              "      <th>Bola3</th>\n",
              "      <th>Bola4</th>\n",
              "      <th>Bola5</th>\n",
              "      <th>Bola6</th>\n",
              "      <th>Bola7</th>\n",
              "      <th>Bola8</th>\n",
              "      <th>...</th>\n",
              "      <th>Ganhadores_12_Números</th>\n",
              "      <th>Ganhadores_11_Números</th>\n",
              "      <th>Valor_Rateio_15_Números</th>\n",
              "      <th>Valor_Rateio_14_Números</th>\n",
              "      <th>Valor_Rateio_13_Números</th>\n",
              "      <th>Valor_Rateio_12_Números</th>\n",
              "      <th>Valor_Rateio_11_Números</th>\n",
              "      <th>Acumulado_15_Números</th>\n",
              "      <th>Estimativa_Prêmio</th>\n",
              "      <th>Valor_Acumulado_Especial</th>\n",
              "    </tr>\n",
              "  </thead>\n",
              "  <tbody>\n",
              "    <tr>\n",
              "      <th>0</th>\n",
              "      <td>1</td>\n",
              "      <td>29/09/2003</td>\n",
              "      <td>2.0</td>\n",
              "      <td>3.0</td>\n",
              "      <td>5.0</td>\n",
              "      <td>6.0</td>\n",
              "      <td>9.0</td>\n",
              "      <td>10.0</td>\n",
              "      <td>11.0</td>\n",
              "      <td>13.0</td>\n",
              "      <td>...</td>\n",
              "      <td>48807.0</td>\n",
              "      <td>257593.0</td>\n",
              "      <td>R$49.765,82</td>\n",
              "      <td>R$689,84</td>\n",
              "      <td>R$10,00</td>\n",
              "      <td>R$4,00</td>\n",
              "      <td>R$2,00</td>\n",
              "      <td>R$0,00</td>\n",
              "      <td>R$0,00</td>\n",
              "      <td>R$0,00</td>\n",
              "    </tr>\n",
              "    <tr>\n",
              "      <th>4</th>\n",
              "      <td>2</td>\n",
              "      <td>06/10/2003</td>\n",
              "      <td>1.0</td>\n",
              "      <td>4.0</td>\n",
              "      <td>5.0</td>\n",
              "      <td>6.0</td>\n",
              "      <td>7.0</td>\n",
              "      <td>9.0</td>\n",
              "      <td>11.0</td>\n",
              "      <td>12.0</td>\n",
              "      <td>...</td>\n",
              "      <td>81252.0</td>\n",
              "      <td>478188.0</td>\n",
              "      <td>R$596.323,70</td>\n",
              "      <td>R$1.388,95</td>\n",
              "      <td>R$10,00</td>\n",
              "      <td>R$4,00</td>\n",
              "      <td>R$2,00</td>\n",
              "      <td>R$0,00</td>\n",
              "      <td>R$0,00</td>\n",
              "      <td>R$0,00</td>\n",
              "    </tr>\n",
              "    <tr>\n",
              "      <th>6</th>\n",
              "      <td>3</td>\n",
              "      <td>13/10/2003</td>\n",
              "      <td>1.0</td>\n",
              "      <td>4.0</td>\n",
              "      <td>6.0</td>\n",
              "      <td>7.0</td>\n",
              "      <td>8.0</td>\n",
              "      <td>9.0</td>\n",
              "      <td>10.0</td>\n",
              "      <td>11.0</td>\n",
              "      <td>...</td>\n",
              "      <td>96244.0</td>\n",
              "      <td>608211.0</td>\n",
              "      <td>R$400.623,70</td>\n",
              "      <td>R$2.173,36</td>\n",
              "      <td>R$10,00</td>\n",
              "      <td>R$4,00</td>\n",
              "      <td>R$2,00</td>\n",
              "      <td>R$0,00</td>\n",
              "      <td>R$0,00</td>\n",
              "      <td>R$0,00</td>\n",
              "    </tr>\n",
              "    <tr>\n",
              "      <th>8</th>\n",
              "      <td>4</td>\n",
              "      <td>20/10/2003</td>\n",
              "      <td>1.0</td>\n",
              "      <td>2.0</td>\n",
              "      <td>4.0</td>\n",
              "      <td>5.0</td>\n",
              "      <td>8.0</td>\n",
              "      <td>10.0</td>\n",
              "      <td>12.0</td>\n",
              "      <td>13.0</td>\n",
              "      <td>...</td>\n",
              "      <td>123912.0</td>\n",
              "      <td>706657.0</td>\n",
              "      <td>R$902.226,02</td>\n",
              "      <td>R$1.498,72</td>\n",
              "      <td>R$10,00</td>\n",
              "      <td>R$4,00</td>\n",
              "      <td>R$2,00</td>\n",
              "      <td>R$0,00</td>\n",
              "      <td>R$0,00</td>\n",
              "      <td>R$0,00</td>\n",
              "    </tr>\n",
              "    <tr>\n",
              "      <th>10</th>\n",
              "      <td>5</td>\n",
              "      <td>27/10/2003</td>\n",
              "      <td>1.0</td>\n",
              "      <td>2.0</td>\n",
              "      <td>4.0</td>\n",
              "      <td>8.0</td>\n",
              "      <td>9.0</td>\n",
              "      <td>11.0</td>\n",
              "      <td>12.0</td>\n",
              "      <td>13.0</td>\n",
              "      <td>...</td>\n",
              "      <td>195636.0</td>\n",
              "      <td>860992.0</td>\n",
              "      <td>R$380.017,55</td>\n",
              "      <td>R$687,49</td>\n",
              "      <td>R$10,00</td>\n",
              "      <td>R$4,00</td>\n",
              "      <td>R$2,00</td>\n",
              "      <td>R$0,00</td>\n",
              "      <td>R$0,00</td>\n",
              "      <td>R$0,00</td>\n",
              "    </tr>\n",
              "  </tbody>\n",
              "</table>\n",
              "<p>5 rows × 32 columns</p>\n",
              "</div>\n",
              "      <button class=\"colab-df-convert\" onclick=\"convertToInteractive('df-e0168422-6d95-417b-8ff8-8716853e9206')\"\n",
              "              title=\"Convert this dataframe to an interactive table.\"\n",
              "              style=\"display:none;\">\n",
              "        \n",
              "  <svg xmlns=\"http://www.w3.org/2000/svg\" height=\"24px\"viewBox=\"0 0 24 24\"\n",
              "       width=\"24px\">\n",
              "    <path d=\"M0 0h24v24H0V0z\" fill=\"none\"/>\n",
              "    <path d=\"M18.56 5.44l.94 2.06.94-2.06 2.06-.94-2.06-.94-.94-2.06-.94 2.06-2.06.94zm-11 1L8.5 8.5l.94-2.06 2.06-.94-2.06-.94L8.5 2.5l-.94 2.06-2.06.94zm10 10l.94 2.06.94-2.06 2.06-.94-2.06-.94-.94-2.06-.94 2.06-2.06.94z\"/><path d=\"M17.41 7.96l-1.37-1.37c-.4-.4-.92-.59-1.43-.59-.52 0-1.04.2-1.43.59L10.3 9.45l-7.72 7.72c-.78.78-.78 2.05 0 2.83L4 21.41c.39.39.9.59 1.41.59.51 0 1.02-.2 1.41-.59l7.78-7.78 2.81-2.81c.8-.78.8-2.07 0-2.86zM5.41 20L4 18.59l7.72-7.72 1.47 1.35L5.41 20z\"/>\n",
              "  </svg>\n",
              "      </button>\n",
              "      \n",
              "  <style>\n",
              "    .colab-df-container {\n",
              "      display:flex;\n",
              "      flex-wrap:wrap;\n",
              "      gap: 12px;\n",
              "    }\n",
              "\n",
              "    .colab-df-convert {\n",
              "      background-color: #E8F0FE;\n",
              "      border: none;\n",
              "      border-radius: 50%;\n",
              "      cursor: pointer;\n",
              "      display: none;\n",
              "      fill: #1967D2;\n",
              "      height: 32px;\n",
              "      padding: 0 0 0 0;\n",
              "      width: 32px;\n",
              "    }\n",
              "\n",
              "    .colab-df-convert:hover {\n",
              "      background-color: #E2EBFA;\n",
              "      box-shadow: 0px 1px 2px rgba(60, 64, 67, 0.3), 0px 1px 3px 1px rgba(60, 64, 67, 0.15);\n",
              "      fill: #174EA6;\n",
              "    }\n",
              "\n",
              "    [theme=dark] .colab-df-convert {\n",
              "      background-color: #3B4455;\n",
              "      fill: #D2E3FC;\n",
              "    }\n",
              "\n",
              "    [theme=dark] .colab-df-convert:hover {\n",
              "      background-color: #434B5C;\n",
              "      box-shadow: 0px 1px 3px 1px rgba(0, 0, 0, 0.15);\n",
              "      filter: drop-shadow(0px 1px 2px rgba(0, 0, 0, 0.3));\n",
              "      fill: #FFFFFF;\n",
              "    }\n",
              "  </style>\n",
              "\n",
              "      <script>\n",
              "        const buttonEl =\n",
              "          document.querySelector('#df-e0168422-6d95-417b-8ff8-8716853e9206 button.colab-df-convert');\n",
              "        buttonEl.style.display =\n",
              "          google.colab.kernel.accessAllowed ? 'block' : 'none';\n",
              "\n",
              "        async function convertToInteractive(key) {\n",
              "          const element = document.querySelector('#df-e0168422-6d95-417b-8ff8-8716853e9206');\n",
              "          const dataTable =\n",
              "            await google.colab.kernel.invokeFunction('convertToInteractive',\n",
              "                                                     [key], {});\n",
              "          if (!dataTable) return;\n",
              "\n",
              "          const docLinkHtml = 'Like what you see? Visit the ' +\n",
              "            '<a target=\"_blank\" href=https://colab.research.google.com/notebooks/data_table.ipynb>data table notebook</a>'\n",
              "            + ' to learn more about interactive tables.';\n",
              "          element.innerHTML = '';\n",
              "          dataTable['output_type'] = 'display_data';\n",
              "          await google.colab.output.renderOutput(dataTable, element);\n",
              "          const docLink = document.createElement('div');\n",
              "          docLink.innerHTML = docLinkHtml;\n",
              "          element.appendChild(docLink);\n",
              "        }\n",
              "      </script>\n",
              "    </div>\n",
              "  </div>\n",
              "  "
            ],
            "text/plain": [
              "   Concurso Data_Sorteio  Bola1  Bola2  Bola3  Bola4  Bola5  Bola6  Bola7  \\\n",
              "0         1   29/09/2003    2.0    3.0    5.0    6.0    9.0   10.0   11.0   \n",
              "4         2   06/10/2003    1.0    4.0    5.0    6.0    7.0    9.0   11.0   \n",
              "6         3   13/10/2003    1.0    4.0    6.0    7.0    8.0    9.0   10.0   \n",
              "8         4   20/10/2003    1.0    2.0    4.0    5.0    8.0   10.0   12.0   \n",
              "10        5   27/10/2003    1.0    2.0    4.0    8.0    9.0   11.0   12.0   \n",
              "\n",
              "    Bola8  ...  Ganhadores_12_Números  Ganhadores_11_Números  \\\n",
              "0    13.0  ...                48807.0               257593.0   \n",
              "4    12.0  ...                81252.0               478188.0   \n",
              "6    11.0  ...                96244.0               608211.0   \n",
              "8    13.0  ...               123912.0               706657.0   \n",
              "10   13.0  ...               195636.0               860992.0   \n",
              "\n",
              "    Valor_Rateio_15_Números  Valor_Rateio_14_Números  Valor_Rateio_13_Números  \\\n",
              "0               R$49.765,82                 R$689,84                  R$10,00   \n",
              "4              R$596.323,70               R$1.388,95                  R$10,00   \n",
              "6              R$400.623,70               R$2.173,36                  R$10,00   \n",
              "8              R$902.226,02               R$1.498,72                  R$10,00   \n",
              "10             R$380.017,55                 R$687,49                  R$10,00   \n",
              "\n",
              "    Valor_Rateio_12_Números  Valor_Rateio_11_Números Acumulado_15_Números  \\\n",
              "0                    R$4,00                   R$2,00               R$0,00   \n",
              "4                    R$4,00                   R$2,00               R$0,00   \n",
              "6                    R$4,00                   R$2,00               R$0,00   \n",
              "8                    R$4,00                   R$2,00               R$0,00   \n",
              "10                   R$4,00                   R$2,00               R$0,00   \n",
              "\n",
              "    Estimativa_Prêmio Valor_Acumulado_Especial  \n",
              "0              R$0,00                   R$0,00  \n",
              "4              R$0,00                   R$0,00  \n",
              "6              R$0,00                   R$0,00  \n",
              "8              R$0,00                   R$0,00  \n",
              "10             R$0,00                   R$0,00  \n",
              "\n",
              "[5 rows x 32 columns]"
            ]
          },
          "execution_count": 5,
          "metadata": {},
          "output_type": "execute_result"
        }
      ],
      "source": [
        "#Cria um Dataframe\n",
        "df = pd.read_html(r_text) #lê os dados\n",
        "df = df[0].copy() #cria o dataframe\n",
        "df = df.dropna()  #remove os nulos\n",
        "df.columns = [col[4:-4] for col in df.columns]  #renomeia as colunas\n",
        "df.head()"
      ]
    },
    {
      "cell_type": "markdown",
      "metadata": {
        "id": "fv3A-X8vdkO4"
      },
      "source": [
        "#Transform"
      ]
    },
    {
      "cell_type": "code",
      "execution_count": null,
      "metadata": {
        "id": "yb1gnEDtL2uL"
      },
      "outputs": [],
      "source": [
        "#Identifica se um número é par ou ímpar\n",
        "def qual_tipo(num):\n",
        "  return (num % 2) == 0"
      ]
    },
    {
      "cell_type": "code",
      "execution_count": null,
      "metadata": {
        "id": "hwvr39sIKUbd"
      },
      "outputs": [],
      "source": [
        "#Transformações - Parte 1\n",
        "numeros = []\n",
        "cont_pares = []\n",
        "cont_impares = []\n",
        "row_pares = []\n",
        "\n",
        "for df_idx, row in df.iloc[:50,:18].iterrows(): #seleciona algumas linhas e colunas\n",
        "  for row_idx in row.index: #itera nos indices das linhas\n",
        "    if row_idx.startswith('Bola'):  #indice inicia com 'Bola'\n",
        "      num = row.loc[row_idx]  #coleta o numero\n",
        "      tipo = qual_tipo(num) #testa se é par(=True)\n",
        "      numeros.append(num)\n",
        "      row_pares.append(tipo)  #add o resultado na lista temporária da linha\n",
        "  \n",
        "  total_p_row = sum(row_pares) #soma os pares da linha\n",
        "  cont_pares.append(total_p_row)  #add o valor a lista geral\n",
        "  cont_impares.append(15-total_p_row)  #add de impares a lista geral\n",
        "  row_pares.clear() #limpa a lista de pares\n",
        "  total_p_row = 0 #zera a soma\n"
      ]
    },
    {
      "cell_type": "code",
      "execution_count": null,
      "metadata": {
        "colab": {
          "base_uri": "https://localhost:8080/",
          "height": 206
        },
        "id": "_so6-7kwQPsy",
        "outputId": "d3342f73-af29-4717-83ab-8c300ebd18d4"
      },
      "outputs": [
        {
          "data": {
            "text/html": [
              "\n",
              "  <div id=\"df-9e09f428-1e5f-4a2e-bc63-7e7a623ef0c3\">\n",
              "    <div class=\"colab-df-container\">\n",
              "      <div>\n",
              "<style scoped>\n",
              "    .dataframe tbody tr th:only-of-type {\n",
              "        vertical-align: middle;\n",
              "    }\n",
              "\n",
              "    .dataframe tbody tr th {\n",
              "        vertical-align: top;\n",
              "    }\n",
              "\n",
              "    .dataframe thead th {\n",
              "        text-align: right;\n",
              "    }\n",
              "</style>\n",
              "<table border=\"1\" class=\"dataframe\">\n",
              "  <thead>\n",
              "    <tr style=\"text-align: right;\">\n",
              "      <th></th>\n",
              "      <th>Número</th>\n",
              "      <th>Frequencia</th>\n",
              "      <th>p_freq</th>\n",
              "    </tr>\n",
              "  </thead>\n",
              "  <tbody>\n",
              "    <tr>\n",
              "      <th>18</th>\n",
              "      <td>12.0</td>\n",
              "      <td>22</td>\n",
              "      <td>0.029333</td>\n",
              "    </tr>\n",
              "    <tr>\n",
              "      <th>10</th>\n",
              "      <td>18.0</td>\n",
              "      <td>22</td>\n",
              "      <td>0.029333</td>\n",
              "    </tr>\n",
              "    <tr>\n",
              "      <th>1</th>\n",
              "      <td>3.0</td>\n",
              "      <td>23</td>\n",
              "      <td>0.030667</td>\n",
              "    </tr>\n",
              "    <tr>\n",
              "      <th>24</th>\n",
              "      <td>22.0</td>\n",
              "      <td>24</td>\n",
              "      <td>0.032000</td>\n",
              "    </tr>\n",
              "    <tr>\n",
              "      <th>19</th>\n",
              "      <td>15.0</td>\n",
              "      <td>25</td>\n",
              "      <td>0.033333</td>\n",
              "    </tr>\n",
              "  </tbody>\n",
              "</table>\n",
              "</div>\n",
              "      <button class=\"colab-df-convert\" onclick=\"convertToInteractive('df-9e09f428-1e5f-4a2e-bc63-7e7a623ef0c3')\"\n",
              "              title=\"Convert this dataframe to an interactive table.\"\n",
              "              style=\"display:none;\">\n",
              "        \n",
              "  <svg xmlns=\"http://www.w3.org/2000/svg\" height=\"24px\"viewBox=\"0 0 24 24\"\n",
              "       width=\"24px\">\n",
              "    <path d=\"M0 0h24v24H0V0z\" fill=\"none\"/>\n",
              "    <path d=\"M18.56 5.44l.94 2.06.94-2.06 2.06-.94-2.06-.94-.94-2.06-.94 2.06-2.06.94zm-11 1L8.5 8.5l.94-2.06 2.06-.94-2.06-.94L8.5 2.5l-.94 2.06-2.06.94zm10 10l.94 2.06.94-2.06 2.06-.94-2.06-.94-.94-2.06-.94 2.06-2.06.94z\"/><path d=\"M17.41 7.96l-1.37-1.37c-.4-.4-.92-.59-1.43-.59-.52 0-1.04.2-1.43.59L10.3 9.45l-7.72 7.72c-.78.78-.78 2.05 0 2.83L4 21.41c.39.39.9.59 1.41.59.51 0 1.02-.2 1.41-.59l7.78-7.78 2.81-2.81c.8-.78.8-2.07 0-2.86zM5.41 20L4 18.59l7.72-7.72 1.47 1.35L5.41 20z\"/>\n",
              "  </svg>\n",
              "      </button>\n",
              "      \n",
              "  <style>\n",
              "    .colab-df-container {\n",
              "      display:flex;\n",
              "      flex-wrap:wrap;\n",
              "      gap: 12px;\n",
              "    }\n",
              "\n",
              "    .colab-df-convert {\n",
              "      background-color: #E8F0FE;\n",
              "      border: none;\n",
              "      border-radius: 50%;\n",
              "      cursor: pointer;\n",
              "      display: none;\n",
              "      fill: #1967D2;\n",
              "      height: 32px;\n",
              "      padding: 0 0 0 0;\n",
              "      width: 32px;\n",
              "    }\n",
              "\n",
              "    .colab-df-convert:hover {\n",
              "      background-color: #E2EBFA;\n",
              "      box-shadow: 0px 1px 2px rgba(60, 64, 67, 0.3), 0px 1px 3px 1px rgba(60, 64, 67, 0.15);\n",
              "      fill: #174EA6;\n",
              "    }\n",
              "\n",
              "    [theme=dark] .colab-df-convert {\n",
              "      background-color: #3B4455;\n",
              "      fill: #D2E3FC;\n",
              "    }\n",
              "\n",
              "    [theme=dark] .colab-df-convert:hover {\n",
              "      background-color: #434B5C;\n",
              "      box-shadow: 0px 1px 3px 1px rgba(0, 0, 0, 0.15);\n",
              "      filter: drop-shadow(0px 1px 2px rgba(0, 0, 0, 0.3));\n",
              "      fill: #FFFFFF;\n",
              "    }\n",
              "  </style>\n",
              "\n",
              "      <script>\n",
              "        const buttonEl =\n",
              "          document.querySelector('#df-9e09f428-1e5f-4a2e-bc63-7e7a623ef0c3 button.colab-df-convert');\n",
              "        buttonEl.style.display =\n",
              "          google.colab.kernel.accessAllowed ? 'block' : 'none';\n",
              "\n",
              "        async function convertToInteractive(key) {\n",
              "          const element = document.querySelector('#df-9e09f428-1e5f-4a2e-bc63-7e7a623ef0c3');\n",
              "          const dataTable =\n",
              "            await google.colab.kernel.invokeFunction('convertToInteractive',\n",
              "                                                     [key], {});\n",
              "          if (!dataTable) return;\n",
              "\n",
              "          const docLinkHtml = 'Like what you see? Visit the ' +\n",
              "            '<a target=\"_blank\" href=https://colab.research.google.com/notebooks/data_table.ipynb>data table notebook</a>'\n",
              "            + ' to learn more about interactive tables.';\n",
              "          element.innerHTML = '';\n",
              "          dataTable['output_type'] = 'display_data';\n",
              "          await google.colab.output.renderOutput(dataTable, element);\n",
              "          const docLink = document.createElement('div');\n",
              "          docLink.innerHTML = docLinkHtml;\n",
              "          element.appendChild(docLink);\n",
              "        }\n",
              "      </script>\n",
              "    </div>\n",
              "  </div>\n",
              "  "
            ],
            "text/plain": [
              "    Número  Frequencia    p_freq\n",
              "18    12.0          22  0.029333\n",
              "10    18.0          22  0.029333\n",
              "1      3.0          23  0.030667\n",
              "24    22.0          24  0.032000\n",
              "19    15.0          25  0.033333"
            ]
          },
          "execution_count": 26,
          "metadata": {},
          "output_type": "execute_result"
        }
      ],
      "source": [
        "#Transformações - Parte 2\n",
        "counter = collections.Counter(numeros)\n",
        "resultado = pd.DataFrame(counter.items(), columns=['Número', 'Frequencia'])\n",
        "resultado['p_freq'] = resultado['Frequencia']/resultado['Frequencia'].sum()\n",
        "resultado = resultado.sort_values(by='p_freq')\n",
        "resultado.head()"
      ]
    },
    {
      "cell_type": "code",
      "execution_count": null,
      "metadata": {
        "colab": {
          "base_uri": "https://localhost:8080/"
        },
        "id": "89UE2Rvcz-lr",
        "outputId": "ca87ad00-0109-49e5-d052-7171e21fc878"
      },
      "outputs": [
        {
          "name": "stdout",
          "output_type": "stream",
          "text": [
            "\n",
            "O número mais frequente é o: 19.0\n",
            "O número menos frequente é o: 12.0\n",
            "O máximo e mínimo de pares em uma rodada é, respectivamente: 9 e 5\n",
            "O máximo e mínimo de impares em uma rodada é, respectivamente: 10 e 6\n",
            "\n",
            "\n"
          ]
        }
      ],
      "source": [
        "print('''\n",
        "O número mais frequente é o: {}\n",
        "O número menos frequente é o: {}\n",
        "O máximo e mínimo de pares em uma rodada é, respectivamente: {} e {}\n",
        "O máximo e mínimo de impares em uma rodada é, respectivamente: {} e {}\n",
        "\n",
        "'''.format(resultado.iloc[-1,0], resultado.iloc[0,0], max(cont_pares), min(cont_pares), max(cont_impares), min(cont_impares))\n",
        ")\n"
      ]
    }
  ],
  "metadata": {
    "colab": {
      "provenance": []
    },
    "kernelspec": {
      "display_name": "base",
      "language": "python",
      "name": "python3"
    },
    "language_info": {
      "codemirror_mode": {
        "name": "ipython",
        "version": 3
      },
      "file_extension": ".py",
      "mimetype": "text/x-python",
      "name": "python",
      "nbconvert_exporter": "python",
      "pygments_lexer": "ipython3",
      "version": "3.9.7"
    },
    "vscode": {
      "interpreter": {
        "hash": "112989f40982219f9c2133127490be09f86560db102a13a350eb86b01002b443"
      }
    }
  },
  "nbformat": 4,
  "nbformat_minor": 0
}
