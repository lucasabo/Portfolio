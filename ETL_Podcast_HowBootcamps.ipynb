{
  "nbformat": 4,
  "nbformat_minor": 0,
  "metadata": {
    "colab": {
      "provenance": []
    },
    "kernelspec": {
      "name": "python3",
      "display_name": "Python 3"
    },
    "language_info": {
      "name": "python"
    }
  },
  "cells": [
    {
      "cell_type": "markdown",
      "source": [
        "# ETL - Podcast Café Brasil"
      ],
      "metadata": {
        "id": "CF1IOX9pjlo7"
      }
    },
    {
      "cell_type": "markdown",
      "source": [
        "##Imports"
      ],
      "metadata": {
        "id": "FMD9Xz-9eJuy"
      }
    },
    {
      "cell_type": "code",
      "execution_count": 1,
      "metadata": {
        "id": "msIwFKqBjC1a"
      },
      "outputs": [],
      "source": [
        "import pandas as pd\n",
        "import requests\n",
        "from bs4 import BeautifulSoup as bs\n",
        "import logging"
      ]
    },
    {
      "cell_type": "markdown",
      "source": [
        "#Parte 1 - Extraindo os dados da página 1"
      ],
      "metadata": {
        "id": "sZS2Q9TgvXyq"
      }
    },
    {
      "cell_type": "code",
      "source": [
        "url = 'https://portalcafebrasil.com.br/todos/podcasts/'\n",
        "resp = requests.get(url)\n",
        "resp.text"
      ],
      "metadata": {
        "colab": {
          "base_uri": "https://localhost:8080/",
          "height": 146
        },
        "id": "LaHe4T06lgIl",
        "outputId": "241f9bbd-62b6-4818-a44e-eae1b2b58ed5"
      },
      "execution_count": 2,
      "outputs": [
        {
          "output_type": "execute_result",
          "data": {
            "text/plain": [
              "'\\t<!DOCTYPE html>\\n<html lang=\"pt-br\">\\n<head>\\n    <meta charset=\"utf-8\">\\n    <meta http-equiv=\"X-UA-Compatible\" content=\"IE=edge\">\\n    <meta name=\"viewport\" content=\"width=device-width, initial-scale=1\">\\n            <title>Arquivos Podcasts - Café Brasil</title>\\n        <link href=\\'https://fonts.googleapis.com/css?family=Open+Sans:400,600,700\\' rel=\\'stylesheet\\' type=\\'text/css\\'>\\n        <link href=\"https://portalcafebrasil.com.br/wp-content/themes/xpirit/css/bootstrap.min.css\" rel=\"stylesheet\">\\n    <link href=\"https://portalcafebrasil.com.br/wp-content/themes/xpirit/style.css\" rel=\"stylesheet\">\\n        <!--[if lt IE 9]>\\n          <script src=\"https://oss.maxcdn.com/html5shiv/3.7.2/html5shiv.min.js\"></script>\\n          <script src=\"https://oss.maxcdn.com/respond/1.4.2/respond.min.js\"></script>\\n          <![endif]-->\\n          \\n        <meta name=\\'robots\\' content=\\'index, follow, max-image-preview:large, max-snippet:-1, max-video-preview:-1\\' />\\n\\n<!-- Google Tag Manager for WordPress by gtm4wp.com -->\\n<script data-cfasync=\"false\" data-pagespeed-no-defer>\\n\\tvar gtm4wp_datalayer_name = \"dataLayer\";\\n\\tvar dataLayer = dataLayer || [];\\n</script>\\n<!-- End Google Tag Manager for WordPress by gtm4wp.com -->\\n\\t<!-- This site is optimized with the Yoast SEO plugin v17.6 - https://yoast.com/wordpress/plugins/seo/ -->\\n\\t<link rel=\"canonical\" href=\"https://portalcafebrasil.com.br/todos/podcasts/\" />\\n\\t<link rel=\"next\" href=\"https://portalcafebrasil.com.br/todos/podcasts/page/2/\" />\\n\\t<meta property=\"og:locale\" content=\"pt_BR\" />\\n\\t<meta property=\"og:type\" content=\"article\" />\\n\\t<meta property=\"og:title\" content=\"Arquivos Podcasts - Café Brasil\" />\\n\\t<meta property=\"og:url\" content=\"https://portalcafebrasil.com.br/todos/podcasts/\" />\\n\\t<meta property=\"og:site_name\" content=\"Café Brasil\" />\\n\\t<meta property=\"og:image\" content=\"https://portalcafebrasil.com.br/wp-content/uploads/2017/03/Cafe-Brasil-999-Hotel-California-m4a-image.png\" />\\n\\t<meta property=\"og:image:width\" content=\"1400\" />\\n\\t<meta property=\"og:image:height\" content=\"1400\" />\\n\\t<meta name=\"twitter:card\" content=\"summary_large_image\" />\\n\\t<script type=\"application/ld+json\" class=\"yoast-schema-graph\">{\"@context\":\"https://schema.org\",\"@graph\":[{\"@type\":\"WebSite\",\"@id\":\"https://portalcafebrasil.com.br/#website\",\"url\":\"https://portalcafebrasil.com.br/\",\"name\":\"Caf\\\\u00e9 Brasil\",\"description\":\"Viemos para \\\\u201cdespocotizar\\\\u201d o Brasil!\",\"potentialAction\":[{\"@type\":\"SearchAction\",\"target\":{\"@type\":\"EntryPoint\",\"urlTemplate\":\"https://portalcafebrasil.com.br/?s={search_term_string}\"},\"query-input\":\"required name=search_term_string\"}],\"inLanguage\":\"pt-BR\"},{\"@type\":\"CollectionPage\",\"@id\":\"https://portalcafebrasil.com.br/todos/podcasts/#webpage\",\"url\":\"https://portalcafebrasil.com.br/todos/podcasts/\",\"name\":\"Arquivos Podcasts - Caf\\\\u00e9 Brasil\",\"isPartOf\":{\"@id\":\"https://portalcafebrasil.com.br/#website\"},\"breadcrumb\":{\"@id\":\"https://portalcafebrasil.com.br/todos/podcasts/#breadcrumb\"},\"inLanguage\":\"pt-BR\",\"potentialAction\":[{\"@type\":\"ReadAction\",\"target\":[\"https://portalcafebrasil.com.br/todos/podcasts/\"]}]},{\"@type\":\"BreadcrumbList\",\"@id\":\"https://portalcafebrasil.com.br/todos/podcasts/#breadcrumb\",\"itemListElement\":[{\"@type\":\"ListItem\",\"position\":1,\"name\":\"In\\\\u00edcio\",\"item\":\"https://portalcafebrasil.com.br/\"},{\"@type\":\"ListItem\",\"position\":2,\"name\":\"Podcasts\"}]}]}</script>\\n\\t<!-- / Yoast SEO plugin. -->\\n\\n\\n<link rel=\\'dns-prefetch\\' href=\\'//www.googletagmanager.com\\' />\\n<link rel=\"alternate\" type=\"application/rss+xml\" title=\"Feed de categoria para Café Brasil &raquo; Podcasts\" href=\"https://portalcafebrasil.com.br/todos/podcasts/feed/\" />\\n<script type=\"text/javascript\">\\nwindow._wpemojiSettings = {\"baseUrl\":\"https:\\\\/\\\\/s.w.org\\\\/images\\\\/core\\\\/emoji\\\\/14.0.0\\\\/72x72\\\\/\",\"ext\":\".png\",\"svgUrl\":\"https:\\\\/\\\\/s.w.org\\\\/images\\\\/core\\\\/emoji\\\\/14.0.0\\\\/svg\\\\/\",\"svgExt\":\".svg\",\"source\":{\"concatemoji\":\"https:\\\\/\\\\/portalcafebrasil.com.br\\\\/wp-includes\\\\/js\\\\/wp-emoji-release.min.js?ver=6.1.1\"}};\\n/*! This file is auto-generated */\\n!function(e,a,t){var n,r,o,i=a.createElement(\"canvas\"),p=i.getContext&&i.getContext(\"2d\");function s(e,t){var a=String.fromCharCode,e=(p.clearRect(0,0,i.width,i.height),p.fillText(a.apply(this,e),0,0),i.toDataURL());return p.clearRect(0,0,i.width,i.height),p.fillText(a.apply(this,t),0,0),e===i.toDataURL()}function c(e){var t=a.createElement(\"script\");t.src=e,t.defer=t.type=\"text/javascript\",a.getElementsByTagName(\"head\")[0].appendChild(t)}for(o=Array(\"flag\",\"emoji\"),t.supports={everything:!0,everythingExceptFlag:!0},r=0;r<o.length;r++)t.supports[o[r]]=function(e){if(p&&p.fillText)switch(p.textBaseline=\"top\",p.font=\"600 32px Arial\",e){case\"flag\":return s([127987,65039,8205,9895,65039],[127987,65039,8203,9895,65039])?!1:!s([55356,56826,55356,56819],[55356,56826,8203,55356,56819])&&!s([55356,57332,56128,56423,56128,56418,56128,56421,56128,56430,56128,56423,56128,56447],[55356,57332,8203,56128,56423,8203,56128,56418,8203,56128,56421,8203,56128,56430,8203,56128,56423,8203,56128,56447]);case\"emoji\":return!s([129777,127995,8205,129778,127999],[129777,127995,8203,129778,127999])}return!1}(o[r]),t.supports.everything=t.supports.everything&&t.supports[o[r]],\"flag\"!==o[r]&&(t.supports.everythingExceptFlag=t.supports.everythingExceptFlag&&t.supports[o[r]]);t.supports.everythingExceptFlag=t.supports.everythingExceptFlag&&!t.supports.flag,t.DOMReady=!1,t.readyCallback=function(){t.DOMReady=!0},t.supports.everything||(n=function(){t.readyCallback()},a.addEventListener?(a.addEventListener(\"DOMContentLoaded\",n,!1),e.addEventListener(\"load\",n,!1)):(e.attachEvent(\"onload\",n),a.attachEvent(\"onreadystatechange\",function(){\"complete\"===a.readyState&&t.readyCallback()})),(e=t.source||{}).concatemoji?c(e.concatemoji):e.wpemoji&&e.twemoji&&(c(e.twemoji),c(e.wpemoji)))}(window,document,window._wpemojiSettings);\\n</script>\\n<style type=\"text/css\">\\nimg.wp-smiley,\\nimg.emoji {\\n\\tdisplay: inline !important;\\n\\tborder: none !important;\\n\\tbox-shadow: none !important;\\n\\theight: 1em !important;\\n\\twidth: 1em !important;\\n\\tmargin: 0 0.07em !important;\\n\\tvertical-align: -0.1em !important;\\n\\tbackground: none !important;\\n\\tpadding: 0 !important;\\n}\\n</style>\\n\\t<link rel=\\'stylesheet\\' id=\\'wp-block-library-css\\' href=\\'https://portalcafebrasil.com.br/wp-includes/css/dist/block-library/style.min.css?ver=6.1.1\\' type=\\'text/css\\' media=\\'all\\' />\\n<link rel=\\'stylesheet\\' id=\\'classic-theme-styles-css\\' href=\\'https://portalcafebrasil.com.br/wp-includes/css/classic-themes.min.css?ver=1\\' type=\\'text/css\\' media=\\'all\\' />\\n<style id=\\'global-styles-inline-css\\' type=\\'text/css\\'>\\nbody{--wp--preset--color--black: #000000;--wp--preset--color--cyan-bluish-gray: #abb8c3;--wp--preset--color--white: #ffffff;--wp--preset--color--pale-pink: #f78da7;--wp--preset--color--vivid-red: #cf2e2e;--wp--preset--color--luminous-vivid-orange: #ff6900;--wp--preset--color--luminous-vivid-amber: #fcb900;--wp--preset--color--light-green-cyan: #7bdcb5;--wp--preset--color--vivid-green-cyan: #00d084;--wp--preset--color--pale-cyan-blue: #8ed1fc;--wp--preset--color--vivid-cyan-blue: #0693e3;--wp--preset--color--vivid-purple: #9b51e0;--wp--preset--gradient--vivid-cyan-blue-to-vivid-purple: linear-gradient(135deg,rgba(6,147,227,1) 0%,rgb(155,81,224) 100%);--wp--preset--gradient--light-green-cyan-to-vivid-green-cyan: linear-gradient(135deg,rgb(122,220,180) 0%,rgb(0,208,130) 100%);--wp--preset--gradient--luminous-vivid-amber-to-luminous-vivid-orange: linear-gradient(135deg,rgba(252,185,0,1) 0%,rgba(255,105,0,1) 100%);--wp--preset--gradient--luminous-vivid-orange-to-vivid-red: linear-gradient(135deg,rgba(255,105,0,1) 0%,rgb(207,46,46) 100%);--wp--preset--gradient--very-light-gray-to-cyan-bluish-gray: linear-gradient(135deg,rgb(238,238,238) 0%,rgb(169,184,195) 100%);--wp--preset--gradient--cool-to-warm-spectrum: linear-gradient(135deg,rgb(74,234,220) 0%,rgb(151,120,209) 20%,rgb(207,42,186) 40%,rgb(238,44,130) 60%,rgb(251,105,98) 80%,rgb(254,248,76) 100%);--wp--preset--gradient--blush-light-purple: linear-gradient(135deg,rgb(255,206,236) 0%,rgb(152,150,240) 100%);--wp--preset--gradient--blush-bordeaux: linear-gradient(135deg,rgb(254,205,165) 0%,rgb(254,45,45) 50%,rgb(107,0,62) 100%);--wp--preset--gradient--luminous-dusk: linear-gradient(135deg,rgb(255,203,112) 0%,rgb(199,81,192) 50%,rgb(65,88,208) 100%);--wp--preset--gradient--pale-ocean: linear-gradient(135deg,rgb(255,245,203) 0%,rgb(182,227,212) 50%,rgb(51,167,181) 100%);--wp--preset--gradient--electric-grass: linear-gradient(135deg,rgb(202,248,128) 0%,rgb(113,206,126) 100%);--wp--preset--gradient--midnight: linear-gradient(135deg,rgb(2,3,129) 0%,rgb(40,116,252) 100%);--wp--preset--duotone--dark-grayscale: url(\\'#wp-duotone-dark-grayscale\\');--wp--preset--duotone--grayscale: url(\\'#wp-duotone-grayscale\\');--wp--preset--duotone--purple-yellow: url(\\'#wp-duotone-purple-yellow\\');--wp--preset--duotone--blue-red: url(\\'#wp-duotone-blue-red\\');--wp--preset--duotone--midnight: url(\\'#wp-duotone-midnight\\');--wp--preset--duotone--magenta-yellow: url(\\'#wp-duotone-magenta-yellow\\');--wp--preset--duotone--purple-green: url(\\'#wp-duotone-purple-green\\');--wp--preset--duotone--blue-orange: url(\\'#wp-duotone-blue-orange\\');--wp--preset--font-size--small: 13px;--wp--preset--font-size--medium: 20px;--wp--preset--font-size--large: 36px;--wp--preset--font-size--x-large: 42px;--wp--preset--spacing--20: 0.44rem;--wp--preset--spacing--30: 0.67rem;--wp--preset--spacing--40: 1rem;--wp--preset--spacing--50: 1.5rem;--wp--preset--spacing--60: 2.25rem;--wp--preset--spacing--70: 3.38rem;--wp--preset--spacing--80: 5.06rem;}:where(.is-layout-flex){gap: 0.5em;}body .is-layout-flow > .alignleft{float: left;margin-inline-start: 0;margin-inline-end: 2em;}body .is-layout-flow > .alignright{float: right;margin-inline-start: 2em;margin-inline-end: 0;}body .is-layout-flow > .aligncenter{margin-left: auto !important;margin-right: auto !important;}body .is-layout-constrained > .alignleft{float: left;margin-inline-start: 0;margin-inline-end: 2em;}body .is-layout-constrained > .alignright{float: right;margin-inline-start: 2em;margin-inline-end: 0;}body .is-layout-constrained > .aligncenter{margin-left: auto !important;margin-right: auto !important;}body .is-layout-constrained > :where(:not(.alignleft):not(.alignright):not(.alignfull)){max-width: var(--wp--style--global--content-size);margin-left: auto !important;margin-right: auto !important;}body .is-layout-constrained > .alignwide{max-width: var(--wp--style--global--wide-size);}body .is-layout-flex{display: flex;}body .is-layout-flex{flex-wrap: wrap;align-items: center;}body .is-layout-flex > *{margin: 0;}:where(.wp-block-columns.is-layout-flex){gap: 2em;}.has-black-color{color: var(--wp--preset--color--black) !important;}.has-cyan-bluish-gray-color{color: var(--wp--preset--color--cyan-bluish-gray) !important;}.has-white-color{color: var(--wp--preset--color--white) !important;}.has-pale-pink-color{color: var(--wp--preset--color--pale-pink) !important;}.has-vivid-red-color{color: var(--wp--preset--color--vivid-red) !important;}.has-luminous-vivid-orange-color{color: var(--wp--preset--color--luminous-vivid-orange) !important;}.has-luminous-vivid-amber-color{color: var(--wp--preset--color--luminous-vivid-amber) !important;}.has-light-green-cyan-color{color: var(--wp--preset--color--light-green-cyan) !important;}.has-vivid-green-cyan-color{color: var(--wp--preset--color--vivid-green-cyan) !important;}.has-pale-cyan-blue-color{color: var(--wp--preset--color--pale-cyan-blue) !important;}.has-vivid-cyan-blue-color{color: var(--wp--preset--color--vivid-cyan-blue) !important;}.has-vivid-purple-color{color: var(--wp--preset--color--vivid-purple) !important;}.has-black-background-color{background-color: var(--wp--preset--color--black) !important;}.has-cyan-bluish-gray-background-color{background-color: var(--wp--preset--color--cyan-bluish-gray) !important;}.has-white-background-color{background-color: var(--wp--preset--color--white) !important;}.has-pale-pink-background-color{background-color: var(--wp--preset--color--pale-pink) !important;}.has-vivid-red-background-color{background-color: var(--wp--preset--color--vivid-red) !important;}.has-luminous-vivid-orange-background-color{background-color: var(--wp--preset--color--luminous-vivid-orange) !important;}.has-luminous-vivid-amber-background-color{background-color: var(--wp--preset--color--luminous-vivid-amber) !important;}.has-light-green-cyan-background-color{background-color: var(--wp--preset--color--light-green-cyan) !important;}.has-vivid-green-cyan-background-color{background-color: var(--wp--preset--color--vivid-green-cyan) !important;}.has-pale-cyan-blue-background-color{background-color: var(--wp--preset--color--pale-cyan-blue) !important;}.has-vivid-cyan-blue-background-color{background-color: var(--wp--preset--color--vivid-cyan-blue) !important;}.has-vivid-purple-background-color{background-color: var(--wp--preset--color--vivid-purple) !important;}.has-black-border-color{border-color: var(--wp--preset--color--black) !important;}.has-cyan-bluish-gray-border-color{border-color: var(--wp--preset--color--cyan-bluish-gray) !important;}.has-white-border-color{border-color: var(--wp--preset--color--white) !important;}.has-pale-pink-border-color{border-color: var(--wp--preset--color--pale-pink) !important;}.has-vivid-red-border-color{border-color: var(--wp--preset--color--vivid-red) !important;}.has-luminous-vivid-orange-border-color{border-color: var(--wp--preset--color--luminous-vivid-orange) !important;}.has-luminous-vivid-amber-border-color{border-color: var(--wp--preset--color--luminous-vivid-amber) !important;}.has-light-green-cyan-border-color{border-color: var(--wp--preset--color--light-green-cyan) !important;}.has-vivid-green-cyan-border-color{border-color: var(--wp--preset--color--vivid-green-cyan) !important;}.has-pale-cyan-blue-border-color{border-color: var(--wp--preset--color--pale-cyan-blue) !important;}.has-vivid-cyan-blue-border-color{border-color: var(--wp--preset--color--vivid-cyan-blue) !important;}.has-vivid-purple-border-color{border-color: var(--wp--preset--color--vivid-purple) !important;}.has-vivid-cyan-blue-to-vivid-purple-gradient-background{background: var(--wp--preset--gradient--vivid-cyan-blue-to-vivid-purple) !important;}.has-light-green-cyan-to-vivid-green-cyan-gradient-background{background: var(--wp--preset--gradient--light-green-cyan-to-vivid-green-cyan) !important;}.has-luminous-vivid-amber-to-luminous-vivid-orange-gradient-background{background: var(--wp--preset--gradient--luminous-vivid-amber-to-luminous-vivid-orange) !important;}.has-luminous-vivid-orange-to-vivid-red-gradient-background{background: var(--wp--preset--gradient--luminous-vivid-orange-to-vivid-red) !important;}.has-very-light-gray-to-cyan-bluish-gray-gradient-background{background: var(--wp--preset--gradient--very-light-gray-to-cyan-bluish-gray) !important;}.has-cool-to-warm-spectrum-gradient-background{background: var(--wp--preset--gradient--cool-to-warm-spectrum) !important;}.has-blush-light-purple-gradient-background{background: var(--wp--preset--gradient--blush-light-purple) !important;}.has-blush-bordeaux-gradient-background{background: var(--wp--preset--gradient--blush-bordeaux) !important;}.has-luminous-dusk-gradient-background{background: var(--wp--preset--gradient--luminous-dusk) !important;}.has-pale-ocean-gradient-background{background: var(--wp--preset--gradient--pale-ocean) !important;}.has-electric-grass-gradient-background{background: var(--wp--preset--gradient--electric-grass) !important;}.has-midnight-gradient-background{background: var(--wp--preset--gradient--midnight) !important;}.has-small-font-size{font-size: var(--wp--preset--font-size--small) !important;}.has-medium-font-size{font-size: var(--wp--preset--font-size--medium) !important;}.has-large-font-size{font-size: var(--wp--preset--font-size--large) !important;}.has-x-large-font-size{font-size: var(--wp--preset--font-size--x-large) !important;}\\n.wp-block-navigation a:where(:not(.wp-element-button)){color: inherit;}\\n:where(.wp-block-columns.is-layout-flex){gap: 2em;}\\n.wp-block-pullquote{font-size: 1.5em;line-height: 1.6;}\\n</style>\\n<link rel=\\'stylesheet\\' id=\\'contact-form-7-css\\' href=\\'https://portalcafebrasil.com.br/wp-content/plugins/contact-form-7/includes/css/styles.css?ver=5.5.6\\' type=\\'text/css\\' media=\\'all\\' />\\n<link rel=\\'stylesheet\\' id=\\'ppress-frontend-css\\' href=\\'https://portalcafebrasil.com.br/wp-content/plugins/wp-user-avatar/assets/css/frontend.min.css?ver=4.6.0\\' type=\\'text/css\\' media=\\'all\\' />\\n<link rel=\\'stylesheet\\' id=\\'ppress-flatpickr-css\\' href=\\'https://portalcafebrasil.com.br/wp-content/plugins/wp-user-avatar/assets/flatpickr/flatpickr.min.css?ver=4.6.0\\' type=\\'text/css\\' media=\\'all\\' />\\n<link rel=\\'stylesheet\\' id=\\'ppress-select2-css\\' href=\\'https://portalcafebrasil.com.br/wp-content/plugins/wp-user-avatar/assets/select2/select2.min.css?ver=6.1.1\\' type=\\'text/css\\' media=\\'all\\' />\\n<script type=\\'text/javascript\\' src=\\'https://portalcafebrasil.com.br/wp-includes/js/jquery/jquery.min.js?ver=3.6.1\\' id=\\'jquery-core-js\\'></script>\\n<script type=\\'text/javascript\\' src=\\'https://portalcafebrasil.com.br/wp-includes/js/jquery/jquery-migrate.min.js?ver=3.3.2\\' id=\\'jquery-migrate-js\\'></script>\\n<script type=\\'text/javascript\\' src=\\'https://portalcafebrasil.com.br/wp-content/plugins/wp-user-avatar/assets/flatpickr/flatpickr.min.js?ver=4.6.0\\' id=\\'ppress-flatpickr-js\\'></script>\\n<script type=\\'text/javascript\\' src=\\'https://portalcafebrasil.com.br/wp-content/plugins/wp-user-avatar/assets/select2/select2.min.js?ver=4.6.0\\' id=\\'ppress-select2-js\\'></script>\\n\\n<!-- Snippet do Google Analytics adicionado pelo Site Kit -->\\n<script type=\\'text/javascript\\' src=\\'https://www.googletagmanager.com/gtag/js?id=UA-169343597-1\\' id=\\'google_gtagjs-js\\' async></script>\\n<script type=\\'text/javascript\\' id=\\'google_gtagjs-js-after\\'>\\nwindow.dataLayer = window.dataLayer || [];function gtag(){dataLayer.push(arguments);}\\ngtag(\\'set\\', \\'linker\\', {\"domains\":[\"portalcafebrasil.com.br\"]} );\\ngtag(\"js\", new Date());\\ngtag(\"set\", \"developer_id.dZTNiMT\", true);\\ngtag(\"config\", \"UA-169343597-1\", {\"anonymize_ip\":true});\\n</script>\\n\\n<!-- Finalizar o snippet do Google Analytics adicionado pelo Site Kit -->\\n<link rel=\"https://api.w.org/\" href=\"https://portalcafebrasil.com.br/wp-json/\" /><link rel=\"alternate\" type=\"application/json\" href=\"https://portalcafebrasil.com.br/wp-json/wp/v2/categories/10\" /><link rel=\"EditURI\" type=\"application/rsd+xml\" title=\"RSD\" href=\"https://portalcafebrasil.com.br/xmlrpc.php?rsd\" />\\n<link rel=\"wlwmanifest\" type=\"application/wlwmanifest+xml\" href=\"https://portalcafebrasil.com.br/wp-includes/wlwmanifest.xml\" />\\n<meta name=\"generator\" content=\"WordPress 6.1.1\" />\\n\\n<!-- This site is using AdRotate v5.11 to display their advertisements - https://ajdg.solutions/ -->\\n<!-- AdRotate CSS -->\\n<style type=\"text/css\" media=\"screen\">\\n\\t.g { margin:0px; padding:0px; overflow:hidden; line-height:1; zoom:1; }\\n\\t.g img { height:auto; }\\n\\t.g-col { position:relative; float:left; }\\n\\t.g-col:first-child { margin-left: 0; }\\n\\t.g-col:last-child { margin-right: 0; }\\n\\t@media only screen and (max-width: 480px) {\\n\\t\\t.g-col, .g-dyn, .g-single { width:100%; margin-left:0; margin-right:0; }\\n\\t}\\n</style>\\n<!-- /AdRotate CSS -->\\n\\n<!-- start Simple Custom CSS and JS -->\\n<style type=\"text/css\">\\n/* Add your CSS code here.\\r\\n\\r\\nFor example:\\r\\n.example {\\r\\n    color: red;\\r\\n}\\r\\n\\r\\nFor brushing up on your CSS knowledge, check out http://www.w3schools.com/css/css_syntax.asp\\r\\n\\r\\nEnd of comment */ \\r\\n\\r\\n\\r\\n.top-space {\\r\\n    margin-top: 15px !important;\\r\\n}\\r\\n\\r\\n\\r\\n.g img {\\r\\n    height: auto;\\r\\n    margin-top: 70px !important;\\r\\n}\\r\\n\\r\\n@media screen and (max-width: 940px){\\r\\n\\t.g img{\\r\\n\\t\\t margin-top: 2px !important;\\r\\n\\t}\\r\\n\\t\\tform.form-inline {\\r\\n    margin-top: 12%;\\r\\n}\\r\\n\\t\\t}</style>\\n<!-- end Simple Custom CSS and JS -->\\n<!-- start Simple Custom CSS and JS -->\\n<style type=\"text/css\">\\n/* Add your CSS code here.\\r\\n\\r\\nFor example:\\r\\n.example {\\r\\n    color: red;\\r\\n}\\r\\n\\r\\nFor brushing up on your CSS knowledge, check out http://www.w3schools.com/css/css_syntax.asp\\r\\n\\r\\nEnd of comment */ \\r\\n\\r\\n.form-group {\\r\\n    margin-bottom: -15px;\\r\\n}\\r\\n\\r\\n.top-space {\\r\\n    margin-top: 45px;\\r\\n}\\r\\n\\r\\n@media screen and (max-width: 800px){\\r\\n\\t\\r\\n\\t.header-container{\\r\\n\\t\\tmargin-top: 5%;\\r\\n\\t}\\r\\n\\t.container>.navbar-header{\\r\\n\\t\\tmargin-top: 2%;\\r\\n\\t}\\r\\n}</style>\\n<!-- end Simple Custom CSS and JS -->\\n<meta name=\"generator\" content=\"Site Kit by Google 1.93.0\" /><!-- Head & Footer Code: Site-wide HEAD section start (type: category; bahavior: none; priority: 10; do_shortcode_h: n) -->\\n <script data-ad-client=\"ca-pub-9917578629691097\" async src=\"https://pagead2.googlesyndication.com/pagead/js/adsbygoogle.js\"></script>\\n<!-- Head & Footer Code: Site-wide HEAD section end (type: category; bahavior: none; priority: 10; do_shortcode_h: n) -->\\n<style>.img-cafe {\\r\\n    display: none;\\r\\n}</style>\\n<!-- Google Tag Manager for WordPress by gtm4wp.com -->\\n<!-- GTM Container placement set to footer -->\\n<script data-cfasync=\"false\" data-pagespeed-no-defer>\\n\\tvar dataLayer_content = {\"pagePostType\":\"post\",\"pagePostType2\":\"category-post\",\"pageCategory\":[\"podcasts\"]};\\n\\tdataLayer.push( dataLayer_content );\\n</script>\\n<script data-cfasync=\"false\">\\n(function(w,d,s,l,i){w[l]=w[l]||[];w[l].push({\\'gtm.start\\':\\nnew Date().getTime(),event:\\'gtm.js\\'});var f=d.getElementsByTagName(s)[0],\\nj=d.createElement(s),dl=l!=\\'dataLayer\\'?\\'&l=\\'+l:\\'\\';j.async=true;j.src=\\n\\'//www.googletagmanager.com/gtm.\\'+\\'js?id=\\'+i+dl;f.parentNode.insertBefore(j,f);\\n})(window,document,\\'script\\',\\'dataLayer\\',\\'GTM-PRTWJ6G\\');\\n</script>\\n<!-- End Google Tag Manager -->\\n<!-- End Google Tag Manager for WordPress by gtm4wp.com --><link rel=\"icon\" href=\"https://portalcafebrasil.com.br/wp-content/uploads/2020/06/cropped-cafebrasil-logo.jpg\" sizes=\"32x32\" />\\n<link rel=\"icon\" href=\"https://portalcafebrasil.com.br/wp-content/uploads/2020/06/cropped-cafebrasil-logo.jpg\" sizes=\"192x192\" />\\n<link rel=\"apple-touch-icon\" href=\"https://portalcafebrasil.com.br/wp-content/uploads/2020/06/cropped-cafebrasil-logo.jpg\" />\\n<meta name=\"msapplication-TileImage\" content=\"https://portalcafebrasil.com.br/wp-content/uploads/2020/06/cropped-cafebrasil-logo.jpg\" />\\n        <script src=\"https://ajax.googleapis.com/ajax/libs/jquery/1.11.1/jquery.min.js\"></script>\\n        <script src=\"https://code.jquery.com/ui/1.11.1/jquery-ui.min.js\"></script>\\n        <script src=\"https://portalcafebrasil.com.br/wp-content/themes/xpirit/js/jquery.cookie.js\"></script>\\n                    <script src=\"https://portalcafebrasil.com.br/wp-content/themes/xpirit/js/newsletter.js\"></script>\\n            </head>\\n    <body>\\n\\t    <script>\\n        // (function (i, s, o, g, r, a, m) {\\n        //     i[\\'GoogleAnalyticsObject\\'] = r;\\n        //     i[r] = i[r] || function () {\\n        //         (i[r].q = i[r].q || []).push(arguments)\\n        //     }, i[r].l = 1 * new Date();\\n        //     a = s.createElement(o),\\n        //     m = s.getElementsByTagName(o)[0];\\n        //     a.async = 1;\\n        //     a.src = g;\\n        //     m.parentNode.insertBefore(a, m)\\n        // })(window, document, \\'script\\', \\'//www.google-analytics.com/analytics.js\\', \\'ga\\');\\n\\n        ga(\\'create\\', \\'UA-40704163-1\\', \\'auto\\');\\n                ga(\\'require\\', \\'displayfeatures\\');\\n        ga(\\'send\\', \\'pageview\\');\\n    </script>    \\n\\n   \\n    <div class=\"navbar navbar-default navbar-fixed-top\" role=\"navigation\">\\n\\t\\t<div class=\"clever-core-ads\" style=\"margin-left: 15%;\"></div>\\n        <div id=\"barra\" style=\"background: #333; padding: 5px; text-align: right;\">\\n \\xa0 \\xa0 \\xa0 \\xa0 \\xa0 \\xa0<div class=\"container\">\\n\\t\\t\\t\\t<a href=\"https://portalcafebrasil.com.br/tudo-sobre-podcasts/patrocinar-o-podcast/\" target=\"_blank\" style=\" color: #fff; margin-right: 15px;\">Patrocine</a>\\n                <a href=\"https://portalcafebrasil.com.br/tudo-sobre-podcasts/qual-o-feed-do-podcast-cafe-brasil/\" target=\"_blank\" style=\" color: #fff; margin-right: 15px;\">Feed</a>\\n                <a href=\"https://portalcafebrasil.com.br/quem-faz-o-cafe-brasil/\" target=\"_blank\" style=\" color: #fff; margin-right: 15px;\">Luciano Pires</a>\\n            </div>\\n        </div>\\n        <div class=\"container\">\\n            <div class=\"navbar-header\">\\n                <button type=\"button\" class=\"navbar-toggle\" data-toggle=\"collapse\" data-target=\".navbar-collapse\">\\n                    <span class=\"sr-only\">Toggle navigation</span>\\n                    <span class=\"icon-bar\"></span>\\n                    <span class=\"icon-bar\"></span>\\n                    <span class=\"icon-bar\"></span>\\n                </button>\\n                <a class=\"navbar-brand\" href=\"/\"><img src=\"https://portalcafebrasil.com.br/wp-content/themes/xpirit/images/cafebrasil-logo.jpg\" alt=\"Café Brasil\" title=\"Café Brasil\"/></a>\\n            </div>\\n            <div id=\"bs-example-navbar-collapse-1\" class=\"collapse navbar-collapse\">\\n                <ul id=\"menu-topo\" class=\"nav navbar-nav\"><li id=\"menu-item-24020\" class=\"menu-item menu-item-type-post_type menu-item-object-page menu-item-24020\"><a title=\"Sobre\" href=\"https://portalcafebrasil.com.br/que-site-e-este/\">Sobre</a></li>\\n<li id=\"menu-item-24275\" class=\"menu-item menu-item-type-custom menu-item-object-custom menu-item-24275\"><a title=\"Loja\" href=\"https://lucianopires.com.br/loja/\">Loja</a></li>\\n<li id=\"menu-item-9\" class=\"menu-item menu-item-type-custom menu-item-object-custom menu-item-9\"><a title=\"Rádio Web\" target=\"_blank\" href=\"http://portalcafebrasil.com.br/radio\">Rádio Web</a></li>\\n<li id=\"menu-item-24021\" class=\"menu-item menu-item-type-post_type menu-item-object-page menu-item-24021\"><a title=\"Anuncie\" href=\"https://portalcafebrasil.com.br/tudo-sobre-podcasts/patrocinar-o-podcast/\">Anuncie</a></li>\\n<li id=\"menu-item-11\" class=\"menu-item menu-item-type-custom menu-item-object-custom menu-item-11\"><a title=\"Contato\" href=\"https://lucianopires.com.br/contato/\">Contato</a></li>\\n<li id=\"menu-item-25362\" class=\"menu-item menu-item-type-post_type menu-item-object-page menu-item-25362\"><a title=\"Feed do Podcast\" href=\"https://portalcafebrasil.com.br/tudo-sobre-podcasts/qual-o-feed-do-podcast-cafe-brasil/\">Feed do Podcast</a></li>\\n</ul>                <ul class=\"nav navbar-nav search navbar-right hidden-sm hidden-xs hidden\">\\n                    <li><a href=\"javascript:void(0);\" onclick=\"toggleSearch(this);\"><span class=\"glyphicon glyphicon-search\"></span></a></li>\\n                </ul>\\n                <form class=\"newsletter-form navbar-form navbar-right hidden-sm hidden-xs hidden-for-search hidden\" role=\"search\" action=\"https://receiver.emkt.dinamize.com/in/312973/1/9dd6\" method=\"post\">\\n                    <input type=\"hidden\" name=\"update_mode\" value=\"AS\">\\n                    <input type=\"hidden\" name=\"text-confirmation\" value=\"Qm9tIGRpYSwgYm9hIHRhcmRlLCBib2Egbm9pdGUhPGJyIC8+PGJyIC8+T2JyaWdhZG88YnIgLz5wb3ImbmJzcDthc3NpbmFyJm5ic3A7YSBuZXdzbGV0dGVyITxiciAvPjxiciAvPlVtIGFicmEmY2NlZGlsO28sPGJyIC8+THVjaWFubyBQaXJlcw==\">\\n                    <input type=\"hidden\" name=\"cmp4\" value=\"InscritosPeloSite|Subscribed_Members\">\\n                    <input type=\"hidden\" name=\"text-error\" value=\"\">\\n                    <div class=\"form-group\">\\n                        <label for=\"email\">NEWSLETTER</label>   \\n                        <input id=\"cmp1\" name=\"cmp1\" type=\"email\" class=\"form-control\" placeholder=\"Informe seu e-mail\" required>\\n                    </div>\\n                    <button type=\"submit\" class=\"btn btn-warning\">ASSINAR</button>\\n                </form>\\n                <form class=\"newsletter-form navbar-form navbar-right hidden-for-search\" method=\"GET\" action=\"https://portalcafebrasil.com.br/todos/artigos/\" style=\"\" role=\"search\">\\n                    <input type=\"hidden\" name=\"all\" value=\"true\">\\n                    <div class=\"form-group\">\\n                        <input type=\"text\" class=\"form-control\" placeholder=\"Palavra-chave\" name=\"s\" id=\"s\" value=\"\">\\n                    </div>\\n                    <button type=\"submit\" class=\"btn btn-warning\">BUSCAR</button>\\n                </form>\\n            </div>\\n        </div>\\n    </div>\\n    <div class=\"container visible-xs top-space\">\\n        s<form class=\"form-inline\" method=\"GET\" action=\"https://portalcafebrasil.com.br/todos/artigos/\" role=\"search\">\\n            <input type=\"hidden\" name=\"all\" value=\"true\">\\n            <div class=\"form-group\">\\n                <input type=\"text\" class=\"form-control\" placeholder=\"Pesquisar...\" name=\"s\" id=\"s\" value=\"\">\\n            </div>\\n        </form>\\n    </div>\\n\\t\\t\\t\\n\\n<!-- Global site tag (gtag.js) - Google Analytics Cento e Vinte -->\\n<!-- <script async src=\"https://www.googletagmanager.com/gtag/js?id=UA-169343597-1\"></script> -->\\n<script>\\n  //window.dataLayer = window.dataLayer || [];\\n  //function gtag(){dataLayer.push(arguments);}\\n  //gtag(\\'js\\', new Date());\\n\\n  //gtag(\\'config\\', \\'UA-169343597-1\\');\\n</script>\\n\\n    <h1 class=\"text-hide\">Podcasts do Café Brasil</h1>\\r\\n    <div class=\"header-container\">\\r\\n        <div class=\"container\">\\r\\n            <div class=\"row\">\\r\\n    <div class=\"col-md-12\">\\r\\n        <div class=\"g g-1\"><div class=\"g-single a-72\"><a href=\"https://canalcafebrasil.com.br\"><img src=\"https://portalcafebrasil.com.br/wp-content/uploads/2022/08/BANNER-TESTEIRA-MACACOS2.png\" /></a></div></div>    </div>\\r\\n</div>\\r\\n<div class=\"row hidden-xs top-space\">\\r\\n    <div class=\"col-lg-12 text-center\">\\r\\n        <!-- Erro, o Anúncio não está disponível neste momento devido às restrições de agendamento/geolocalização! -->    </div>\\r\\n</div>\\r\\n        </div>\\r\\n            <div class=\"container top-space\">\\r\\n        <div class=\"row\">\\r\\n            <div class=\"col-md-12\">\\r\\n                <a href=\"http://app.questionar.com.br/TakeSurvey.asp?PageNumber=1&SurveyID=52JmomLLlo2KG\" target=\"_blank\"><img src=\"https://portalcafebrasil.com.br/wp-content/themes/xpirit/images/podcast-cafebrasil.jpg\" alt=\"Podcast Café Brasil com Luciano Pires\" class=\"img-responsive\"></a>\\r\\n            </div>\\r\\n        </div>\\r\\n    </div>\\r\\n    \\r\\n    </div>    \\r\\n            <div class=\"container\">\\r\\n            <div class=\"row\">\\r\\n                <div class=\"col-md-12 text-center\">\\r\\n                    <ul class=\"list-inline filter-menu\">\\r\\n        <li class=\"\">\\r\\n        <a href=\"https://portalcafebrasil.com.br/todos/podcasts/?subjects=15\">Ciência &amp; Tecnologia</a>\\r\\n    </li>\\r\\n        <li class=\"\">\\r\\n        <a href=\"https://portalcafebrasil.com.br/todos/podcasts/?subjects=16\">Comunicação &amp; Artes</a>\\r\\n    </li>\\r\\n        <li class=\"\">\\r\\n        <a href=\"https://portalcafebrasil.com.br/todos/podcasts/?subjects=1835\">economia &amp; sociedade</a>\\r\\n    </li>\\r\\n        <li class=\"\">\\r\\n        <a href=\"https://portalcafebrasil.com.br/todos/podcasts/?subjects=2637\">Educação &amp; Esportes</a>\\r\\n    </li>\\r\\n        <li class=\"\">\\r\\n        <a href=\"https://portalcafebrasil.com.br/todos/podcasts/?subjects=17\">Política &amp; Cidadania</a>\\r\\n    </li>\\r\\n        <li class=\"\">\\r\\n        <a href=\"https://portalcafebrasil.com.br/todos/podcasts/?subjects=4779\">saúde &amp; espiritualidade</a>\\r\\n    </li>\\r\\n        <li class=\"\">\\r\\n        <a href=\"https://portalcafebrasil.com.br/todos/podcasts/?subjects=18\">Trabalho &amp; Comportamento</a>\\r\\n    </li>\\r\\n        <li class=\"\">\\r\\n        <a href=\"https://portalcafebrasil.com.br/todos/podcasts/?subjects=19\">Variedades</a>\\r\\n    </li>\\r\\n    </ul>                </div>\\r\\n            </div>\\r\\n        </div>\\r\\n        <div class=\"container\">\\r\\n            <div class=\"row\">\\r\\n                <div class=\"col-md-12\">\\r\\n                    <ul class=\"nav nav-tabs filter-category blue\" role=\"tablist\">\\r\\n    <li class=\"\">\\r\\n        <a href=\"https://portalcafebrasil.com.br/todos/podcasts/?all=true\">Tudo <span class=\"total\">3738</span></a>\\r\\n    </li>\\r\\n        <li class=\" blue\">\\r\\n        <a href=\"https://portalcafebrasil.com.br/todos/artigos/\">\\r\\n            Artigos <span class=\"total\">693</span>\\r\\n        </a>\\r\\n    </li>\\r\\n        <li class=\" blue\">\\r\\n        <a href=\"https://portalcafebrasil.com.br/todos/cafe-com-leite/\">\\r\\n            Café com Leite <span class=\"total\">52</span>\\r\\n        </a>\\r\\n    </li>\\r\\n        <li class=\" blue\">\\r\\n        <a href=\"https://portalcafebrasil.com.br/todos/cafezinho/\">\\r\\n            Cafezinho <span class=\"total\">559</span>\\r\\n        </a>\\r\\n    </li>\\r\\n        <li class=\" blue\">\\r\\n        <a href=\"https://portalcafebrasil.com.br/todos/confraria/\">\\r\\n            Confraria <span class=\"total\">7</span>\\r\\n        </a>\\r\\n    </li>\\r\\n        <li class=\" blue\">\\r\\n        <a href=\"https://portalcafebrasil.com.br/todos/especiais/\">\\r\\n            Especiais <span class=\"total\">2</span>\\r\\n        </a>\\r\\n    </li>\\r\\n        <li class=\" blue\">\\r\\n        <a href=\"https://portalcafebrasil.com.br/todos/iscas-intelectuais/\">\\r\\n            Iscas Intelectuais <span class=\"total\">1006</span>\\r\\n        </a>\\r\\n    </li>\\r\\n        <li class=\" blue\">\\r\\n        <a href=\"https://portalcafebrasil.com.br/todos/lidercast/\">\\r\\n            Lidercast <span class=\"total\">271</span>\\r\\n        </a>\\r\\n    </li>\\r\\n        <li class=\"active blue\">\\r\\n        <a href=\"https://portalcafebrasil.com.br/todos/podcasts/\">\\r\\n            Podcasts <span class=\"total\">901</span>\\r\\n        </a>\\r\\n    </li>\\r\\n        <li class=\" blue\">\\r\\n        <a href=\"https://portalcafebrasil.com.br/todos/resumos/\">\\r\\n            Resumos <span class=\"total\">172</span>\\r\\n        </a>\\r\\n    </li>\\r\\n        <li class=\" blue\">\\r\\n        <a href=\"https://portalcafebrasil.com.br/todos/sem-categoria/\">\\r\\n            Sem categoria <span class=\"total\">3</span>\\r\\n        </a>\\r\\n    </li>\\r\\n        <li class=\" blue\">\\r\\n        <a href=\"https://portalcafebrasil.com.br/todos/videocasts/\">\\r\\n            Videocasts <span class=\"total\">72</span>\\r\\n        </a>\\r\\n    </li>\\r\\n    </ul>                    <ul class=\"list-unstyled list-inline list-format\">\\r\\n                        <li><a href=\"javascript:void(0)\" onclick=\"jQuery(\\'#paged\\').removeClass(\\'tabled\\');\">Lista</a></li>\\r\\n                        <li><a href=\"javascript:void(0)\" onclick=\"jQuery(\\'#paged\\').addClass(\\'tabled\\');\">Tabela</a></li>\\r\\n                    </ul>\\r\\n                </div>\\r\\n            </div>\\r\\n        </div>\\r\\n        <div id=\"paged\" class=\"container\">\\r\\n                    <div class=\"row\">    <div class=\"col-md-3\">\\r\\n        <div class=\"list-block top-space blue\">\\r\\n            <div class=\"list-type tabled-show blue\"><a href=\"https://portalcafebrasil.com.br/todos/podcasts/\" rel=\"category tag\">Podcasts</a></div>\\r\\n            <div class=\"list-image tabled-hide\">\\r\\n                <a href=\"https://portalcafebrasil.com.br/podcasts/cafe-brasil-864-a-distopia-que-nos-aguarda/\" title=\"Café Brasil 864 – A distopia que nos aguarda\">\\r\\n                    <img data-original=\"https://portalcafebrasil.com.br/wp-content/uploads/2023/03/luciano-pires-cafe-brasil-864-a-distopia-que-nos-aguarda_-370x290.png\" alt=\"Café Brasil 864 – A distopia que nos aguarda\" class=\"img-responsive lazy\"/>                </a>\\r\\n                <div class=\"list-image-line tabled-hide\"></div>\\r\\n            </div>\\r\\n            <h5><a href=\"https://portalcafebrasil.com.br/podcasts/cafe-brasil-864-a-distopia-que-nos-aguarda/\">Café Brasil 864 – A distopia que nos aguarda</a></h5>\\r\\n                        <div class=\"tabled-hide\"><p>Quando você pensa no futuro, pensa exatamente em quê? Carros voadores? Um planeta mais saudável? Telepatia? Vizinhos Ets? Ou, quem sabe, vislumbra um futuro bem mais sombrio, tipo Exterminador do Futuro? Bem, se esse for o caso, você não está sozinho. Em vez de uma visão brilhante do futuro, muita gente aposta numa&#8230; distopia.</p>\\n</div>\\r\\n            <div class=\"list-dateauthor tabled-show\">| 08/03/2023 - <span>Luciano Pires</span></div>\\r\\n            <div class=\"tabled-show pull-right\"><a href=\"https://portalcafebrasil.com.br/podcasts/cafe-brasil-864-a-distopia-que-nos-aguarda/\" class=\"green\">Visualizar</a></div>\\r\\n        </div>\\r\\n    </div>\\r\\n            <div class=\"col-md-3\">\\r\\n        <div class=\"list-block top-space blue\">\\r\\n            <div class=\"list-type tabled-show blue\"><a href=\"https://portalcafebrasil.com.br/todos/podcasts/\" rel=\"category tag\">Podcasts</a></div>\\r\\n            <div class=\"list-image tabled-hide\">\\r\\n                <a href=\"https://portalcafebrasil.com.br/podcasts/cafe-brasil-863-gaslighting/\" title=\"Café Brasil 863 – Gaslighting\">\\r\\n                    <img data-original=\"https://portalcafebrasil.com.br/wp-content/uploads/2023/03/luciano-pires-cafe-brasil-863-gaslighting-370x290.png\" alt=\"Café Brasil 863 – Gaslighting\" class=\"img-responsive lazy\"/>                </a>\\r\\n                <div class=\"list-image-line tabled-hide\"></div>\\r\\n            </div>\\r\\n            <h5><a href=\"https://portalcafebrasil.com.br/podcasts/cafe-brasil-863-gaslighting/\">Café Brasil 863 – Gaslighting</a></h5>\\r\\n                        <div class=\"tabled-hide\"><p>No episódio de hoje vamos explorar uma técnica de manipulação psicológica que tem sido cada vez mais discutida: o gaslighting, que é uma forma de abuso emocional que envolve uma pessoa tentando fazer com que outra duvide de sua própria percepção da realidade e sanidade mental. Fique esperto. Tá acontecendo aí, do seu lado&#8230;</p>\\n</div>\\r\\n            <div class=\"list-dateauthor tabled-show\">| 01/03/2023 - <span>Luciano Pires</span></div>\\r\\n            <div class=\"tabled-show pull-right\"><a href=\"https://portalcafebrasil.com.br/podcasts/cafe-brasil-863-gaslighting/\" class=\"green\">Visualizar</a></div>\\r\\n        </div>\\r\\n    </div>\\r\\n            <div class=\"col-md-3\">\\r\\n        <div class=\"list-block top-space blue\">\\r\\n            <div class=\"list-type tabled-show blue\"><a href=\"https://portalcafebrasil.com.br/todos/podcasts/\" rel=\"category tag\">Podcasts</a></div>\\r\\n            <div class=\"list-image tabled-hide\">\\r\\n                <a href=\"https://portalcafebrasil.com.br/podcasts/cafe-brasil-862-conversa-paralela/\" title=\"Café Brasil 862 – Conversa paralela\">\\r\\n                    <img data-original=\"https://portalcafebrasil.com.br/wp-content/uploads/2023/02/luciano-pires-cafe-brasil-862-conversa-paralela-370x290.png\" alt=\"Café Brasil 862 – Conversa paralela\" class=\"img-responsive lazy\"/>                </a>\\r\\n                <div class=\"list-image-line tabled-hide\"></div>\\r\\n            </div>\\r\\n            <h5><a href=\"https://portalcafebrasil.com.br/podcasts/cafe-brasil-862-conversa-paralela/\">Café Brasil 862 – Conversa paralela</a></h5>\\r\\n                        <div class=\"tabled-hide\"><p>Luciano Pires foi convidado para participar do podcast Conversa Paralela, produzido pela Brasil Paralelo, com apresentação de Lara Brenner e Arthur Morisson. Uma conversa focada na importância e impacto da mídia, mas que aborda outras questões fundamentais sobre a vida em sociedade. Você ouvirá o áudio dessa conversa.</p>\\n</div>\\r\\n            <div class=\"list-dateauthor tabled-show\">| 22/02/2023 - <span>Luciano Pires</span></div>\\r\\n            <div class=\"tabled-show pull-right\"><a href=\"https://portalcafebrasil.com.br/podcasts/cafe-brasil-862-conversa-paralela/\" class=\"green\">Visualizar</a></div>\\r\\n        </div>\\r\\n    </div>\\r\\n            <div class=\"col-md-3\">\\r\\n        <div class=\"list-block top-space blue\">\\r\\n            <div class=\"list-type tabled-show blue\"><a href=\"https://portalcafebrasil.com.br/todos/podcasts/\" rel=\"category tag\">Podcasts</a></div>\\r\\n            <div class=\"list-image tabled-hide\">\\r\\n                <a href=\"https://portalcafebrasil.com.br/podcasts/cafe-brasil-861-va-com-tudo/\" title=\"Café Brasil 861 – Vá com tudo\">\\r\\n                    <img data-original=\"https://portalcafebrasil.com.br/wp-content/uploads/2023/02/luciano-pires-cafe-brasil-861-va-com-tudo-1-370x290.png\" alt=\"Café Brasil 861 – Vá com tudo\" class=\"img-responsive lazy\"/>                </a>\\r\\n                <div class=\"list-image-line tabled-hide\"></div>\\r\\n            </div>\\r\\n            <h5><a href=\"https://portalcafebrasil.com.br/podcasts/cafe-brasil-861-va-com-tudo/\">Café Brasil 861 – Vá com tudo</a></h5>\\r\\n                        <div class=\"tabled-hide\"><p>Como a jornada do empreendedor, esteja ele empreendendo para si ou para a empresa na qual trabalha, é solitária, não é? Muitas vezes temos de tomar decisões e ficamos sem saber para qual lado ir. É quando se torna fundamental estar com pessoas acima da média. E, principalmente, confiar no seu taco. Mas como é que faz isso? Bem, Sêneca, Charles Bukowski e Viktor Frankl dão alguns ingredientes que eu vou misturar e servir quentinho. Vamos nessa?</p>\\n</div>\\r\\n            <div class=\"list-dateauthor tabled-show\">| 15/02/2023 - <span>Luciano Pires</span></div>\\r\\n            <div class=\"tabled-show pull-right\"><a href=\"https://portalcafebrasil.com.br/podcasts/cafe-brasil-861-va-com-tudo/\" class=\"green\">Visualizar</a></div>\\r\\n        </div>\\r\\n    </div>\\r\\n        </div><div class=\"row\">    <div class=\"col-md-3\">\\r\\n        <div class=\"list-block top-space blue\">\\r\\n            <div class=\"list-type tabled-show blue\"><a href=\"https://portalcafebrasil.com.br/todos/podcasts/\" rel=\"category tag\">Podcasts</a> <a href=\"https://portalcafebrasil.com.br/todos/resumos/\" rel=\"category tag\">Resumos</a></div>\\r\\n            <div class=\"list-image tabled-hide\">\\r\\n                <a href=\"https://portalcafebrasil.com.br/podcasts/cafe-brasil-860-liberdade-igualdade-fraternidade/\" title=\"Café Brasil 860 – Liberdade, igualdade, fraternidade\">\\r\\n                    <img data-original=\"https://portalcafebrasil.com.br/wp-content/uploads/2023/02/luciano-pires-cafe-brasil-860-liberdade-igualdade-fraternidade-370x290.png\" alt=\"Café Brasil 860 – Liberdade, igualdade, fraternidade\" class=\"img-responsive lazy\"/>                </a>\\r\\n                <div class=\"list-image-line tabled-hide\"></div>\\r\\n            </div>\\r\\n            <h5><a href=\"https://portalcafebrasil.com.br/podcasts/cafe-brasil-860-liberdade-igualdade-fraternidade/\">Café Brasil 860 – Liberdade, igualdade, fraternidade</a></h5>\\r\\n                        <div class=\"tabled-hide\"><p>Quem há de ser contra os ideais de liberdade, igualdade e fraternidade? Quem é que não quer uma sociedade mais justa, igualitária e amorosa? Quem é que não luta pela democracia? Cara, todo mundo quer, não é? E tem uns que querem tanto, mas tanto, que não pensam duas vezes antes de matar por amor. O episódio de hoje tem os pés na revolução francesa e a cabeça&#8230; bem você decide.</p>\\n</div>\\r\\n            <div class=\"list-dateauthor tabled-show\">| 08/02/2023 - <span>Luciano Pires</span></div>\\r\\n            <div class=\"tabled-show pull-right\"><a href=\"https://portalcafebrasil.com.br/podcasts/cafe-brasil-860-liberdade-igualdade-fraternidade/\" class=\"green\">Visualizar</a></div>\\r\\n        </div>\\r\\n    </div>\\r\\n            <div class=\"col-md-3\">\\r\\n        <div class=\"list-block top-space blue\">\\r\\n            <div class=\"list-type tabled-show blue\"><a href=\"https://portalcafebrasil.com.br/todos/podcasts/\" rel=\"category tag\">Podcasts</a></div>\\r\\n            <div class=\"list-image tabled-hide\">\\r\\n                <a href=\"https://portalcafebrasil.com.br/podcasts/cafe-brasil-859-oestecast/\" title=\"Café Brasil 859 &#8211; OesteCast\">\\r\\n                    <img data-original=\"https://portalcafebrasil.com.br/wp-content/uploads/2023/02/luciano-pires-cafe-brasil-859-oestecast-370x290.png\" alt=\"Café Brasil 859 &#8211; OesteCast\" class=\"img-responsive lazy\"/>                </a>\\r\\n                <div class=\"list-image-line tabled-hide\"></div>\\r\\n            </div>\\r\\n            <h5><a href=\"https://portalcafebrasil.com.br/podcasts/cafe-brasil-859-oestecast/\">Café Brasil 859 &#8211; OesteCast</a></h5>\\r\\n                        <div class=\"tabled-hide\"><p>Fui convidado para participar do OesteCast, o podcast da revista Oeste, apresentado por Dagomir Marchezi e Cristyan Costa. O Dagomir tem mais ou menos a minha idade, então foi uma conversa repleta de referências, falando sobre a mídia, o Brasil cultura popular e muito mais.</p>\\n</div>\\r\\n            <div class=\"list-dateauthor tabled-show\">| 01/02/2023 - <span>Luciano Pires</span></div>\\r\\n            <div class=\"tabled-show pull-right\"><a href=\"https://portalcafebrasil.com.br/podcasts/cafe-brasil-859-oestecast/\" class=\"green\">Visualizar</a></div>\\r\\n        </div>\\r\\n    </div>\\r\\n            <div class=\"col-md-3\">\\r\\n        <div class=\"list-block top-space blue\">\\r\\n            <div class=\"list-type tabled-show blue\"><a href=\"https://portalcafebrasil.com.br/todos/podcasts/\" rel=\"category tag\">Podcasts</a></div>\\r\\n            <div class=\"list-image tabled-hide\">\\r\\n                <a href=\"https://portalcafebrasil.com.br/podcasts/cafe-brasil-858-um-velho-safado/\" title=\"Café Brasil 858 – Um velho safado\">\\r\\n                    <img data-original=\"https://portalcafebrasil.com.br/wp-content/uploads/2023/01/AD932C37-5519-48A6-8825-70B60557FE57-370x290.jpeg\" alt=\"Café Brasil 858 – Um velho safado\" class=\"img-responsive lazy\"/>                </a>\\r\\n                <div class=\"list-image-line tabled-hide\"></div>\\r\\n            </div>\\r\\n            <h5><a href=\"https://portalcafebrasil.com.br/podcasts/cafe-brasil-858-um-velho-safado/\">Café Brasil 858 – Um velho safado</a></h5>\\r\\n                        <div class=\"tabled-hide\"><p>Charles Bukowski era um cara miserável que tinha uma vida miserável. Um poeta e romancista, notório por seu amor por bebidas. E um incorrigível mulherengo, que chegou a ser chamado de misógino. Por isso ganhou o apelido de Velho Safado, e se transformou num dos maiores poetas e escritores da língua inglesa, influenciando algumas gerações com sua prosa irreverente, que revela verdades sobre a condição humana. Hoje vamos de Charles Bukowski.</p>\\n</div>\\r\\n            <div class=\"list-dateauthor tabled-show\">| 25/01/2023 - <span>Luciano Pires</span></div>\\r\\n            <div class=\"tabled-show pull-right\"><a href=\"https://portalcafebrasil.com.br/podcasts/cafe-brasil-858-um-velho-safado/\" class=\"green\">Visualizar</a></div>\\r\\n        </div>\\r\\n    </div>\\r\\n            <div class=\"col-md-3\">\\r\\n        <div class=\"list-block top-space blue\">\\r\\n            <div class=\"list-type tabled-show blue\"><a href=\"https://portalcafebrasil.com.br/todos/podcasts/\" rel=\"category tag\">Podcasts</a></div>\\r\\n            <div class=\"list-image tabled-hide\">\\r\\n                <a href=\"https://portalcafebrasil.com.br/podcasts/cafe-brasil-857-independencia-ou-morte/\" title=\"Café Brasil 857 – Independência ou morte\">\\r\\n                    <img data-original=\"https://portalcafebrasil.com.br/wp-content/uploads/2023/01/1F41AB68-E994-4B83-9A63-4DDBDA901F0C-370x290.jpeg\" alt=\"Café Brasil 857 – Independência ou morte\" class=\"img-responsive lazy\"/>                </a>\\r\\n                <div class=\"list-image-line tabled-hide\"></div>\\r\\n            </div>\\r\\n            <h5><a href=\"https://portalcafebrasil.com.br/podcasts/cafe-brasil-857-independencia-ou-morte/\">Café Brasil 857 – Independência ou morte</a></h5>\\r\\n                        <div class=\"tabled-hide\"><p>Vivemos uma revolução das mídias, que tem mudado não só a forma como se produz e distribui informação, mas principalmente como a consumimos. E isso significa o aumento da responsabilidade sobre a análise e escolha da informação que vamos consumir. Mas muita gente ainda não percebeu isso.</p>\\n</div>\\r\\n            <div class=\"list-dateauthor tabled-show\">| 18/01/2023 - <span>Luciano Pires</span></div>\\r\\n            <div class=\"tabled-show pull-right\"><a href=\"https://portalcafebrasil.com.br/podcasts/cafe-brasil-857-independencia-ou-morte/\" class=\"green\">Visualizar</a></div>\\r\\n        </div>\\r\\n    </div>\\r\\n        </div><div class=\"row\">    <div class=\"col-md-3\">\\r\\n        <div class=\"list-block top-space blue\">\\r\\n            <div class=\"list-type tabled-show blue\"><a href=\"https://portalcafebrasil.com.br/todos/podcasts/\" rel=\"category tag\">Podcasts</a></div>\\r\\n            <div class=\"list-image tabled-hide\">\\r\\n                <a href=\"https://portalcafebrasil.com.br/podcasts/cafe-brasil-856-ta-na-hora-do-cafe-com-leite/\" title=\"Café Brasil 856 – Tá na hora do Café Com leite\">\\r\\n                    <img data-original=\"https://portalcafebrasil.com.br/wp-content/uploads/2023/01/luciano-pires-cafe-brasil-856-ta-na-hora-do-cafe-com-leite-370x290.png\" alt=\"Café Brasil 856 – Tá na hora do Café Com leite\" class=\"img-responsive lazy\"/>                </a>\\r\\n                <div class=\"list-image-line tabled-hide\"></div>\\r\\n            </div>\\r\\n            <h5><a href=\"https://portalcafebrasil.com.br/podcasts/cafe-brasil-856-ta-na-hora-do-cafe-com-leite/\">Café Brasil 856 – Tá na hora do Café Com leite</a></h5>\\r\\n                        <div class=\"tabled-hide\"><p>Quando criamos o Podcast Café Com Leite em 2022, tínhamos muitos sonhos. Um deles era ter músicas autorais para o programa, o que só foi possível no final do ano. E o episódio que apresentou a música ficou tão legal, tão curioso, que eu decidi trazer aqui para o Café Brasil. Prepare-se, é meio que uma aula de música, bicho, e vai grudar na sua mente.</p>\\n</div>\\r\\n            <div class=\"list-dateauthor tabled-show\">| 11/01/2023 - <span>Luciano Pires</span></div>\\r\\n            <div class=\"tabled-show pull-right\"><a href=\"https://portalcafebrasil.com.br/podcasts/cafe-brasil-856-ta-na-hora-do-cafe-com-leite/\" class=\"green\">Visualizar</a></div>\\r\\n        </div>\\r\\n    </div>\\r\\n            <div class=\"col-md-3\">\\r\\n        <div class=\"list-block top-space blue\">\\r\\n            <div class=\"list-type tabled-show blue\"><a href=\"https://portalcafebrasil.com.br/todos/podcasts/\" rel=\"category tag\">Podcasts</a></div>\\r\\n            <div class=\"list-image tabled-hide\">\\r\\n                <a href=\"https://portalcafebrasil.com.br/podcasts/cafe-brasil-855-alguem-me-avisou/\" title=\"Café Brasil 855 – Alguém me avisou\">\\r\\n                    <img data-original=\"https://portalcafebrasil.com.br/wp-content/uploads/2022/12/luciano-pires-cafe-brasil-855-alguem-me-avisou-370x290.png\" alt=\"Café Brasil 855 – Alguém me avisou\" class=\"img-responsive lazy\"/>                </a>\\r\\n                <div class=\"list-image-line tabled-hide\"></div>\\r\\n            </div>\\r\\n            <h5><a href=\"https://portalcafebrasil.com.br/podcasts/cafe-brasil-855-alguem-me-avisou/\">Café Brasil 855 – Alguém me avisou</a></h5>\\r\\n                        <div class=\"tabled-hide\"><p>No bairro da Vila Madalena vivi uma experiência que me marcou, que tem a ver com brasilidade, com as raízes culturais de meu país. Logo eu, que su do rock, me vi repentinamente emocionado numa roda de samba. Ficquei impactado a ponto de decidir fazer um episódio do Café Brasil a respeito. Venha comigo, hoje somos samba.</p>\\n</div>\\r\\n            <div class=\"list-dateauthor tabled-show\">| 01/01/2023 - <span>Luciano Pires</span></div>\\r\\n            <div class=\"tabled-show pull-right\"><a href=\"https://portalcafebrasil.com.br/podcasts/cafe-brasil-855-alguem-me-avisou/\" class=\"green\">Visualizar</a></div>\\r\\n        </div>\\r\\n    </div>\\r\\n            <div class=\"col-md-3\">\\r\\n        <div class=\"list-block top-space blue\">\\r\\n            <div class=\"list-type tabled-show blue\"><a href=\"https://portalcafebrasil.com.br/todos/podcasts/\" rel=\"category tag\">Podcasts</a></div>\\r\\n            <div class=\"list-image tabled-hide\">\\r\\n                <a href=\"https://portalcafebrasil.com.br/podcasts/cafe-brasil-854-o-otimismo-tragico/\" title=\"Café Brasil 854 – O Otimismo Trágico\">\\r\\n                    <img data-original=\"https://portalcafebrasil.com.br/wp-content/uploads/2022/12/luciano-pires-cafe-brasil-854-o-otimismo-tragico-370x290.png\" alt=\"Café Brasil 854 – O Otimismo Trágico\" class=\"img-responsive lazy\"/>                </a>\\r\\n                <div class=\"list-image-line tabled-hide\"></div>\\r\\n            </div>\\r\\n            <h5><a href=\"https://portalcafebrasil.com.br/podcasts/cafe-brasil-854-o-otimismo-tragico/\">Café Brasil 854 – O Otimismo Trágico</a></h5>\\r\\n                        <div class=\"tabled-hide\"><p>Viktor Frankl, foi um famoso psiquiatra vienense que sobreviveu a quatro campos de concentração e mais tarde fundou a Logoterapia, a psicoterapia centrada na vontade de obter um sentido na vida. Em sua obra, Viktor cunhou um termo muito interessante: otimismo trágico, que talvez nos ajude a passar por tempos sóbrios. Vamos nessa praia hoje.</p>\\n</div>\\r\\n            <div class=\"list-dateauthor tabled-show\">| 28/12/2022 - <span>Luciano Pires</span></div>\\r\\n            <div class=\"tabled-show pull-right\"><a href=\"https://portalcafebrasil.com.br/podcasts/cafe-brasil-854-o-otimismo-tragico/\" class=\"green\">Visualizar</a></div>\\r\\n        </div>\\r\\n    </div>\\r\\n            <div class=\"col-md-3\">\\r\\n        <div class=\"list-block top-space blue\">\\r\\n            <div class=\"list-type tabled-show blue\"><a href=\"https://portalcafebrasil.com.br/todos/podcasts/\" rel=\"category tag\">Podcasts</a></div>\\r\\n            <div class=\"list-image tabled-hide\">\\r\\n                <a href=\"https://portalcafebrasil.com.br/podcasts/cafe-brasil-853-e-natal-revisitado/\" title=\"Café Brasil 853 – É Natal Revisitado\">\\r\\n                    <img data-original=\"https://portalcafebrasil.com.br/wp-content/uploads/2022/12/luciano-pires-cafe-brasil-853-e-natal-revisitado-370x290.png\" alt=\"Café Brasil 853 – É Natal Revisitado\" class=\"img-responsive lazy\"/>                </a>\\r\\n                <div class=\"list-image-line tabled-hide\"></div>\\r\\n            </div>\\r\\n            <h5><a href=\"https://portalcafebrasil.com.br/podcasts/cafe-brasil-853-e-natal-revisitado/\">Café Brasil 853 – É Natal Revisitado</a></h5>\\r\\n                        <div class=\"tabled-hide\"><p>Vamos caminhando para o final de mais um ano, e que ano, cara. Que ano&#8230; Por isso resolvi revisitar um episódio sobre o Natal, que publicamos láááá em\\xa0 2010, sabe? Na pré-história. Foi um episódio pra falar sobre o Natal, mas que acabou tratando de Música Popular Brasileira, de Natal.<br />\\nÉ um presente para fechar 2022 com um pouco de paz.</p>\\n</div>\\r\\n            <div class=\"list-dateauthor tabled-show\">| 21/12/2022 - <span>Luciano Pires</span></div>\\r\\n            <div class=\"tabled-show pull-right\"><a href=\"https://portalcafebrasil.com.br/podcasts/cafe-brasil-853-e-natal-revisitado/\" class=\"green\">Visualizar</a></div>\\r\\n        </div>\\r\\n    </div>\\r\\n        </div><div class=\"row\">    <div class=\"col-md-3\">\\r\\n        <div class=\"list-block top-space blue\">\\r\\n            <div class=\"list-type tabled-show blue\"><a href=\"https://portalcafebrasil.com.br/todos/podcasts/\" rel=\"category tag\">Podcasts</a></div>\\r\\n            <div class=\"list-image tabled-hide\">\\r\\n                <a href=\"https://portalcafebrasil.com.br/podcasts/cafe-brasil-852-os-donos-das-vendas/\" title=\"Café Brasil 852 – Os donos das vendas\">\\r\\n                    <img data-original=\"https://portalcafebrasil.com.br/wp-content/uploads/2022/12/luciano-pires-cafe-brasil-852-os-donos-das-vendas-1-370x290.png\" alt=\"Café Brasil 852 – Os donos das vendas\" class=\"img-responsive lazy\"/>                </a>\\r\\n                <div class=\"list-image-line tabled-hide\"></div>\\r\\n            </div>\\r\\n            <h5><a href=\"https://portalcafebrasil.com.br/podcasts/cafe-brasil-852-os-donos-das-vendas/\">Café Brasil 852 – Os donos das vendas</a></h5>\\r\\n                        <div class=\"tabled-hide\"><p>Fui convidado para participar do podcast Os Donos das Vendas, que é apresentado por Thiago Concer e Fabio Oliveira, do Sales Club. No bate-papo sobre tradição versus modernidade e as diferentes gerações, trocamos ideias sobre sociedade, mídia, vendas e a internet. É essa conversa que você ouvirá aqui hoje.</p>\\n</div>\\r\\n            <div class=\"list-dateauthor tabled-show\">| 14/12/2022 - <span>Luciano Pires</span></div>\\r\\n            <div class=\"tabled-show pull-right\"><a href=\"https://portalcafebrasil.com.br/podcasts/cafe-brasil-852-os-donos-das-vendas/\" class=\"green\">Visualizar</a></div>\\r\\n        </div>\\r\\n    </div>\\r\\n            <div class=\"col-md-3\">\\r\\n        <div class=\"list-block top-space blue\">\\r\\n            <div class=\"list-type tabled-show blue\"><a href=\"https://portalcafebrasil.com.br/todos/podcasts/\" rel=\"category tag\">Podcasts</a></div>\\r\\n            <div class=\"list-image tabled-hide\">\\r\\n                <a href=\"https://portalcafebrasil.com.br/podcasts/cafe-brasil-851-o-abandono-silencioso/\" title=\"Café Brasil 851 – O abandono silencioso\">\\r\\n                    <img data-original=\"https://portalcafebrasil.com.br/wp-content/uploads/2022/11/luciano-pires-cafe-brasil-851-o-abandono-silencioso-370x290.png\" alt=\"Café Brasil 851 – O abandono silencioso\" class=\"img-responsive lazy\"/>                </a>\\r\\n                <div class=\"list-image-line tabled-hide\"></div>\\r\\n            </div>\\r\\n            <h5><a href=\"https://portalcafebrasil.com.br/podcasts/cafe-brasil-851-o-abandono-silencioso/\">Café Brasil 851 – O abandono silencioso</a></h5>\\r\\n                        <div class=\"tabled-hide\"><p>Há algum tempo o termo “quiet quitting”, que pode ser traduzido livremente como “desistência silenciosa” ou abandono silencioso, começou a ganhar espaço dentro do universo profissional. Ele trata das pessoas que trabalham o mínimo necessário para não serem demitidas. Sem dar o “algo mais”, sacou? Mas será que é isso mesmo? Vamos refletir a respeito.</p>\\n</div>\\r\\n            <div class=\"list-dateauthor tabled-show\">| 07/12/2022 - <span>Luciano Pires</span></div>\\r\\n            <div class=\"tabled-show pull-right\"><a href=\"https://portalcafebrasil.com.br/podcasts/cafe-brasil-851-o-abandono-silencioso/\" class=\"green\">Visualizar</a></div>\\r\\n        </div>\\r\\n    </div>\\r\\n            <div class=\"col-md-3\">\\r\\n        <div class=\"list-block top-space blue\">\\r\\n            <div class=\"list-type tabled-show blue\"><a href=\"https://portalcafebrasil.com.br/todos/podcasts/\" rel=\"category tag\">Podcasts</a></div>\\r\\n            <div class=\"list-image tabled-hide\">\\r\\n                <a href=\"https://portalcafebrasil.com.br/podcasts/cafe-brasil-850-vida-caotica/\" title=\"Café Brasil 850 &#8211; Vida caótica\">\\r\\n                    <img data-original=\"https://portalcafebrasil.com.br/wp-content/uploads/2022/11/luciano-pires-cafe-brasil-850-vida-caotica-370x290.png\" alt=\"Café Brasil 850 &#8211; Vida caótica\" class=\"img-responsive lazy\"/>                </a>\\r\\n                <div class=\"list-image-line tabled-hide\"></div>\\r\\n            </div>\\r\\n            <h5><a href=\"https://portalcafebrasil.com.br/podcasts/cafe-brasil-850-vida-caotica/\">Café Brasil 850 &#8211; Vida caótica</a></h5>\\r\\n                        <div class=\"tabled-hide\"><p>Cada ano que passa, parece ter sido mais insano que o ano anterior, não é? Entramos numa aceleração que parece que faz com que tudo aconteça ao mesmo tempo, gerando uma sensação de caos, de angústia. O que é que está acontecendo com o mundo, hein? Virou um caos?</p>\\n</div>\\r\\n            <div class=\"list-dateauthor tabled-show\">| 30/11/2022 - <span>Luciano Pires</span></div>\\r\\n            <div class=\"tabled-show pull-right\"><a href=\"https://portalcafebrasil.com.br/podcasts/cafe-brasil-850-vida-caotica/\" class=\"green\">Visualizar</a></div>\\r\\n        </div>\\r\\n    </div>\\r\\n            <div class=\"col-md-3\">\\r\\n        <div class=\"list-block top-space blue\">\\r\\n            <div class=\"list-type tabled-show blue\"><a href=\"https://portalcafebrasil.com.br/todos/podcasts/\" rel=\"category tag\">Podcasts</a></div>\\r\\n            <div class=\"list-image tabled-hide\">\\r\\n                <a href=\"https://portalcafebrasil.com.br/podcasts/cafe-brasil-849-a-cegueira-da-escolha/\" title=\"Café Brasil 849 &#8211; A cegueira da escolha\">\\r\\n                    <img data-original=\"https://portalcafebrasil.com.br/wp-content/uploads/2022/11/luciano-pires-cafe-brasil-849-a-cegueira-da-escolha-370x290.png\" alt=\"Café Brasil 849 &#8211; A cegueira da escolha\" class=\"img-responsive lazy\"/>                </a>\\r\\n                <div class=\"list-image-line tabled-hide\"></div>\\r\\n            </div>\\r\\n            <h5><a href=\"https://portalcafebrasil.com.br/podcasts/cafe-brasil-849-a-cegueira-da-escolha/\">Café Brasil 849 &#8211; A cegueira da escolha</a></h5>\\r\\n                        <div class=\"tabled-hide\"><p>Nossas opiniões e atitudes políticas são parte fundamental de quem nós somos. E de como construímos nossas identidades. Se eu pedir sua opinião sobre escolhas ou fatos políticos, você provavelmente a compartilhará comigo, mas também provavelmente resistirá a qualquer tentativa que eu fizer de tentar persuadi-lo a adotar um outro ponto de vista, não é? Afinal, se há algo que nos parece certo, são nossas próprias atitudes. Ou não? Mas&#8230; e se esse não fosse o caso?</p>\\n</div>\\r\\n            <div class=\"list-dateauthor tabled-show\">| 23/11/2022 - <span>Luciano Pires</span></div>\\r\\n            <div class=\"tabled-show pull-right\"><a href=\"https://portalcafebrasil.com.br/podcasts/cafe-brasil-849-a-cegueira-da-escolha/\" class=\"green\">Visualizar</a></div>\\r\\n        </div>\\r\\n    </div>\\r\\n    </div>            </div>\\r\\n    <div id=\"loader\" class=\"text-center\">\\r\\n        <img src=\"https://portalcafebrasil.com.br/wp-content/themes/xpirit/images/loader.gif\" width=\"32\" height=\"32\"/>\\r\\n    </div>\\r\\n\\t<footer>\\n    <div class=\"footer-container\">\\n        <div class=\"container\">\\n            <div class=\"row border-bottom hidden-xs hidden-sm\">\\n                <div class=\"col-md-2\">\\n                    <h4>Café Brasil</h4>\\n                    <ul id=\"menu-r-cafe-brasil\" class=\"list-unstyled footer-menu\"><li id=\"menu-item-24017\" class=\"menu-item menu-item-type-post_type menu-item-object-page menu-item-24017\"><a href=\"https://portalcafebrasil.com.br/que-site-e-este/\">Que site é este?</a></li>\\n<li id=\"menu-item-24035\" class=\"menu-item menu-item-type-post_type menu-item-object-page menu-item-24035\"><a href=\"https://portalcafebrasil.com.br/quem-faz-o-cafe-brasil/\">Quem faz o Café Brasil</a></li>\\n<li id=\"menu-item-18\" class=\"menu-item menu-item-type-custom menu-item-object-custom menu-item-18\"><a href=\"https://lucianopires.com.br/contato/\">Contato</a></li>\\n<li id=\"menu-item-24019\" class=\"menu-item menu-item-type-post_type menu-item-object-page menu-item-24019\"><a href=\"https://portalcafebrasil.com.br/tudo-sobre-podcasts/patrocinar-o-podcast/\">Anuncie</a></li>\\n<li id=\"menu-item-20\" class=\"menu-item menu-item-type-custom menu-item-object-custom menu-item-20\"><a href=\"https://lucianopires.com.br/loja/\">Loja Café Brasil</a></li>\\n<li id=\"menu-item-21\" class=\"menu-item menu-item-type-custom menu-item-object-custom menu-item-21\"><a target=\"_blank\" rel=\"noopener\" href=\"http://portalcafebrasil.com.br/radio\">Rádio Web</a></li>\\n</ul>                </div>\\n                <div class=\"col-md-2\">\\n                    <h4>Fitness Intelectual</h4>\\n                    <ul id=\"menu-r-fitness-intelectual\" class=\"list-unstyled footer-menu\"><li id=\"menu-item-24023\" class=\"menu-item menu-item-type-taxonomy menu-item-object-category menu-item-24023\"><a href=\"https://portalcafebrasil.com.br/todos/artigos/\">Artigos do Luciano</a></li>\\n<li id=\"menu-item-24024\" class=\"menu-item menu-item-type-taxonomy menu-item-object-category current-menu-item menu-item-24024\"><a href=\"https://portalcafebrasil.com.br/todos/podcasts/\" aria-current=\"page\">Podcasts</a></li>\\n<li id=\"menu-item-24026\" class=\"menu-item menu-item-type-taxonomy menu-item-object-category menu-item-24026\"><a href=\"https://portalcafebrasil.com.br/todos/videocasts/\">Videocasts</a></li>\\n<li id=\"menu-item-24025\" class=\"menu-item menu-item-type-taxonomy menu-item-object-category menu-item-24025\"><a href=\"https://portalcafebrasil.com.br/todos/iscas-intelectuais/\">Iscas Intelectuais</a></li>\\n<li id=\"menu-item-24022\" class=\"menu-item menu-item-type-taxonomy menu-item-object-category menu-item-24022\"><a href=\"https://portalcafebrasil.com.br/todos/cafepedia/\">Cafepedia</a></li>\\n<li id=\"menu-item-24028\" class=\"menu-item menu-item-type-post_type menu-item-object-page menu-item-24028\"><a href=\"https://portalcafebrasil.com.br/que-site-e-este/\">Que site é este?</a></li>\\n<li id=\"menu-item-24027\" class=\"menu-item menu-item-type-post_type menu-item-object-page menu-item-24027\"><a href=\"https://portalcafebrasil.com.br/como-manter-se-atualizado/\">Como manter-se atualizado</a></li>\\n</ul>                </div>\\n                <div class=\"col-md-2\">\\n                    <h4>Confraria</h4>\\n                    <ul id=\"menu-r-confraria\" class=\"list-unstyled footer-menu\"><li id=\"menu-item-25701\" class=\"menu-item menu-item-type-custom menu-item-object-custom menu-item-25701\"><a href=\"https://lucianopires.com.br/contato/\">Entre em Contato</a></li>\\n</ul>                </div>\\n                <div class=\"col-md-2\">\\n                    <h4>Podcasts</h4>\\n                    <ul id=\"menu-r-podcasts\" class=\"list-unstyled footer-menu\"><li id=\"menu-item-25361\" class=\"menu-item menu-item-type-post_type menu-item-object-page menu-item-25361\"><a href=\"https://portalcafebrasil.com.br/tudo-sobre-podcasts/qual-o-feed-do-podcast-cafe-brasil/\">Feed Podcast Café Brasil</a></li>\\n<li id=\"menu-item-23826\" class=\"menu-item menu-item-type-post_type menu-item-object-page menu-item-23826\"><a href=\"https://portalcafebrasil.com.br/tudo-sobre-podcasts/historia-do-programa/\">História do Programa</a></li>\\n<li id=\"menu-item-23827\" class=\"menu-item menu-item-type-post_type menu-item-object-page menu-item-23827\"><a href=\"https://portalcafebrasil.com.br/tudo-sobre-podcasts/mundo-dos-podcasts/\">O que é podcast?</a></li>\\n<li id=\"menu-item-23987\" class=\"menu-item menu-item-type-taxonomy menu-item-object-category current-menu-item menu-item-23987\"><a href=\"https://portalcafebrasil.com.br/todos/podcasts/\" aria-current=\"page\">Programas</a></li>\\n<li id=\"menu-item-23986\" class=\"menu-item menu-item-type-post_type menu-item-object-page menu-item-23986\"><a href=\"https://portalcafebrasil.com.br/tudo-sobre-podcasts/quem-faz-o-cafe-brasil/\">Quem faz o Café Brasil</a></li>\\n<li id=\"menu-item-35\" class=\"menu-item menu-item-type-custom menu-item-object-custom menu-item-35\"><a href=\"http://www.lucianopires.com.br\">Quem é Luciano Pires?</a></li>\\n<li id=\"menu-item-36\" class=\"menu-item menu-item-type-custom menu-item-object-custom menu-item-36\"><a href=\"http://portalcafebrasil.com.br/videocast/026-como-baixar-podcasts-usando-rss-e-feeds\">Ouvindo os Podcasts no iTunes</a></li>\\n<li id=\"menu-item-24029\" class=\"menu-item menu-item-type-post_type menu-item-object-page menu-item-24029\"><a href=\"https://portalcafebrasil.com.br/tudo-sobre-podcasts/patrocinar-o-podcast/\">Patrocinar o Podcast</a></li>\\n<li id=\"menu-item-24030\" class=\"menu-item menu-item-type-post_type menu-item-object-page menu-item-24030\"><a href=\"https://portalcafebrasil.com.br/tudo-sobre-podcasts/ajude-a-manter/\">Ajude a manter o programa</a></li>\\n</ul>                </div>\\n                <div class=\"col-md-2\">\\n                    <h4>Social</h4>\\n                    <ul id=\"menu-r-social\" class=\"list-unstyled footer-menu\"><li id=\"menu-item-39\" class=\"menu-item menu-item-type-custom menu-item-object-custom menu-item-39\"><a target=\"_blank\" rel=\"noopener\" href=\"https://www.facebook.com/portalcafebrasil\">Curta nossa página</a></li>\\n<li id=\"menu-item-40\" class=\"menu-item menu-item-type-custom menu-item-object-custom menu-item-40\"><a target=\"_blank\" rel=\"noopener\" href=\"https://twitter.com/Cafe_Brasil\">Siga nosso Twitter</a></li>\\n<li id=\"menu-item-41\" class=\"menu-item menu-item-type-custom menu-item-object-custom menu-item-41\"><a href=\"/feed/\">Assine nosso RSS</a></li>\\n<li id=\"menu-item-42\" class=\"menu-item menu-item-type-custom menu-item-object-custom menu-item-42\"><a target=\"_blank\" rel=\"noopener\" href=\"https://itunes.apple.com/br/podcast/cafe-brasil-podcast/id191182582\">Assinar o iTunes</a></li>\\n</ul>                </div>\\n                <div class=\"col-md-2 hidden\">\\n                    <h4>Loja</h4>\\n                    <ul id=\"menu-r-loja\" class=\"list-unstyled footer-menu\"><li id=\"menu-item-43\" class=\"menu-item menu-item-type-custom menu-item-object-custom menu-item-43\"><a href=\"#\">Seus Pedidos</a></li>\\n<li id=\"menu-item-44\" class=\"menu-item menu-item-type-custom menu-item-object-custom menu-item-44\"><a href=\"#\">Seus downloads</a></li>\\n<li id=\"menu-item-45\" class=\"menu-item menu-item-type-custom menu-item-object-custom menu-item-45\"><a href=\"#\">Sacola de Compras</a></li>\\n<li id=\"menu-item-46\" class=\"menu-item menu-item-type-custom menu-item-object-custom menu-item-46\"><a href=\"#\">Sua Conta</a></li>\\n</ul>                </div>\\n            </div>\\n            <div class=\"row newsletter-social\">\\n                <div class=\"col-md-6\">\\n                    <form class=\"form-inline\" role=\"form\" action=\"https://receiver.emkt.dinamize.com/in/312973/1/9dd6\" method=\"post\">\\n                        <input type=\"hidden\" name=\"update_mode\" value=\"AS\">\\n                        <input type=\"hidden\" name=\"text-confirmation\" value=\"Qm9tIGRpYSwgYm9hIHRhcmRlLCBib2Egbm9pdGUhPGJyIC8+PGJyIC8+T2JyaWdhZG88YnIgLz5wb3ImbmJzcDthc3NpbmFyJm5ic3A7YSBuZXdzbGV0dGVyITxiciAvPjxiciAvPlVtIGFicmEmY2NlZGlsO28sPGJyIC8+THVjaWFubyBQaXJlcw==\">\\n                        <input type=\"hidden\" name=\"cmp4\" value=\"InscritosPeloSite|Subscribed_Members\">\\n                        <input type=\"hidden\" name=\"text-error\" value=\"\">\\n                        <div class=\"form-group\">\\n                            <label class=\"sr-only\" for=\"email\">Email</label>\\n                            <input type=\"email\" class=\"form-control no-round\" id=\"cmp1\" name=\"cmp1\" placeholder=\"Digite seu e-mail\" required>\\n                        </div>\\n                        <button type=\"submit\" class=\"btn btn-default green no-round\">ASSINAR</button>\\n                    </form>\\n                    <p class=\"small\">Assine nossa newsletter gratuita e receba nosso conteúdo no seu e-mail</p>\\n                </div>\\n                <div class=\"col-md-6 text-right hidden-xs\">\\n\\t\\t\\t\\t\\t<style>\\n\\t\\t\\t\\t\\t\\tul.list-inline.julioao img{width: 35px;}\\n\\t\\t\\t\\t\\t</style>\\n                    <ul class=\"list-inline julioao\">\\n                        <li class=\"facebook\"><a href=\"https://www.facebook.com/portalcafebrasil\" target=\"_blank\"><img src=\"https://portalcafebrasil.com.br/wp-content/themes/xpirit/images/ico-facebook.png\" alt=\"Café Brasil no Facebook\" title=\"Café Brasil no Facebook\"/></a></li>\\n                        <li class=\"twitter\"><a href=\"https://twitter.com/Cafe_Brasil\" target=\"_blank\"><img src=\"https://portalcafebrasil.com.br/wp-content/themes/xpirit/images/ico-twitter.png\" alt=\"Café Brasil no Twitter\" title=\"Café Brasil no Twitter\"/></a></li>\\n                        <li class=\"linkedin\"><a href=\"https://www.linkedin.com/company/portal-caf%C3%A9-brasil?trk=biz-companies-cym\" target=\"_blank\"><img src=\"https://portalcafebrasil.com.br/wp-content/uploads/2020/06/linkedin_14170-150x150.png\" alt=\"Café Brasil no LinkedIn\" title=\"Café Brasil no LinkedIn\"/></a></li>\\n                        <li class=\"rss\"><a href=\"https://portalcafebrasil.com.br/feed/\"><img src=\"https://portalcafebrasil.com.br/wp-content/themes/xpirit/images/ico-rss.png\" alt=\"RSS do Café Brasil\" title=\"RSS do Café Brasil\"/></a></li>\\n                    </ul>\\n                </div>\\n            </div>\\n        </div>\\n    </div>\\n    <div class=\"copyright-container\">\\n        <div class=\"container\">\\n            <div class=\"row\">\\n                <div class=\"col-md-12 text-center\">Copyright ©2023 Café Brasil Editorial Ltda. - Fique a vontade para compartilhar o que desejar, mas por favor credite a fonte. Nos ajude a despocotizar o Brasil.</div>\\n<!--                 <div class=\"col-md-2 text-right\">Desenvolvido por <a href=\"http://www.xpirit.com.br\" target=\"_blank\" title=\"Desenvolvido por Xpirit\">Xpirit</a></div>             -->\\n            </div>\\n        </div>\\n    </div>\\n</footer>\\n\\n\\n\\n\\n\\n<script src=\"https://portalcafebrasil.com.br/wp-content/themes/xpirit/js/bootstrap.min.js\"></script>\\n<script src=\"https://portalcafebrasil.com.br/wp-content/themes/xpirit/js/jquery.lazyload.min.js\"></script>\\n<script src=\"https://portalcafebrasil.com.br/wp-content/themes/xpirit/js/xpirit.js\"></script>\\n<script type=\"text/javascript\" src=\"https://apis.google.com/js/platform.js\"> {\\n    lang: \\'pt-BR\\'\\n}\\n</script>\\n\\n<style>\\n\\ta#botao_whats{\\n    position: fixed;\\n    bottom: 20px;\\n    left: 20px;\\n    background: #fff;\\n    font-size: 40px;\\n    z-index: 1;\\n    padding: 0px 15px;\\n    border-radius: 100%;\\n    color: #18b118dd;\\n}\\n</style>\\n<a href=\"https://api.whatsapp.com/send?phone=5511964294748\" target=\"_blank\" id=\"botao_whats\"><i class=\"fab fa-whatsapp\"></i></a>\\n\\n\\n\\n<!-- GTM Container placement set to footer -->\\n<!-- Google Tag Manager (noscript) -->\\n\\t\\t\\t\\t<noscript><iframe src=\"https://www.googletagmanager.com/ns.html?id=GTM-PRTWJ6G\" height=\"0\" width=\"0\" style=\"display:none;visibility:hidden\" aria-hidden=\"true\"></iframe></noscript>\\n<!-- End Google Tag Manager (noscript) --><script type=\\'text/javascript\\' id=\\'clicktrack-adrotate-js-extra\\'>\\n/* <![CDATA[ */\\nvar click_object = {\"ajax_url\":\"https:\\\\/\\\\/portalcafebrasil.com.br\\\\/wp-admin\\\\/admin-ajax.php\"};\\n/* ]]> */\\n</script>\\n<script type=\\'text/javascript\\' src=\\'https://portalcafebrasil.com.br/wp-content/plugins/adrotate/library/jquery.adrotate.clicktracker.js\\' id=\\'clicktrack-adrotate-js\\'></script>\\n<script type=\\'text/javascript\\' src=\\'https://portalcafebrasil.com.br/wp-includes/js/dist/vendor/regenerator-runtime.min.js?ver=0.13.9\\' id=\\'regenerator-runtime-js\\'></script>\\n<script type=\\'text/javascript\\' src=\\'https://portalcafebrasil.com.br/wp-includes/js/dist/vendor/wp-polyfill.min.js?ver=3.15.0\\' id=\\'wp-polyfill-js\\'></script>\\n<script type=\\'text/javascript\\' id=\\'contact-form-7-js-extra\\'>\\n/* <![CDATA[ */\\nvar wpcf7 = {\"api\":{\"root\":\"https:\\\\/\\\\/portalcafebrasil.com.br\\\\/wp-json\\\\/\",\"namespace\":\"contact-form-7\\\\/v1\"},\"cached\":\"1\"};\\n/* ]]> */\\n</script>\\n<script type=\\'text/javascript\\' src=\\'https://portalcafebrasil.com.br/wp-content/plugins/contact-form-7/includes/js/index.js?ver=5.5.6\\' id=\\'contact-form-7-js\\'></script>\\n<script type=\\'text/javascript\\' id=\\'ppress-frontend-script-js-extra\\'>\\n/* <![CDATA[ */\\nvar pp_ajax_form = {\"ajaxurl\":\"https:\\\\/\\\\/portalcafebrasil.com.br\\\\/wp-admin\\\\/admin-ajax.php\",\"confirm_delete\":\"Are you sure?\",\"deleting_text\":\"Deleting...\",\"deleting_error\":\"An error occurred. Please try again.\",\"nonce\":\"085630e606\",\"disable_ajax_form\":\"false\",\"is_checkout\":\"0\",\"is_checkout_tax_enabled\":\"0\"};\\n/* ]]> */\\n</script>\\n<script type=\\'text/javascript\\' src=\\'https://portalcafebrasil.com.br/wp-content/plugins/wp-user-avatar/assets/js/frontend.min.js?ver=4.6.0\\' id=\\'ppress-frontend-script-js\\'></script>\\n<script type=\"text/javascript\" async src=\"https://d335luupugsy2.cloudfront.net/js/loader-scripts/8999f600-d92f-4cd1-a4d5-d9ac204a6a18-loader.js\"></script>\\n</body>\\n</html>'"
            ],
            "application/vnd.google.colaboratory.intrinsic+json": {
              "type": "string"
            }
          },
          "metadata": {},
          "execution_count": 2
        }
      ]
    },
    {
      "cell_type": "code",
      "source": [
        "soup = bs(resp.text)\n",
        "soup"
      ],
      "metadata": {
        "id": "jheq--0pmGMT"
      },
      "execution_count": null,
      "outputs": []
    },
    {
      "cell_type": "code",
      "source": [
        "soup.find('h5')"
      ],
      "metadata": {
        "colab": {
          "base_uri": "https://localhost:8080/"
        },
        "id": "WDVfjpQAps6O",
        "outputId": "1604017e-473d-459c-c640-46d853823f47"
      },
      "execution_count": null,
      "outputs": [
        {
          "output_type": "execute_result",
          "data": {
            "text/plain": [
              "<h5><a href=\"https://portalcafebrasil.com.br/podcasts/cafe-brasil-859-oestecast/\">Café Brasil 859 – OesteCast</a></h5>"
            ]
          },
          "metadata": {},
          "execution_count": 13
        }
      ]
    },
    {
      "cell_type": "code",
      "source": [
        "soup.find('h5').text"
      ],
      "metadata": {
        "colab": {
          "base_uri": "https://localhost:8080/",
          "height": 36
        },
        "id": "xuNk8MCSpwrX",
        "outputId": "2aa061a1-1fda-4e03-ab6b-d9058e7fbf0f"
      },
      "execution_count": null,
      "outputs": [
        {
          "output_type": "execute_result",
          "data": {
            "text/plain": [
              "'Café Brasil 859 – OesteCast'"
            ],
            "application/vnd.google.colaboratory.intrinsic+json": {
              "type": "string"
            }
          },
          "metadata": {},
          "execution_count": 14
        }
      ]
    },
    {
      "cell_type": "code",
      "source": [
        "soup.find('h5').a['href']"
      ],
      "metadata": {
        "colab": {
          "base_uri": "https://localhost:8080/",
          "height": 36
        },
        "id": "_28CXMEep3Y2",
        "outputId": "7a091b63-0627-4990-f0c9-124112415f46"
      },
      "execution_count": null,
      "outputs": [
        {
          "output_type": "execute_result",
          "data": {
            "text/plain": [
              "'https://portalcafebrasil.com.br/podcasts/cafe-brasil-859-oestecast/'"
            ],
            "application/vnd.google.colaboratory.intrinsic+json": {
              "type": "string"
            }
          },
          "metadata": {},
          "execution_count": 19
        }
      ]
    },
    {
      "cell_type": "code",
      "source": [
        "for pod in soup.find_all('h5'):\n",
        "  print(f'Episódio: {pod.text}. - Link: {pod.a[\"href\"]}')"
      ],
      "metadata": {
        "colab": {
          "base_uri": "https://localhost:8080/"
        },
        "id": "pcKjRpf8qIAn",
        "outputId": "046c3787-e67e-4285-be8f-8fb24f3f937e"
      },
      "execution_count": null,
      "outputs": [
        {
          "output_type": "stream",
          "name": "stdout",
          "text": [
            "Episódio: Café Brasil 859 – OesteCast. - Link: https://portalcafebrasil.com.br/podcasts/cafe-brasil-859-oestecast/\n",
            "Episódio: Café Brasil 858 – Um velho safado. - Link: https://portalcafebrasil.com.br/podcasts/cafe-brasil-858-um-velho-safado/\n",
            "Episódio: Café Brasil 857 – Independência ou morte. - Link: https://portalcafebrasil.com.br/podcasts/cafe-brasil-857-independencia-ou-morte/\n",
            "Episódio: Café Brasil 856 – Tá na hora do Café Com leite. - Link: https://portalcafebrasil.com.br/podcasts/cafe-brasil-856-ta-na-hora-do-cafe-com-leite/\n",
            "Episódio: Café Brasil 855 – Alguém me avisou. - Link: https://portalcafebrasil.com.br/podcasts/cafe-brasil-855-alguem-me-avisou/\n",
            "Episódio: Café Brasil 854 – O Otimismo Trágico. - Link: https://portalcafebrasil.com.br/podcasts/cafe-brasil-854-o-otimismo-tragico/\n",
            "Episódio: Café Brasil 853 – É Natal Revisitado. - Link: https://portalcafebrasil.com.br/podcasts/cafe-brasil-853-e-natal-revisitado/\n",
            "Episódio: Café Brasil 852 – Os donos das vendas. - Link: https://portalcafebrasil.com.br/podcasts/cafe-brasil-852-os-donos-das-vendas/\n",
            "Episódio: Café Brasil 851 – O abandono silencioso. - Link: https://portalcafebrasil.com.br/podcasts/cafe-brasil-851-o-abandono-silencioso/\n",
            "Episódio: Café Brasil 850 – Vida caótica. - Link: https://portalcafebrasil.com.br/podcasts/cafe-brasil-850-vida-caotica/\n",
            "Episódio: Café Brasil 849 – A cegueira da escolha. - Link: https://portalcafebrasil.com.br/podcasts/cafe-brasil-849-a-cegueira-da-escolha/\n",
            "Episódio: Café Brasil 848 – Meu nome é Gal.. - Link: https://portalcafebrasil.com.br/podcasts/cafe-brasil-848-meu-nome-e-gal/\n",
            "Episódio: Café Brasil 847 – Dissonância Cognitiva – Revisitado. - Link: https://portalcafebrasil.com.br/podcasts/cafe-brasil-847-dissonancia-cognitiva-revisitado/\n",
            "Episódio: Café Brasil 846 – Sina. - Link: https://portalcafebrasil.com.br/podcasts/cafe-brasil-846-sina/\n",
            "Episódio: Café Brasil 845 – Merdades e Ventiras live. - Link: https://portalcafebrasil.com.br/podcasts/cafe-brasil-845-merdades-e-ventiras-live/\n",
            "Episódio: Café Brasil 844 – Narrativas moldam o mundo. - Link: https://portalcafebrasil.com.br/podcasts/cafe-brasil-844-narrativas-moldam-o-mundo/\n"
          ]
        }
      ]
    },
    {
      "cell_type": "markdown",
      "source": [
        "#Parte 2 - Extraindo os dados de todas as páginas"
      ],
      "metadata": {
        "id": "g-jH2vU0vZxN"
      }
    },
    {
      "cell_type": "code",
      "source": [
        "url = 'https://portalcafebrasil.com.br/todos/podcasts/page/{}/?ajax=true'\n",
        "resp = requests.get(url.format(2))\n",
        "soup = bs(resp.text)\n",
        "soup.find('h5').text"
      ],
      "metadata": {
        "colab": {
          "base_uri": "https://localhost:8080/",
          "height": 36
        },
        "id": "c9mcQnDwtM1r",
        "outputId": "bcb1916d-f29e-4498-d73c-cf50bed1dceb"
      },
      "execution_count": null,
      "outputs": [
        {
          "output_type": "execute_result",
          "data": {
            "text/plain": [
              "'Café Brasil 843 – O nosso hino'"
            ],
            "application/vnd.google.colaboratory.intrinsic+json": {
              "type": "string"
            }
          },
          "metadata": {},
          "execution_count": 41
        }
      ]
    },
    {
      "cell_type": "code",
      "source": [
        "def get_podcasts(url):\n",
        "  resp = requests.get(url.format(2))\n",
        "  soup = bs(resp.text)\n",
        "  return soup.find_all('h5')"
      ],
      "metadata": {
        "id": "9CbqRNaTw5hN"
      },
      "execution_count": null,
      "outputs": []
    },
    {
      "cell_type": "code",
      "source": [
        "get_podcasts(url.format(3))"
      ],
      "metadata": {
        "colab": {
          "base_uri": "https://localhost:8080/"
        },
        "id": "ah6egiCJxXYw",
        "outputId": "434ad718-7e4e-451f-ad51-1554133d8f20"
      },
      "execution_count": null,
      "outputs": [
        {
          "output_type": "execute_result",
          "data": {
            "text/plain": [
              "[<h5><a href=\"https://portalcafebrasil.com.br/podcasts/cafe-brasil-827-a-complicada-arte-de-ver-revisitado/\">Café Brasil 827 – A complicada arte de ver – Revisitado</a></h5>,\n",
              " <h5><a href=\"https://portalcafebrasil.com.br/podcasts/cafe-brasil-826-os-fatos-ora-os-fatos/\">Café Brasil 826 – Os fatos? Ora, os fatos…</a></h5>,\n",
              " <h5><a href=\"https://portalcafebrasil.com.br/podcasts/cafe-brasil-825-precisamos-falar-sobre-o-medo/\">Café Brasil 825 – Precisamos falar sobre o medo</a></h5>,\n",
              " <h5><a href=\"https://portalcafebrasil.com.br/podcasts/cafe-brasil-824-choque-de-geracoes/\">Café Brasil 824 – Choque de gerações</a></h5>,\n",
              " <h5><a href=\"https://portalcafebrasil.com.br/podcasts/cafe-brasil-823-dinheiro-rico-sem-pobre-com/\">Café Brasil 823 – Dinheiro: rico sem, pobre com</a></h5>,\n",
              " <h5><a href=\"https://portalcafebrasil.com.br/podcasts/cafe-brasil-822-cafe-ao-quadrado/\">Café Brasil 822 – Café ao Quadrado</a></h5>,\n",
              " <h5><a href=\"https://portalcafebrasil.com.br/podcasts/cafe-brasil-821-o-amor-que-nunca-morre/\">Café Brasil 821 – O amor que nunca morre</a></h5>,\n",
              " <h5><a href=\"https://portalcafebrasil.com.br/podcasts/cafe-brasil-820-my-generations/\">Café Brasil 820 – My Generations</a></h5>,\n",
              " <h5><a href=\"https://portalcafebrasil.com.br/podcasts/cafe-brasil-819-num-sei-por-que-to-tao-feliz/\">Café Brasil 819 – Num sei por que tô tão feliz</a></h5>,\n",
              " <h5><a href=\"https://portalcafebrasil.com.br/podcasts/cafe-brasil-818-a-cultura-do-cancelamento/\">Café Brasil 818 – A cultura do cancelamento</a></h5>,\n",
              " <h5><a href=\"https://portalcafebrasil.com.br/podcasts/cafe-brasil-817-exibicionismo-moral/\">Café Brasil 817 – Exibicionismo Moral</a></h5>,\n",
              " <h5><a href=\"https://portalcafebrasil.com.br/podcasts/cafe-brasil-816-leve-a-serio-e-educacao-dos-filhos/\">Café Brasil 816 – Leve a sério e educação dos filhos</a></h5>,\n",
              " <h5><a href=\"https://portalcafebrasil.com.br/podcasts/cafe-brasil-815-redes-sociais-bem-ou-mal/\">Café Brasil 815 – Redes sociais: bem ou mal?</a></h5>,\n",
              " <h5><a href=\"https://portalcafebrasil.com.br/podcasts/cafe-brasil-814-o-navio-de-teseu/\">Café Brasil 814 – O Navio de Teseu</a></h5>,\n",
              " <h5><a href=\"https://portalcafebrasil.com.br/podcasts/cafe-brasil-813-no-creo-en-brujas/\">Café Brasil 813 – No creo en brujas</a></h5>,\n",
              " <h5><a href=\"https://portalcafebrasil.com.br/podcasts/cafe-brasil-812-agroecologia-e-manipulacao/\">Café Brasil 812 – Agroecologia e Manipulação</a></h5>]"
            ]
          },
          "metadata": {},
          "execution_count": 43
        }
      ]
    },
    {
      "cell_type": "code",
      "source": [
        "log = logging.getLogger()\n",
        "log.setLevel(logging.DEBUG)\n",
        "formatter = logging.Formatter(\n",
        "    '%(asctime)s - %(name)s - %(levelname)s - %(message)s')\n",
        "ch = logging.StreamHandler()\n",
        "ch.setFormatter(formatter)\n",
        "log.addHandler(ch)"
      ],
      "metadata": {
        "id": "xRbw6Qva0OCC"
      },
      "execution_count": null,
      "outputs": []
    },
    {
      "cell_type": "code",
      "source": [
        "i = 1\n",
        "lst_podcast = []\n",
        "lst_get = get_podcasts(url.format(i))\n",
        "log.debug(f'Coletado {len(lst_get)} do link: {url.format(i)}')\n",
        "\n",
        "while len(lst_get) > 0:\n",
        "  lst_podcast = lst_podcast + lst_get\n",
        "  i += 1\n",
        "  lst_get = get_podcasts(url.format(i))\n",
        "  log.debug(f'Coletado {len(lst_get)} do link: {url.format(i)}')"
      ],
      "metadata": {
        "colab": {
          "base_uri": "https://localhost:8080/"
        },
        "id": "pxaBnlMiyzIs",
        "outputId": "2e2adee3-fba8-45ef-cb6c-38c9ed662364"
      },
      "execution_count": null,
      "outputs": [
        {
          "output_type": "stream",
          "name": "stderr",
          "text": [
            "DEBUG:urllib3.connectionpool:Starting new HTTPS connection (1): portalcafebrasil.com.br:443\n",
            "2023-02-02 01:55:24,462 - urllib3.connectionpool - DEBUG - Starting new HTTPS connection (1): portalcafebrasil.com.br:443\n",
            "DEBUG:urllib3.connectionpool:https://portalcafebrasil.com.br:443 \"GET /todos/podcasts/page/1/?ajax=true HTTP/1.1\" 301 0\n",
            "2023-02-02 01:55:24,951 - urllib3.connectionpool - DEBUG - https://portalcafebrasil.com.br:443 \"GET /todos/podcasts/page/1/?ajax=true HTTP/1.1\" 301 0\n",
            "DEBUG:urllib3.connectionpool:https://portalcafebrasil.com.br:443 \"GET /todos/podcasts/?ajax=true HTTP/1.1\" 200 None\n",
            "2023-02-02 01:55:25,452 - urllib3.connectionpool - DEBUG - https://portalcafebrasil.com.br:443 \"GET /todos/podcasts/?ajax=true HTTP/1.1\" 200 None\n",
            "DEBUG:root:Coletado 16 do link: https://portalcafebrasil.com.br/todos/podcasts/page/1/?ajax=true\n",
            "2023-02-02 01:55:25,468 - root - DEBUG - Coletado 16 do link: https://portalcafebrasil.com.br/todos/podcasts/page/1/?ajax=true\n",
            "DEBUG:urllib3.connectionpool:Starting new HTTPS connection (1): portalcafebrasil.com.br:443\n",
            "2023-02-02 01:55:25,475 - urllib3.connectionpool - DEBUG - Starting new HTTPS connection (1): portalcafebrasil.com.br:443\n",
            "DEBUG:urllib3.connectionpool:https://portalcafebrasil.com.br:443 \"GET /todos/podcasts/page/2/?ajax=true HTTP/1.1\" 200 None\n",
            "2023-02-02 01:55:26,146 - urllib3.connectionpool - DEBUG - https://portalcafebrasil.com.br:443 \"GET /todos/podcasts/page/2/?ajax=true HTTP/1.1\" 200 None\n",
            "DEBUG:root:Coletado 16 do link: https://portalcafebrasil.com.br/todos/podcasts/page/2/?ajax=true\n",
            "2023-02-02 01:55:26,165 - root - DEBUG - Coletado 16 do link: https://portalcafebrasil.com.br/todos/podcasts/page/2/?ajax=true\n",
            "DEBUG:urllib3.connectionpool:Starting new HTTPS connection (1): portalcafebrasil.com.br:443\n",
            "2023-02-02 01:55:26,171 - urllib3.connectionpool - DEBUG - Starting new HTTPS connection (1): portalcafebrasil.com.br:443\n",
            "DEBUG:urllib3.connectionpool:https://portalcafebrasil.com.br:443 \"GET /todos/podcasts/page/3/?ajax=true HTTP/1.1\" 200 None\n",
            "2023-02-02 01:55:26,796 - urllib3.connectionpool - DEBUG - https://portalcafebrasil.com.br:443 \"GET /todos/podcasts/page/3/?ajax=true HTTP/1.1\" 200 None\n",
            "DEBUG:root:Coletado 16 do link: https://portalcafebrasil.com.br/todos/podcasts/page/3/?ajax=true\n",
            "2023-02-02 01:55:26,811 - root - DEBUG - Coletado 16 do link: https://portalcafebrasil.com.br/todos/podcasts/page/3/?ajax=true\n",
            "DEBUG:urllib3.connectionpool:Starting new HTTPS connection (1): portalcafebrasil.com.br:443\n",
            "2023-02-02 01:55:26,817 - urllib3.connectionpool - DEBUG - Starting new HTTPS connection (1): portalcafebrasil.com.br:443\n",
            "DEBUG:urllib3.connectionpool:https://portalcafebrasil.com.br:443 \"GET /todos/podcasts/page/4/?ajax=true HTTP/1.1\" 200 None\n",
            "2023-02-02 01:55:27,312 - urllib3.connectionpool - DEBUG - https://portalcafebrasil.com.br:443 \"GET /todos/podcasts/page/4/?ajax=true HTTP/1.1\" 200 None\n",
            "DEBUG:root:Coletado 16 do link: https://portalcafebrasil.com.br/todos/podcasts/page/4/?ajax=true\n",
            "2023-02-02 01:55:27,331 - root - DEBUG - Coletado 16 do link: https://portalcafebrasil.com.br/todos/podcasts/page/4/?ajax=true\n",
            "DEBUG:urllib3.connectionpool:Starting new HTTPS connection (1): portalcafebrasil.com.br:443\n",
            "2023-02-02 01:55:27,339 - urllib3.connectionpool - DEBUG - Starting new HTTPS connection (1): portalcafebrasil.com.br:443\n",
            "DEBUG:urllib3.connectionpool:https://portalcafebrasil.com.br:443 \"GET /todos/podcasts/page/5/?ajax=true HTTP/1.1\" 200 None\n",
            "2023-02-02 01:55:27,904 - urllib3.connectionpool - DEBUG - https://portalcafebrasil.com.br:443 \"GET /todos/podcasts/page/5/?ajax=true HTTP/1.1\" 200 None\n",
            "DEBUG:root:Coletado 16 do link: https://portalcafebrasil.com.br/todos/podcasts/page/5/?ajax=true\n",
            "2023-02-02 01:55:27,929 - root - DEBUG - Coletado 16 do link: https://portalcafebrasil.com.br/todos/podcasts/page/5/?ajax=true\n",
            "DEBUG:urllib3.connectionpool:Starting new HTTPS connection (1): portalcafebrasil.com.br:443\n",
            "2023-02-02 01:55:27,936 - urllib3.connectionpool - DEBUG - Starting new HTTPS connection (1): portalcafebrasil.com.br:443\n",
            "DEBUG:urllib3.connectionpool:https://portalcafebrasil.com.br:443 \"GET /todos/podcasts/page/6/?ajax=true HTTP/1.1\" 200 None\n",
            "2023-02-02 01:55:28,446 - urllib3.connectionpool - DEBUG - https://portalcafebrasil.com.br:443 \"GET /todos/podcasts/page/6/?ajax=true HTTP/1.1\" 200 None\n",
            "DEBUG:root:Coletado 16 do link: https://portalcafebrasil.com.br/todos/podcasts/page/6/?ajax=true\n",
            "2023-02-02 01:55:28,470 - root - DEBUG - Coletado 16 do link: https://portalcafebrasil.com.br/todos/podcasts/page/6/?ajax=true\n",
            "DEBUG:urllib3.connectionpool:Starting new HTTPS connection (1): portalcafebrasil.com.br:443\n",
            "2023-02-02 01:55:28,478 - urllib3.connectionpool - DEBUG - Starting new HTTPS connection (1): portalcafebrasil.com.br:443\n",
            "DEBUG:urllib3.connectionpool:https://portalcafebrasil.com.br:443 \"GET /todos/podcasts/page/7/?ajax=true HTTP/1.1\" 200 None\n",
            "2023-02-02 01:55:28,989 - urllib3.connectionpool - DEBUG - https://portalcafebrasil.com.br:443 \"GET /todos/podcasts/page/7/?ajax=true HTTP/1.1\" 200 None\n",
            "DEBUG:root:Coletado 16 do link: https://portalcafebrasil.com.br/todos/podcasts/page/7/?ajax=true\n",
            "2023-02-02 01:55:29,009 - root - DEBUG - Coletado 16 do link: https://portalcafebrasil.com.br/todos/podcasts/page/7/?ajax=true\n",
            "DEBUG:urllib3.connectionpool:Starting new HTTPS connection (1): portalcafebrasil.com.br:443\n",
            "2023-02-02 01:55:29,019 - urllib3.connectionpool - DEBUG - Starting new HTTPS connection (1): portalcafebrasil.com.br:443\n",
            "DEBUG:urllib3.connectionpool:https://portalcafebrasil.com.br:443 \"GET /todos/podcasts/page/8/?ajax=true HTTP/1.1\" 200 None\n",
            "2023-02-02 01:55:29,554 - urllib3.connectionpool - DEBUG - https://portalcafebrasil.com.br:443 \"GET /todos/podcasts/page/8/?ajax=true HTTP/1.1\" 200 None\n",
            "DEBUG:root:Coletado 16 do link: https://portalcafebrasil.com.br/todos/podcasts/page/8/?ajax=true\n",
            "2023-02-02 01:55:29,571 - root - DEBUG - Coletado 16 do link: https://portalcafebrasil.com.br/todos/podcasts/page/8/?ajax=true\n",
            "DEBUG:urllib3.connectionpool:Starting new HTTPS connection (1): portalcafebrasil.com.br:443\n",
            "2023-02-02 01:55:29,579 - urllib3.connectionpool - DEBUG - Starting new HTTPS connection (1): portalcafebrasil.com.br:443\n",
            "DEBUG:urllib3.connectionpool:https://portalcafebrasil.com.br:443 \"GET /todos/podcasts/page/9/?ajax=true HTTP/1.1\" 200 None\n",
            "2023-02-02 01:55:30,117 - urllib3.connectionpool - DEBUG - https://portalcafebrasil.com.br:443 \"GET /todos/podcasts/page/9/?ajax=true HTTP/1.1\" 200 None\n",
            "DEBUG:root:Coletado 16 do link: https://portalcafebrasil.com.br/todos/podcasts/page/9/?ajax=true\n",
            "2023-02-02 01:55:30,138 - root - DEBUG - Coletado 16 do link: https://portalcafebrasil.com.br/todos/podcasts/page/9/?ajax=true\n",
            "DEBUG:urllib3.connectionpool:Starting new HTTPS connection (1): portalcafebrasil.com.br:443\n",
            "2023-02-02 01:55:30,146 - urllib3.connectionpool - DEBUG - Starting new HTTPS connection (1): portalcafebrasil.com.br:443\n",
            "DEBUG:urllib3.connectionpool:https://portalcafebrasil.com.br:443 \"GET /todos/podcasts/page/10/?ajax=true HTTP/1.1\" 200 None\n",
            "2023-02-02 01:55:30,630 - urllib3.connectionpool - DEBUG - https://portalcafebrasil.com.br:443 \"GET /todos/podcasts/page/10/?ajax=true HTTP/1.1\" 200 None\n",
            "DEBUG:root:Coletado 16 do link: https://portalcafebrasil.com.br/todos/podcasts/page/10/?ajax=true\n",
            "2023-02-02 01:55:30,649 - root - DEBUG - Coletado 16 do link: https://portalcafebrasil.com.br/todos/podcasts/page/10/?ajax=true\n",
            "DEBUG:urllib3.connectionpool:Starting new HTTPS connection (1): portalcafebrasil.com.br:443\n",
            "2023-02-02 01:55:30,657 - urllib3.connectionpool - DEBUG - Starting new HTTPS connection (1): portalcafebrasil.com.br:443\n",
            "DEBUG:urllib3.connectionpool:https://portalcafebrasil.com.br:443 \"GET /todos/podcasts/page/11/?ajax=true HTTP/1.1\" 200 None\n",
            "2023-02-02 01:55:31,312 - urllib3.connectionpool - DEBUG - https://portalcafebrasil.com.br:443 \"GET /todos/podcasts/page/11/?ajax=true HTTP/1.1\" 200 None\n",
            "DEBUG:root:Coletado 16 do link: https://portalcafebrasil.com.br/todos/podcasts/page/11/?ajax=true\n",
            "2023-02-02 01:55:31,472 - root - DEBUG - Coletado 16 do link: https://portalcafebrasil.com.br/todos/podcasts/page/11/?ajax=true\n",
            "DEBUG:urllib3.connectionpool:Starting new HTTPS connection (1): portalcafebrasil.com.br:443\n",
            "2023-02-02 01:55:31,481 - urllib3.connectionpool - DEBUG - Starting new HTTPS connection (1): portalcafebrasil.com.br:443\n",
            "DEBUG:urllib3.connectionpool:https://portalcafebrasil.com.br:443 \"GET /todos/podcasts/page/12/?ajax=true HTTP/1.1\" 200 None\n",
            "2023-02-02 01:55:32,009 - urllib3.connectionpool - DEBUG - https://portalcafebrasil.com.br:443 \"GET /todos/podcasts/page/12/?ajax=true HTTP/1.1\" 200 None\n",
            "DEBUG:root:Coletado 16 do link: https://portalcafebrasil.com.br/todos/podcasts/page/12/?ajax=true\n",
            "2023-02-02 01:55:32,025 - root - DEBUG - Coletado 16 do link: https://portalcafebrasil.com.br/todos/podcasts/page/12/?ajax=true\n",
            "DEBUG:urllib3.connectionpool:Starting new HTTPS connection (1): portalcafebrasil.com.br:443\n",
            "2023-02-02 01:55:32,029 - urllib3.connectionpool - DEBUG - Starting new HTTPS connection (1): portalcafebrasil.com.br:443\n",
            "DEBUG:urllib3.connectionpool:https://portalcafebrasil.com.br:443 \"GET /todos/podcasts/page/13/?ajax=true HTTP/1.1\" 200 None\n",
            "2023-02-02 01:55:32,535 - urllib3.connectionpool - DEBUG - https://portalcafebrasil.com.br:443 \"GET /todos/podcasts/page/13/?ajax=true HTTP/1.1\" 200 None\n",
            "DEBUG:root:Coletado 16 do link: https://portalcafebrasil.com.br/todos/podcasts/page/13/?ajax=true\n",
            "2023-02-02 01:55:32,552 - root - DEBUG - Coletado 16 do link: https://portalcafebrasil.com.br/todos/podcasts/page/13/?ajax=true\n",
            "DEBUG:urllib3.connectionpool:Starting new HTTPS connection (1): portalcafebrasil.com.br:443\n",
            "2023-02-02 01:55:32,560 - urllib3.connectionpool - DEBUG - Starting new HTTPS connection (1): portalcafebrasil.com.br:443\n",
            "DEBUG:urllib3.connectionpool:https://portalcafebrasil.com.br:443 \"GET /todos/podcasts/page/14/?ajax=true HTTP/1.1\" 200 None\n",
            "2023-02-02 01:55:33,205 - urllib3.connectionpool - DEBUG - https://portalcafebrasil.com.br:443 \"GET /todos/podcasts/page/14/?ajax=true HTTP/1.1\" 200 None\n",
            "DEBUG:root:Coletado 16 do link: https://portalcafebrasil.com.br/todos/podcasts/page/14/?ajax=true\n",
            "2023-02-02 01:55:33,224 - root - DEBUG - Coletado 16 do link: https://portalcafebrasil.com.br/todos/podcasts/page/14/?ajax=true\n",
            "DEBUG:urllib3.connectionpool:Starting new HTTPS connection (1): portalcafebrasil.com.br:443\n",
            "2023-02-02 01:55:33,234 - urllib3.connectionpool - DEBUG - Starting new HTTPS connection (1): portalcafebrasil.com.br:443\n",
            "DEBUG:urllib3.connectionpool:https://portalcafebrasil.com.br:443 \"GET /todos/podcasts/page/15/?ajax=true HTTP/1.1\" 200 None\n",
            "2023-02-02 01:55:33,780 - urllib3.connectionpool - DEBUG - https://portalcafebrasil.com.br:443 \"GET /todos/podcasts/page/15/?ajax=true HTTP/1.1\" 200 None\n",
            "DEBUG:root:Coletado 16 do link: https://portalcafebrasil.com.br/todos/podcasts/page/15/?ajax=true\n",
            "2023-02-02 01:55:33,798 - root - DEBUG - Coletado 16 do link: https://portalcafebrasil.com.br/todos/podcasts/page/15/?ajax=true\n",
            "DEBUG:urllib3.connectionpool:Starting new HTTPS connection (1): portalcafebrasil.com.br:443\n",
            "2023-02-02 01:55:33,805 - urllib3.connectionpool - DEBUG - Starting new HTTPS connection (1): portalcafebrasil.com.br:443\n",
            "DEBUG:urllib3.connectionpool:https://portalcafebrasil.com.br:443 \"GET /todos/podcasts/page/16/?ajax=true HTTP/1.1\" 200 None\n",
            "2023-02-02 01:55:34,382 - urllib3.connectionpool - DEBUG - https://portalcafebrasil.com.br:443 \"GET /todos/podcasts/page/16/?ajax=true HTTP/1.1\" 200 None\n",
            "DEBUG:root:Coletado 16 do link: https://portalcafebrasil.com.br/todos/podcasts/page/16/?ajax=true\n",
            "2023-02-02 01:55:34,407 - root - DEBUG - Coletado 16 do link: https://portalcafebrasil.com.br/todos/podcasts/page/16/?ajax=true\n",
            "DEBUG:urllib3.connectionpool:Starting new HTTPS connection (1): portalcafebrasil.com.br:443\n",
            "2023-02-02 01:55:34,415 - urllib3.connectionpool - DEBUG - Starting new HTTPS connection (1): portalcafebrasil.com.br:443\n",
            "DEBUG:urllib3.connectionpool:https://portalcafebrasil.com.br:443 \"GET /todos/podcasts/page/17/?ajax=true HTTP/1.1\" 200 None\n",
            "2023-02-02 01:55:35,417 - urllib3.connectionpool - DEBUG - https://portalcafebrasil.com.br:443 \"GET /todos/podcasts/page/17/?ajax=true HTTP/1.1\" 200 None\n",
            "DEBUG:root:Coletado 16 do link: https://portalcafebrasil.com.br/todos/podcasts/page/17/?ajax=true\n",
            "2023-02-02 01:55:35,437 - root - DEBUG - Coletado 16 do link: https://portalcafebrasil.com.br/todos/podcasts/page/17/?ajax=true\n",
            "DEBUG:urllib3.connectionpool:Starting new HTTPS connection (1): portalcafebrasil.com.br:443\n",
            "2023-02-02 01:55:35,443 - urllib3.connectionpool - DEBUG - Starting new HTTPS connection (1): portalcafebrasil.com.br:443\n",
            "DEBUG:urllib3.connectionpool:https://portalcafebrasil.com.br:443 \"GET /todos/podcasts/page/18/?ajax=true HTTP/1.1\" 200 None\n",
            "2023-02-02 01:55:36,221 - urllib3.connectionpool - DEBUG - https://portalcafebrasil.com.br:443 \"GET /todos/podcasts/page/18/?ajax=true HTTP/1.1\" 200 None\n",
            "DEBUG:root:Coletado 16 do link: https://portalcafebrasil.com.br/todos/podcasts/page/18/?ajax=true\n",
            "2023-02-02 01:55:36,240 - root - DEBUG - Coletado 16 do link: https://portalcafebrasil.com.br/todos/podcasts/page/18/?ajax=true\n",
            "DEBUG:urllib3.connectionpool:Starting new HTTPS connection (1): portalcafebrasil.com.br:443\n",
            "2023-02-02 01:55:36,248 - urllib3.connectionpool - DEBUG - Starting new HTTPS connection (1): portalcafebrasil.com.br:443\n",
            "DEBUG:urllib3.connectionpool:https://portalcafebrasil.com.br:443 \"GET /todos/podcasts/page/19/?ajax=true HTTP/1.1\" 200 3300\n",
            "2023-02-02 01:55:37,238 - urllib3.connectionpool - DEBUG - https://portalcafebrasil.com.br:443 \"GET /todos/podcasts/page/19/?ajax=true HTTP/1.1\" 200 3300\n",
            "DEBUG:root:Coletado 16 do link: https://portalcafebrasil.com.br/todos/podcasts/page/19/?ajax=true\n",
            "2023-02-02 01:55:37,255 - root - DEBUG - Coletado 16 do link: https://portalcafebrasil.com.br/todos/podcasts/page/19/?ajax=true\n",
            "DEBUG:urllib3.connectionpool:Starting new HTTPS connection (1): portalcafebrasil.com.br:443\n",
            "2023-02-02 01:55:37,263 - urllib3.connectionpool - DEBUG - Starting new HTTPS connection (1): portalcafebrasil.com.br:443\n",
            "DEBUG:urllib3.connectionpool:https://portalcafebrasil.com.br:443 \"GET /todos/podcasts/page/20/?ajax=true HTTP/1.1\" 200 None\n",
            "2023-02-02 01:55:38,909 - urllib3.connectionpool - DEBUG - https://portalcafebrasil.com.br:443 \"GET /todos/podcasts/page/20/?ajax=true HTTP/1.1\" 200 None\n",
            "DEBUG:root:Coletado 16 do link: https://portalcafebrasil.com.br/todos/podcasts/page/20/?ajax=true\n",
            "2023-02-02 01:55:38,927 - root - DEBUG - Coletado 16 do link: https://portalcafebrasil.com.br/todos/podcasts/page/20/?ajax=true\n",
            "DEBUG:urllib3.connectionpool:Starting new HTTPS connection (1): portalcafebrasil.com.br:443\n",
            "2023-02-02 01:55:38,933 - urllib3.connectionpool - DEBUG - Starting new HTTPS connection (1): portalcafebrasil.com.br:443\n",
            "DEBUG:urllib3.connectionpool:https://portalcafebrasil.com.br:443 \"GET /todos/podcasts/page/21/?ajax=true HTTP/1.1\" 200 None\n",
            "2023-02-02 01:55:40,029 - urllib3.connectionpool - DEBUG - https://portalcafebrasil.com.br:443 \"GET /todos/podcasts/page/21/?ajax=true HTTP/1.1\" 200 None\n",
            "DEBUG:root:Coletado 16 do link: https://portalcafebrasil.com.br/todos/podcasts/page/21/?ajax=true\n",
            "2023-02-02 01:55:40,056 - root - DEBUG - Coletado 16 do link: https://portalcafebrasil.com.br/todos/podcasts/page/21/?ajax=true\n",
            "DEBUG:urllib3.connectionpool:Starting new HTTPS connection (1): portalcafebrasil.com.br:443\n",
            "2023-02-02 01:55:40,063 - urllib3.connectionpool - DEBUG - Starting new HTTPS connection (1): portalcafebrasil.com.br:443\n",
            "DEBUG:urllib3.connectionpool:https://portalcafebrasil.com.br:443 \"GET /todos/podcasts/page/22/?ajax=true HTTP/1.1\" 200 None\n",
            "2023-02-02 01:55:41,205 - urllib3.connectionpool - DEBUG - https://portalcafebrasil.com.br:443 \"GET /todos/podcasts/page/22/?ajax=true HTTP/1.1\" 200 None\n",
            "DEBUG:root:Coletado 16 do link: https://portalcafebrasil.com.br/todos/podcasts/page/22/?ajax=true\n",
            "2023-02-02 01:55:41,227 - root - DEBUG - Coletado 16 do link: https://portalcafebrasil.com.br/todos/podcasts/page/22/?ajax=true\n",
            "DEBUG:urllib3.connectionpool:Starting new HTTPS connection (1): portalcafebrasil.com.br:443\n",
            "2023-02-02 01:55:41,237 - urllib3.connectionpool - DEBUG - Starting new HTTPS connection (1): portalcafebrasil.com.br:443\n",
            "DEBUG:urllib3.connectionpool:https://portalcafebrasil.com.br:443 \"GET /todos/podcasts/page/23/?ajax=true HTTP/1.1\" 200 None\n",
            "2023-02-02 01:55:42,426 - urllib3.connectionpool - DEBUG - https://portalcafebrasil.com.br:443 \"GET /todos/podcasts/page/23/?ajax=true HTTP/1.1\" 200 None\n",
            "DEBUG:root:Coletado 16 do link: https://portalcafebrasil.com.br/todos/podcasts/page/23/?ajax=true\n",
            "2023-02-02 01:55:42,446 - root - DEBUG - Coletado 16 do link: https://portalcafebrasil.com.br/todos/podcasts/page/23/?ajax=true\n",
            "DEBUG:urllib3.connectionpool:Starting new HTTPS connection (1): portalcafebrasil.com.br:443\n",
            "2023-02-02 01:55:42,456 - urllib3.connectionpool - DEBUG - Starting new HTTPS connection (1): portalcafebrasil.com.br:443\n",
            "DEBUG:urllib3.connectionpool:https://portalcafebrasil.com.br:443 \"GET /todos/podcasts/page/24/?ajax=true HTTP/1.1\" 200 None\n",
            "2023-02-02 01:55:44,029 - urllib3.connectionpool - DEBUG - https://portalcafebrasil.com.br:443 \"GET /todos/podcasts/page/24/?ajax=true HTTP/1.1\" 200 None\n",
            "DEBUG:root:Coletado 16 do link: https://portalcafebrasil.com.br/todos/podcasts/page/24/?ajax=true\n",
            "2023-02-02 01:55:44,046 - root - DEBUG - Coletado 16 do link: https://portalcafebrasil.com.br/todos/podcasts/page/24/?ajax=true\n",
            "DEBUG:urllib3.connectionpool:Starting new HTTPS connection (1): portalcafebrasil.com.br:443\n",
            "2023-02-02 01:55:44,052 - urllib3.connectionpool - DEBUG - Starting new HTTPS connection (1): portalcafebrasil.com.br:443\n",
            "DEBUG:urllib3.connectionpool:https://portalcafebrasil.com.br:443 \"GET /todos/podcasts/page/25/?ajax=true HTTP/1.1\" 200 None\n",
            "2023-02-02 01:55:45,103 - urllib3.connectionpool - DEBUG - https://portalcafebrasil.com.br:443 \"GET /todos/podcasts/page/25/?ajax=true HTTP/1.1\" 200 None\n",
            "DEBUG:root:Coletado 16 do link: https://portalcafebrasil.com.br/todos/podcasts/page/25/?ajax=true\n",
            "2023-02-02 01:55:45,128 - root - DEBUG - Coletado 16 do link: https://portalcafebrasil.com.br/todos/podcasts/page/25/?ajax=true\n",
            "DEBUG:urllib3.connectionpool:Starting new HTTPS connection (1): portalcafebrasil.com.br:443\n",
            "2023-02-02 01:55:45,139 - urllib3.connectionpool - DEBUG - Starting new HTTPS connection (1): portalcafebrasil.com.br:443\n",
            "DEBUG:urllib3.connectionpool:https://portalcafebrasil.com.br:443 \"GET /todos/podcasts/page/26/?ajax=true HTTP/1.1\" 200 None\n",
            "2023-02-02 01:55:46,420 - urllib3.connectionpool - DEBUG - https://portalcafebrasil.com.br:443 \"GET /todos/podcasts/page/26/?ajax=true HTTP/1.1\" 200 None\n",
            "DEBUG:root:Coletado 16 do link: https://portalcafebrasil.com.br/todos/podcasts/page/26/?ajax=true\n",
            "2023-02-02 01:55:46,439 - root - DEBUG - Coletado 16 do link: https://portalcafebrasil.com.br/todos/podcasts/page/26/?ajax=true\n",
            "DEBUG:urllib3.connectionpool:Starting new HTTPS connection (1): portalcafebrasil.com.br:443\n",
            "2023-02-02 01:55:46,446 - urllib3.connectionpool - DEBUG - Starting new HTTPS connection (1): portalcafebrasil.com.br:443\n",
            "DEBUG:urllib3.connectionpool:https://portalcafebrasil.com.br:443 \"GET /todos/podcasts/page/27/?ajax=true HTTP/1.1\" 200 None\n",
            "2023-02-02 01:55:47,938 - urllib3.connectionpool - DEBUG - https://portalcafebrasil.com.br:443 \"GET /todos/podcasts/page/27/?ajax=true HTTP/1.1\" 200 None\n",
            "DEBUG:root:Coletado 16 do link: https://portalcafebrasil.com.br/todos/podcasts/page/27/?ajax=true\n",
            "2023-02-02 01:55:47,958 - root - DEBUG - Coletado 16 do link: https://portalcafebrasil.com.br/todos/podcasts/page/27/?ajax=true\n",
            "DEBUG:urllib3.connectionpool:Starting new HTTPS connection (1): portalcafebrasil.com.br:443\n",
            "2023-02-02 01:55:47,969 - urllib3.connectionpool - DEBUG - Starting new HTTPS connection (1): portalcafebrasil.com.br:443\n",
            "DEBUG:urllib3.connectionpool:https://portalcafebrasil.com.br:443 \"GET /todos/podcasts/page/28/?ajax=true HTTP/1.1\" 200 None\n",
            "2023-02-02 01:55:49,030 - urllib3.connectionpool - DEBUG - https://portalcafebrasil.com.br:443 \"GET /todos/podcasts/page/28/?ajax=true HTTP/1.1\" 200 None\n",
            "DEBUG:root:Coletado 16 do link: https://portalcafebrasil.com.br/todos/podcasts/page/28/?ajax=true\n",
            "2023-02-02 01:55:49,047 - root - DEBUG - Coletado 16 do link: https://portalcafebrasil.com.br/todos/podcasts/page/28/?ajax=true\n",
            "DEBUG:urllib3.connectionpool:Starting new HTTPS connection (1): portalcafebrasil.com.br:443\n",
            "2023-02-02 01:55:49,055 - urllib3.connectionpool - DEBUG - Starting new HTTPS connection (1): portalcafebrasil.com.br:443\n",
            "DEBUG:urllib3.connectionpool:https://portalcafebrasil.com.br:443 \"GET /todos/podcasts/page/29/?ajax=true HTTP/1.1\" 200 None\n",
            "2023-02-02 01:55:50,433 - urllib3.connectionpool - DEBUG - https://portalcafebrasil.com.br:443 \"GET /todos/podcasts/page/29/?ajax=true HTTP/1.1\" 200 None\n",
            "DEBUG:root:Coletado 16 do link: https://portalcafebrasil.com.br/todos/podcasts/page/29/?ajax=true\n",
            "2023-02-02 01:55:50,449 - root - DEBUG - Coletado 16 do link: https://portalcafebrasil.com.br/todos/podcasts/page/29/?ajax=true\n",
            "DEBUG:urllib3.connectionpool:Starting new HTTPS connection (1): portalcafebrasil.com.br:443\n",
            "2023-02-02 01:55:50,456 - urllib3.connectionpool - DEBUG - Starting new HTTPS connection (1): portalcafebrasil.com.br:443\n",
            "DEBUG:urllib3.connectionpool:https://portalcafebrasil.com.br:443 \"GET /todos/podcasts/page/30/?ajax=true HTTP/1.1\" 200 None\n",
            "2023-02-02 01:55:51,641 - urllib3.connectionpool - DEBUG - https://portalcafebrasil.com.br:443 \"GET /todos/podcasts/page/30/?ajax=true HTTP/1.1\" 200 None\n",
            "DEBUG:root:Coletado 16 do link: https://portalcafebrasil.com.br/todos/podcasts/page/30/?ajax=true\n",
            "2023-02-02 01:55:51,663 - root - DEBUG - Coletado 16 do link: https://portalcafebrasil.com.br/todos/podcasts/page/30/?ajax=true\n",
            "DEBUG:urllib3.connectionpool:Starting new HTTPS connection (1): portalcafebrasil.com.br:443\n",
            "2023-02-02 01:55:51,670 - urllib3.connectionpool - DEBUG - Starting new HTTPS connection (1): portalcafebrasil.com.br:443\n",
            "DEBUG:urllib3.connectionpool:https://portalcafebrasil.com.br:443 \"GET /todos/podcasts/page/31/?ajax=true HTTP/1.1\" 200 None\n",
            "2023-02-02 01:55:52,704 - urllib3.connectionpool - DEBUG - https://portalcafebrasil.com.br:443 \"GET /todos/podcasts/page/31/?ajax=true HTTP/1.1\" 200 None\n",
            "DEBUG:root:Coletado 16 do link: https://portalcafebrasil.com.br/todos/podcasts/page/31/?ajax=true\n",
            "2023-02-02 01:55:52,728 - root - DEBUG - Coletado 16 do link: https://portalcafebrasil.com.br/todos/podcasts/page/31/?ajax=true\n",
            "DEBUG:urllib3.connectionpool:Starting new HTTPS connection (1): portalcafebrasil.com.br:443\n",
            "2023-02-02 01:55:52,735 - urllib3.connectionpool - DEBUG - Starting new HTTPS connection (1): portalcafebrasil.com.br:443\n",
            "DEBUG:urllib3.connectionpool:https://portalcafebrasil.com.br:443 \"GET /todos/podcasts/page/32/?ajax=true HTTP/1.1\" 200 None\n",
            "2023-02-02 01:55:53,644 - urllib3.connectionpool - DEBUG - https://portalcafebrasil.com.br:443 \"GET /todos/podcasts/page/32/?ajax=true HTTP/1.1\" 200 None\n",
            "DEBUG:root:Coletado 16 do link: https://portalcafebrasil.com.br/todos/podcasts/page/32/?ajax=true\n",
            "2023-02-02 01:55:53,662 - root - DEBUG - Coletado 16 do link: https://portalcafebrasil.com.br/todos/podcasts/page/32/?ajax=true\n",
            "DEBUG:urllib3.connectionpool:Starting new HTTPS connection (1): portalcafebrasil.com.br:443\n",
            "2023-02-02 01:55:53,667 - urllib3.connectionpool - DEBUG - Starting new HTTPS connection (1): portalcafebrasil.com.br:443\n",
            "DEBUG:urllib3.connectionpool:https://portalcafebrasil.com.br:443 \"GET /todos/podcasts/page/33/?ajax=true HTTP/1.1\" 200 None\n",
            "2023-02-02 01:55:54,145 - urllib3.connectionpool - DEBUG - https://portalcafebrasil.com.br:443 \"GET /todos/podcasts/page/33/?ajax=true HTTP/1.1\" 200 None\n",
            "DEBUG:root:Coletado 16 do link: https://portalcafebrasil.com.br/todos/podcasts/page/33/?ajax=true\n",
            "2023-02-02 01:55:54,163 - root - DEBUG - Coletado 16 do link: https://portalcafebrasil.com.br/todos/podcasts/page/33/?ajax=true\n",
            "DEBUG:urllib3.connectionpool:Starting new HTTPS connection (1): portalcafebrasil.com.br:443\n",
            "2023-02-02 01:55:54,172 - urllib3.connectionpool - DEBUG - Starting new HTTPS connection (1): portalcafebrasil.com.br:443\n",
            "DEBUG:urllib3.connectionpool:https://portalcafebrasil.com.br:443 \"GET /todos/podcasts/page/34/?ajax=true HTTP/1.1\" 200 None\n",
            "2023-02-02 01:55:54,823 - urllib3.connectionpool - DEBUG - https://portalcafebrasil.com.br:443 \"GET /todos/podcasts/page/34/?ajax=true HTTP/1.1\" 200 None\n",
            "DEBUG:root:Coletado 16 do link: https://portalcafebrasil.com.br/todos/podcasts/page/34/?ajax=true\n",
            "2023-02-02 01:55:54,842 - root - DEBUG - Coletado 16 do link: https://portalcafebrasil.com.br/todos/podcasts/page/34/?ajax=true\n",
            "DEBUG:urllib3.connectionpool:Starting new HTTPS connection (1): portalcafebrasil.com.br:443\n",
            "2023-02-02 01:55:54,849 - urllib3.connectionpool - DEBUG - Starting new HTTPS connection (1): portalcafebrasil.com.br:443\n",
            "DEBUG:urllib3.connectionpool:https://portalcafebrasil.com.br:443 \"GET /todos/podcasts/page/35/?ajax=true HTTP/1.1\" 200 None\n",
            "2023-02-02 01:55:55,463 - urllib3.connectionpool - DEBUG - https://portalcafebrasil.com.br:443 \"GET /todos/podcasts/page/35/?ajax=true HTTP/1.1\" 200 None\n",
            "DEBUG:root:Coletado 16 do link: https://portalcafebrasil.com.br/todos/podcasts/page/35/?ajax=true\n",
            "2023-02-02 01:55:55,485 - root - DEBUG - Coletado 16 do link: https://portalcafebrasil.com.br/todos/podcasts/page/35/?ajax=true\n",
            "DEBUG:urllib3.connectionpool:Starting new HTTPS connection (1): portalcafebrasil.com.br:443\n",
            "2023-02-02 01:55:55,495 - urllib3.connectionpool - DEBUG - Starting new HTTPS connection (1): portalcafebrasil.com.br:443\n",
            "DEBUG:urllib3.connectionpool:https://portalcafebrasil.com.br:443 \"GET /todos/podcasts/page/36/?ajax=true HTTP/1.1\" 200 None\n",
            "2023-02-02 01:55:56,082 - urllib3.connectionpool - DEBUG - https://portalcafebrasil.com.br:443 \"GET /todos/podcasts/page/36/?ajax=true HTTP/1.1\" 200 None\n",
            "DEBUG:root:Coletado 16 do link: https://portalcafebrasil.com.br/todos/podcasts/page/36/?ajax=true\n",
            "2023-02-02 01:55:56,103 - root - DEBUG - Coletado 16 do link: https://portalcafebrasil.com.br/todos/podcasts/page/36/?ajax=true\n",
            "DEBUG:urllib3.connectionpool:Starting new HTTPS connection (1): portalcafebrasil.com.br:443\n",
            "2023-02-02 01:55:56,109 - urllib3.connectionpool - DEBUG - Starting new HTTPS connection (1): portalcafebrasil.com.br:443\n",
            "DEBUG:urllib3.connectionpool:https://portalcafebrasil.com.br:443 \"GET /todos/podcasts/page/37/?ajax=true HTTP/1.1\" 200 None\n",
            "2023-02-02 01:55:56,602 - urllib3.connectionpool - DEBUG - https://portalcafebrasil.com.br:443 \"GET /todos/podcasts/page/37/?ajax=true HTTP/1.1\" 200 None\n",
            "DEBUG:root:Coletado 16 do link: https://portalcafebrasil.com.br/todos/podcasts/page/37/?ajax=true\n",
            "2023-02-02 01:55:56,623 - root - DEBUG - Coletado 16 do link: https://portalcafebrasil.com.br/todos/podcasts/page/37/?ajax=true\n",
            "DEBUG:urllib3.connectionpool:Starting new HTTPS connection (1): portalcafebrasil.com.br:443\n",
            "2023-02-02 01:55:56,630 - urllib3.connectionpool - DEBUG - Starting new HTTPS connection (1): portalcafebrasil.com.br:443\n",
            "DEBUG:urllib3.connectionpool:https://portalcafebrasil.com.br:443 \"GET /todos/podcasts/page/38/?ajax=true HTTP/1.1\" 200 None\n",
            "2023-02-02 01:55:57,177 - urllib3.connectionpool - DEBUG - https://portalcafebrasil.com.br:443 \"GET /todos/podcasts/page/38/?ajax=true HTTP/1.1\" 200 None\n",
            "DEBUG:root:Coletado 16 do link: https://portalcafebrasil.com.br/todos/podcasts/page/38/?ajax=true\n",
            "2023-02-02 01:55:57,194 - root - DEBUG - Coletado 16 do link: https://portalcafebrasil.com.br/todos/podcasts/page/38/?ajax=true\n",
            "DEBUG:urllib3.connectionpool:Starting new HTTPS connection (1): portalcafebrasil.com.br:443\n",
            "2023-02-02 01:55:57,202 - urllib3.connectionpool - DEBUG - Starting new HTTPS connection (1): portalcafebrasil.com.br:443\n",
            "DEBUG:urllib3.connectionpool:https://portalcafebrasil.com.br:443 \"GET /todos/podcasts/page/39/?ajax=true HTTP/1.1\" 200 None\n",
            "2023-02-02 01:55:57,660 - urllib3.connectionpool - DEBUG - https://portalcafebrasil.com.br:443 \"GET /todos/podcasts/page/39/?ajax=true HTTP/1.1\" 200 None\n",
            "DEBUG:root:Coletado 16 do link: https://portalcafebrasil.com.br/todos/podcasts/page/39/?ajax=true\n",
            "2023-02-02 01:55:57,679 - root - DEBUG - Coletado 16 do link: https://portalcafebrasil.com.br/todos/podcasts/page/39/?ajax=true\n",
            "DEBUG:urllib3.connectionpool:Starting new HTTPS connection (1): portalcafebrasil.com.br:443\n",
            "2023-02-02 01:55:57,685 - urllib3.connectionpool - DEBUG - Starting new HTTPS connection (1): portalcafebrasil.com.br:443\n",
            "DEBUG:urllib3.connectionpool:https://portalcafebrasil.com.br:443 \"GET /todos/podcasts/page/40/?ajax=true HTTP/1.1\" 200 None\n",
            "2023-02-02 01:55:58,151 - urllib3.connectionpool - DEBUG - https://portalcafebrasil.com.br:443 \"GET /todos/podcasts/page/40/?ajax=true HTTP/1.1\" 200 None\n",
            "DEBUG:root:Coletado 16 do link: https://portalcafebrasil.com.br/todos/podcasts/page/40/?ajax=true\n",
            "2023-02-02 01:55:58,171 - root - DEBUG - Coletado 16 do link: https://portalcafebrasil.com.br/todos/podcasts/page/40/?ajax=true\n",
            "DEBUG:urllib3.connectionpool:Starting new HTTPS connection (1): portalcafebrasil.com.br:443\n",
            "2023-02-02 01:55:58,178 - urllib3.connectionpool - DEBUG - Starting new HTTPS connection (1): portalcafebrasil.com.br:443\n",
            "DEBUG:urllib3.connectionpool:https://portalcafebrasil.com.br:443 \"GET /todos/podcasts/page/41/?ajax=true HTTP/1.1\" 200 None\n",
            "2023-02-02 01:55:58,676 - urllib3.connectionpool - DEBUG - https://portalcafebrasil.com.br:443 \"GET /todos/podcasts/page/41/?ajax=true HTTP/1.1\" 200 None\n",
            "DEBUG:root:Coletado 16 do link: https://portalcafebrasil.com.br/todos/podcasts/page/41/?ajax=true\n",
            "2023-02-02 01:55:58,697 - root - DEBUG - Coletado 16 do link: https://portalcafebrasil.com.br/todos/podcasts/page/41/?ajax=true\n",
            "DEBUG:urllib3.connectionpool:Starting new HTTPS connection (1): portalcafebrasil.com.br:443\n",
            "2023-02-02 01:55:58,706 - urllib3.connectionpool - DEBUG - Starting new HTTPS connection (1): portalcafebrasil.com.br:443\n",
            "DEBUG:urllib3.connectionpool:https://portalcafebrasil.com.br:443 \"GET /todos/podcasts/page/42/?ajax=true HTTP/1.1\" 200 None\n",
            "2023-02-02 01:55:59,220 - urllib3.connectionpool - DEBUG - https://portalcafebrasil.com.br:443 \"GET /todos/podcasts/page/42/?ajax=true HTTP/1.1\" 200 None\n",
            "DEBUG:root:Coletado 16 do link: https://portalcafebrasil.com.br/todos/podcasts/page/42/?ajax=true\n",
            "2023-02-02 01:55:59,246 - root - DEBUG - Coletado 16 do link: https://portalcafebrasil.com.br/todos/podcasts/page/42/?ajax=true\n",
            "DEBUG:urllib3.connectionpool:Starting new HTTPS connection (1): portalcafebrasil.com.br:443\n",
            "2023-02-02 01:55:59,254 - urllib3.connectionpool - DEBUG - Starting new HTTPS connection (1): portalcafebrasil.com.br:443\n",
            "DEBUG:urllib3.connectionpool:https://portalcafebrasil.com.br:443 \"GET /todos/podcasts/page/43/?ajax=true HTTP/1.1\" 200 None\n",
            "2023-02-02 01:56:00,111 - urllib3.connectionpool - DEBUG - https://portalcafebrasil.com.br:443 \"GET /todos/podcasts/page/43/?ajax=true HTTP/1.1\" 200 None\n",
            "DEBUG:root:Coletado 16 do link: https://portalcafebrasil.com.br/todos/podcasts/page/43/?ajax=true\n",
            "2023-02-02 01:56:00,131 - root - DEBUG - Coletado 16 do link: https://portalcafebrasil.com.br/todos/podcasts/page/43/?ajax=true\n",
            "DEBUG:urllib3.connectionpool:Starting new HTTPS connection (1): portalcafebrasil.com.br:443\n",
            "2023-02-02 01:56:00,139 - urllib3.connectionpool - DEBUG - Starting new HTTPS connection (1): portalcafebrasil.com.br:443\n",
            "DEBUG:urllib3.connectionpool:https://portalcafebrasil.com.br:443 \"GET /todos/podcasts/page/44/?ajax=true HTTP/1.1\" 200 None\n",
            "2023-02-02 01:56:00,869 - urllib3.connectionpool - DEBUG - https://portalcafebrasil.com.br:443 \"GET /todos/podcasts/page/44/?ajax=true HTTP/1.1\" 200 None\n",
            "DEBUG:root:Coletado 16 do link: https://portalcafebrasil.com.br/todos/podcasts/page/44/?ajax=true\n",
            "2023-02-02 01:56:00,890 - root - DEBUG - Coletado 16 do link: https://portalcafebrasil.com.br/todos/podcasts/page/44/?ajax=true\n",
            "DEBUG:urllib3.connectionpool:Starting new HTTPS connection (1): portalcafebrasil.com.br:443\n",
            "2023-02-02 01:56:00,897 - urllib3.connectionpool - DEBUG - Starting new HTTPS connection (1): portalcafebrasil.com.br:443\n",
            "DEBUG:urllib3.connectionpool:https://portalcafebrasil.com.br:443 \"GET /todos/podcasts/page/45/?ajax=true HTTP/1.1\" 200 None\n",
            "2023-02-02 01:56:01,534 - urllib3.connectionpool - DEBUG - https://portalcafebrasil.com.br:443 \"GET /todos/podcasts/page/45/?ajax=true HTTP/1.1\" 200 None\n",
            "DEBUG:root:Coletado 16 do link: https://portalcafebrasil.com.br/todos/podcasts/page/45/?ajax=true\n",
            "2023-02-02 01:56:01,552 - root - DEBUG - Coletado 16 do link: https://portalcafebrasil.com.br/todos/podcasts/page/45/?ajax=true\n",
            "DEBUG:urllib3.connectionpool:Starting new HTTPS connection (1): portalcafebrasil.com.br:443\n",
            "2023-02-02 01:56:01,560 - urllib3.connectionpool - DEBUG - Starting new HTTPS connection (1): portalcafebrasil.com.br:443\n",
            "DEBUG:urllib3.connectionpool:https://portalcafebrasil.com.br:443 \"GET /todos/podcasts/page/46/?ajax=true HTTP/1.1\" 200 None\n",
            "2023-02-02 01:56:02,630 - urllib3.connectionpool - DEBUG - https://portalcafebrasil.com.br:443 \"GET /todos/podcasts/page/46/?ajax=true HTTP/1.1\" 200 None\n",
            "DEBUG:root:Coletado 16 do link: https://portalcafebrasil.com.br/todos/podcasts/page/46/?ajax=true\n",
            "2023-02-02 01:56:02,649 - root - DEBUG - Coletado 16 do link: https://portalcafebrasil.com.br/todos/podcasts/page/46/?ajax=true\n",
            "DEBUG:urllib3.connectionpool:Starting new HTTPS connection (1): portalcafebrasil.com.br:443\n",
            "2023-02-02 01:56:02,655 - urllib3.connectionpool - DEBUG - Starting new HTTPS connection (1): portalcafebrasil.com.br:443\n",
            "DEBUG:urllib3.connectionpool:https://portalcafebrasil.com.br:443 \"GET /todos/podcasts/page/47/?ajax=true HTTP/1.1\" 200 None\n",
            "2023-02-02 01:56:03,126 - urllib3.connectionpool - DEBUG - https://portalcafebrasil.com.br:443 \"GET /todos/podcasts/page/47/?ajax=true HTTP/1.1\" 200 None\n",
            "DEBUG:root:Coletado 16 do link: https://portalcafebrasil.com.br/todos/podcasts/page/47/?ajax=true\n",
            "2023-02-02 01:56:03,142 - root - DEBUG - Coletado 16 do link: https://portalcafebrasil.com.br/todos/podcasts/page/47/?ajax=true\n",
            "DEBUG:urllib3.connectionpool:Starting new HTTPS connection (1): portalcafebrasil.com.br:443\n",
            "2023-02-02 01:56:03,149 - urllib3.connectionpool - DEBUG - Starting new HTTPS connection (1): portalcafebrasil.com.br:443\n",
            "DEBUG:urllib3.connectionpool:https://portalcafebrasil.com.br:443 \"GET /todos/podcasts/page/48/?ajax=true HTTP/1.1\" 200 None\n",
            "2023-02-02 01:56:03,708 - urllib3.connectionpool - DEBUG - https://portalcafebrasil.com.br:443 \"GET /todos/podcasts/page/48/?ajax=true HTTP/1.1\" 200 None\n",
            "DEBUG:root:Coletado 16 do link: https://portalcafebrasil.com.br/todos/podcasts/page/48/?ajax=true\n",
            "2023-02-02 01:56:03,727 - root - DEBUG - Coletado 16 do link: https://portalcafebrasil.com.br/todos/podcasts/page/48/?ajax=true\n",
            "DEBUG:urllib3.connectionpool:Starting new HTTPS connection (1): portalcafebrasil.com.br:443\n",
            "2023-02-02 01:56:03,733 - urllib3.connectionpool - DEBUG - Starting new HTTPS connection (1): portalcafebrasil.com.br:443\n",
            "DEBUG:urllib3.connectionpool:https://portalcafebrasil.com.br:443 \"GET /todos/podcasts/page/49/?ajax=true HTTP/1.1\" 200 None\n",
            "2023-02-02 01:56:04,166 - urllib3.connectionpool - DEBUG - https://portalcafebrasil.com.br:443 \"GET /todos/podcasts/page/49/?ajax=true HTTP/1.1\" 200 None\n",
            "DEBUG:root:Coletado 16 do link: https://portalcafebrasil.com.br/todos/podcasts/page/49/?ajax=true\n",
            "2023-02-02 01:56:04,183 - root - DEBUG - Coletado 16 do link: https://portalcafebrasil.com.br/todos/podcasts/page/49/?ajax=true\n",
            "DEBUG:urllib3.connectionpool:Starting new HTTPS connection (1): portalcafebrasil.com.br:443\n",
            "2023-02-02 01:56:04,191 - urllib3.connectionpool - DEBUG - Starting new HTTPS connection (1): portalcafebrasil.com.br:443\n",
            "DEBUG:urllib3.connectionpool:https://portalcafebrasil.com.br:443 \"GET /todos/podcasts/page/50/?ajax=true HTTP/1.1\" 200 None\n",
            "2023-02-02 01:56:04,655 - urllib3.connectionpool - DEBUG - https://portalcafebrasil.com.br:443 \"GET /todos/podcasts/page/50/?ajax=true HTTP/1.1\" 200 None\n",
            "DEBUG:root:Coletado 16 do link: https://portalcafebrasil.com.br/todos/podcasts/page/50/?ajax=true\n",
            "2023-02-02 01:56:04,674 - root - DEBUG - Coletado 16 do link: https://portalcafebrasil.com.br/todos/podcasts/page/50/?ajax=true\n",
            "DEBUG:urllib3.connectionpool:Starting new HTTPS connection (1): portalcafebrasil.com.br:443\n",
            "2023-02-02 01:56:04,680 - urllib3.connectionpool - DEBUG - Starting new HTTPS connection (1): portalcafebrasil.com.br:443\n",
            "DEBUG:urllib3.connectionpool:https://portalcafebrasil.com.br:443 \"GET /todos/podcasts/page/51/?ajax=true HTTP/1.1\" 200 None\n",
            "2023-02-02 01:56:05,157 - urllib3.connectionpool - DEBUG - https://portalcafebrasil.com.br:443 \"GET /todos/podcasts/page/51/?ajax=true HTTP/1.1\" 200 None\n",
            "DEBUG:root:Coletado 16 do link: https://portalcafebrasil.com.br/todos/podcasts/page/51/?ajax=true\n",
            "2023-02-02 01:56:05,175 - root - DEBUG - Coletado 16 do link: https://portalcafebrasil.com.br/todos/podcasts/page/51/?ajax=true\n",
            "DEBUG:urllib3.connectionpool:Starting new HTTPS connection (1): portalcafebrasil.com.br:443\n",
            "2023-02-02 01:56:05,183 - urllib3.connectionpool - DEBUG - Starting new HTTPS connection (1): portalcafebrasil.com.br:443\n",
            "DEBUG:urllib3.connectionpool:https://portalcafebrasil.com.br:443 \"GET /todos/podcasts/page/52/?ajax=true HTTP/1.1\" 200 None\n",
            "2023-02-02 01:56:05,716 - urllib3.connectionpool - DEBUG - https://portalcafebrasil.com.br:443 \"GET /todos/podcasts/page/52/?ajax=true HTTP/1.1\" 200 None\n",
            "DEBUG:root:Coletado 16 do link: https://portalcafebrasil.com.br/todos/podcasts/page/52/?ajax=true\n",
            "2023-02-02 01:56:05,735 - root - DEBUG - Coletado 16 do link: https://portalcafebrasil.com.br/todos/podcasts/page/52/?ajax=true\n",
            "DEBUG:urllib3.connectionpool:Starting new HTTPS connection (1): portalcafebrasil.com.br:443\n",
            "2023-02-02 01:56:05,741 - urllib3.connectionpool - DEBUG - Starting new HTTPS connection (1): portalcafebrasil.com.br:443\n",
            "DEBUG:urllib3.connectionpool:https://portalcafebrasil.com.br:443 \"GET /todos/podcasts/page/53/?ajax=true HTTP/1.1\" 200 None\n",
            "2023-02-02 01:56:06,227 - urllib3.connectionpool - DEBUG - https://portalcafebrasil.com.br:443 \"GET /todos/podcasts/page/53/?ajax=true HTTP/1.1\" 200 None\n",
            "DEBUG:root:Coletado 16 do link: https://portalcafebrasil.com.br/todos/podcasts/page/53/?ajax=true\n",
            "2023-02-02 01:56:06,248 - root - DEBUG - Coletado 16 do link: https://portalcafebrasil.com.br/todos/podcasts/page/53/?ajax=true\n",
            "DEBUG:urllib3.connectionpool:Starting new HTTPS connection (1): portalcafebrasil.com.br:443\n",
            "2023-02-02 01:56:06,255 - urllib3.connectionpool - DEBUG - Starting new HTTPS connection (1): portalcafebrasil.com.br:443\n",
            "DEBUG:urllib3.connectionpool:https://portalcafebrasil.com.br:443 \"GET /todos/podcasts/page/54/?ajax=true HTTP/1.1\" 200 None\n",
            "2023-02-02 01:56:06,705 - urllib3.connectionpool - DEBUG - https://portalcafebrasil.com.br:443 \"GET /todos/podcasts/page/54/?ajax=true HTTP/1.1\" 200 None\n",
            "DEBUG:root:Coletado 16 do link: https://portalcafebrasil.com.br/todos/podcasts/page/54/?ajax=true\n",
            "2023-02-02 01:56:06,725 - root - DEBUG - Coletado 16 do link: https://portalcafebrasil.com.br/todos/podcasts/page/54/?ajax=true\n",
            "DEBUG:urllib3.connectionpool:Starting new HTTPS connection (1): portalcafebrasil.com.br:443\n",
            "2023-02-02 01:56:06,735 - urllib3.connectionpool - DEBUG - Starting new HTTPS connection (1): portalcafebrasil.com.br:443\n",
            "DEBUG:urllib3.connectionpool:https://portalcafebrasil.com.br:443 \"GET /todos/podcasts/page/55/?ajax=true HTTP/1.1\" 200 None\n",
            "2023-02-02 01:56:07,225 - urllib3.connectionpool - DEBUG - https://portalcafebrasil.com.br:443 \"GET /todos/podcasts/page/55/?ajax=true HTTP/1.1\" 200 None\n",
            "DEBUG:root:Coletado 16 do link: https://portalcafebrasil.com.br/todos/podcasts/page/55/?ajax=true\n",
            "2023-02-02 01:56:07,243 - root - DEBUG - Coletado 16 do link: https://portalcafebrasil.com.br/todos/podcasts/page/55/?ajax=true\n",
            "DEBUG:urllib3.connectionpool:Starting new HTTPS connection (1): portalcafebrasil.com.br:443\n",
            "2023-02-02 01:56:07,250 - urllib3.connectionpool - DEBUG - Starting new HTTPS connection (1): portalcafebrasil.com.br:443\n",
            "DEBUG:urllib3.connectionpool:https://portalcafebrasil.com.br:443 \"GET /todos/podcasts/page/56/?ajax=true HTTP/1.1\" 200 None\n",
            "2023-02-02 01:56:07,708 - urllib3.connectionpool - DEBUG - https://portalcafebrasil.com.br:443 \"GET /todos/podcasts/page/56/?ajax=true HTTP/1.1\" 200 None\n",
            "DEBUG:root:Coletado 16 do link: https://portalcafebrasil.com.br/todos/podcasts/page/56/?ajax=true\n",
            "2023-02-02 01:56:07,728 - root - DEBUG - Coletado 16 do link: https://portalcafebrasil.com.br/todos/podcasts/page/56/?ajax=true\n",
            "DEBUG:urllib3.connectionpool:Starting new HTTPS connection (1): portalcafebrasil.com.br:443\n",
            "2023-02-02 01:56:07,734 - urllib3.connectionpool - DEBUG - Starting new HTTPS connection (1): portalcafebrasil.com.br:443\n",
            "DEBUG:urllib3.connectionpool:https://portalcafebrasil.com.br:443 \"GET /todos/podcasts/page/57/?ajax=true HTTP/1.1\" 200 79\n",
            "2023-02-02 01:56:08,381 - urllib3.connectionpool - DEBUG - https://portalcafebrasil.com.br:443 \"GET /todos/podcasts/page/57/?ajax=true HTTP/1.1\" 200 79\n",
            "DEBUG:root:Coletado 0 do link: https://portalcafebrasil.com.br/todos/podcasts/page/57/?ajax=true\n",
            "2023-02-02 01:56:08,388 - root - DEBUG - Coletado 0 do link: https://portalcafebrasil.com.br/todos/podcasts/page/57/?ajax=true\n"
          ]
        }
      ]
    },
    {
      "cell_type": "code",
      "source": [
        "lst_podcast[:5]"
      ],
      "metadata": {
        "colab": {
          "base_uri": "https://localhost:8080/"
        },
        "id": "ALSzAG372Sd-",
        "outputId": "b4f84c4e-6369-4400-afa3-1e510b33e225"
      },
      "execution_count": null,
      "outputs": [
        {
          "output_type": "execute_result",
          "data": {
            "text/plain": [
              "[<h5><a href=\"https://portalcafebrasil.com.br/podcasts/cafe-brasil-859-oestecast/\">Café Brasil 859 – OesteCast</a></h5>,\n",
              " <h5><a href=\"https://portalcafebrasil.com.br/podcasts/cafe-brasil-858-um-velho-safado/\">Café Brasil 858 – Um velho safado</a></h5>,\n",
              " <h5><a href=\"https://portalcafebrasil.com.br/podcasts/cafe-brasil-857-independencia-ou-morte/\">Café Brasil 857 – Independência ou morte</a></h5>,\n",
              " <h5><a href=\"https://portalcafebrasil.com.br/podcasts/cafe-brasil-856-ta-na-hora-do-cafe-com-leite/\">Café Brasil 856 – Tá na hora do Café Com leite</a></h5>,\n",
              " <h5><a href=\"https://portalcafebrasil.com.br/podcasts/cafe-brasil-855-alguem-me-avisou/\">Café Brasil 855 – Alguém me avisou</a></h5>]"
            ]
          },
          "metadata": {},
          "execution_count": 49
        }
      ]
    },
    {
      "cell_type": "code",
      "source": [
        "df = pd.DataFrame(columns=('Episódio', 'Link'))\n",
        "\n",
        "for i in lst_podcast:\n",
        "  ep = i.text\n",
        "  link = i.a['href']\n",
        "  df.loc[df.shape[0]] = (ep, link)"
      ],
      "metadata": {
        "id": "yU6IVotB2pJn"
      },
      "execution_count": null,
      "outputs": []
    },
    {
      "cell_type": "code",
      "source": [
        "df.head()"
      ],
      "metadata": {
        "colab": {
          "base_uri": "https://localhost:8080/",
          "height": 206
        },
        "id": "d6Y8ZjVz3nQ7",
        "outputId": "104d724b-51d6-4c5e-8902-254ab8d9641e"
      },
      "execution_count": null,
      "outputs": [
        {
          "output_type": "execute_result",
          "data": {
            "text/plain": [
              "                                         Episódio  \\\n",
              "0                     Café Brasil 859 – OesteCast   \n",
              "1               Café Brasil 858 – Um velho safado   \n",
              "2        Café Brasil 857 – Independência ou morte   \n",
              "3  Café Brasil 856 – Tá na hora do Café Com leite   \n",
              "4              Café Brasil 855 – Alguém me avisou   \n",
              "\n",
              "                                                Link  \n",
              "0  https://portalcafebrasil.com.br/podcasts/cafe-...  \n",
              "1  https://portalcafebrasil.com.br/podcasts/cafe-...  \n",
              "2  https://portalcafebrasil.com.br/podcasts/cafe-...  \n",
              "3  https://portalcafebrasil.com.br/podcasts/cafe-...  \n",
              "4  https://portalcafebrasil.com.br/podcasts/cafe-...  "
            ],
            "text/html": [
              "\n",
              "  <div id=\"df-9bfeb333-66e4-443d-8413-f556412a523d\">\n",
              "    <div class=\"colab-df-container\">\n",
              "      <div>\n",
              "<style scoped>\n",
              "    .dataframe tbody tr th:only-of-type {\n",
              "        vertical-align: middle;\n",
              "    }\n",
              "\n",
              "    .dataframe tbody tr th {\n",
              "        vertical-align: top;\n",
              "    }\n",
              "\n",
              "    .dataframe thead th {\n",
              "        text-align: right;\n",
              "    }\n",
              "</style>\n",
              "<table border=\"1\" class=\"dataframe\">\n",
              "  <thead>\n",
              "    <tr style=\"text-align: right;\">\n",
              "      <th></th>\n",
              "      <th>Episódio</th>\n",
              "      <th>Link</th>\n",
              "    </tr>\n",
              "  </thead>\n",
              "  <tbody>\n",
              "    <tr>\n",
              "      <th>0</th>\n",
              "      <td>Café Brasil 859 – OesteCast</td>\n",
              "      <td>https://portalcafebrasil.com.br/podcasts/cafe-...</td>\n",
              "    </tr>\n",
              "    <tr>\n",
              "      <th>1</th>\n",
              "      <td>Café Brasil 858 – Um velho safado</td>\n",
              "      <td>https://portalcafebrasil.com.br/podcasts/cafe-...</td>\n",
              "    </tr>\n",
              "    <tr>\n",
              "      <th>2</th>\n",
              "      <td>Café Brasil 857 – Independência ou morte</td>\n",
              "      <td>https://portalcafebrasil.com.br/podcasts/cafe-...</td>\n",
              "    </tr>\n",
              "    <tr>\n",
              "      <th>3</th>\n",
              "      <td>Café Brasil 856 – Tá na hora do Café Com leite</td>\n",
              "      <td>https://portalcafebrasil.com.br/podcasts/cafe-...</td>\n",
              "    </tr>\n",
              "    <tr>\n",
              "      <th>4</th>\n",
              "      <td>Café Brasil 855 – Alguém me avisou</td>\n",
              "      <td>https://portalcafebrasil.com.br/podcasts/cafe-...</td>\n",
              "    </tr>\n",
              "  </tbody>\n",
              "</table>\n",
              "</div>\n",
              "      <button class=\"colab-df-convert\" onclick=\"convertToInteractive('df-9bfeb333-66e4-443d-8413-f556412a523d')\"\n",
              "              title=\"Convert this dataframe to an interactive table.\"\n",
              "              style=\"display:none;\">\n",
              "        \n",
              "  <svg xmlns=\"http://www.w3.org/2000/svg\" height=\"24px\"viewBox=\"0 0 24 24\"\n",
              "       width=\"24px\">\n",
              "    <path d=\"M0 0h24v24H0V0z\" fill=\"none\"/>\n",
              "    <path d=\"M18.56 5.44l.94 2.06.94-2.06 2.06-.94-2.06-.94-.94-2.06-.94 2.06-2.06.94zm-11 1L8.5 8.5l.94-2.06 2.06-.94-2.06-.94L8.5 2.5l-.94 2.06-2.06.94zm10 10l.94 2.06.94-2.06 2.06-.94-2.06-.94-.94-2.06-.94 2.06-2.06.94z\"/><path d=\"M17.41 7.96l-1.37-1.37c-.4-.4-.92-.59-1.43-.59-.52 0-1.04.2-1.43.59L10.3 9.45l-7.72 7.72c-.78.78-.78 2.05 0 2.83L4 21.41c.39.39.9.59 1.41.59.51 0 1.02-.2 1.41-.59l7.78-7.78 2.81-2.81c.8-.78.8-2.07 0-2.86zM5.41 20L4 18.59l7.72-7.72 1.47 1.35L5.41 20z\"/>\n",
              "  </svg>\n",
              "      </button>\n",
              "      \n",
              "  <style>\n",
              "    .colab-df-container {\n",
              "      display:flex;\n",
              "      flex-wrap:wrap;\n",
              "      gap: 12px;\n",
              "    }\n",
              "\n",
              "    .colab-df-convert {\n",
              "      background-color: #E8F0FE;\n",
              "      border: none;\n",
              "      border-radius: 50%;\n",
              "      cursor: pointer;\n",
              "      display: none;\n",
              "      fill: #1967D2;\n",
              "      height: 32px;\n",
              "      padding: 0 0 0 0;\n",
              "      width: 32px;\n",
              "    }\n",
              "\n",
              "    .colab-df-convert:hover {\n",
              "      background-color: #E2EBFA;\n",
              "      box-shadow: 0px 1px 2px rgba(60, 64, 67, 0.3), 0px 1px 3px 1px rgba(60, 64, 67, 0.15);\n",
              "      fill: #174EA6;\n",
              "    }\n",
              "\n",
              "    [theme=dark] .colab-df-convert {\n",
              "      background-color: #3B4455;\n",
              "      fill: #D2E3FC;\n",
              "    }\n",
              "\n",
              "    [theme=dark] .colab-df-convert:hover {\n",
              "      background-color: #434B5C;\n",
              "      box-shadow: 0px 1px 3px 1px rgba(0, 0, 0, 0.15);\n",
              "      filter: drop-shadow(0px 1px 2px rgba(0, 0, 0, 0.3));\n",
              "      fill: #FFFFFF;\n",
              "    }\n",
              "  </style>\n",
              "\n",
              "      <script>\n",
              "        const buttonEl =\n",
              "          document.querySelector('#df-9bfeb333-66e4-443d-8413-f556412a523d button.colab-df-convert');\n",
              "        buttonEl.style.display =\n",
              "          google.colab.kernel.accessAllowed ? 'block' : 'none';\n",
              "\n",
              "        async function convertToInteractive(key) {\n",
              "          const element = document.querySelector('#df-9bfeb333-66e4-443d-8413-f556412a523d');\n",
              "          const dataTable =\n",
              "            await google.colab.kernel.invokeFunction('convertToInteractive',\n",
              "                                                     [key], {});\n",
              "          if (!dataTable) return;\n",
              "\n",
              "          const docLinkHtml = 'Like what you see? Visit the ' +\n",
              "            '<a target=\"_blank\" href=https://colab.research.google.com/notebooks/data_table.ipynb>data table notebook</a>'\n",
              "            + ' to learn more about interactive tables.';\n",
              "          element.innerHTML = '';\n",
              "          dataTable['output_type'] = 'display_data';\n",
              "          await google.colab.output.renderOutput(dataTable, element);\n",
              "          const docLink = document.createElement('div');\n",
              "          docLink.innerHTML = docLinkHtml;\n",
              "          element.appendChild(docLink);\n",
              "        }\n",
              "      </script>\n",
              "    </div>\n",
              "  </div>\n",
              "  "
            ]
          },
          "metadata": {},
          "execution_count": 58
        }
      ]
    },
    {
      "cell_type": "code",
      "source": [
        "df.shape"
      ],
      "metadata": {
        "colab": {
          "base_uri": "https://localhost:8080/"
        },
        "id": "tJRaDFZu4W4i",
        "outputId": "3a95dda5-9373-4696-d5f2-28ae0b89e703"
      },
      "execution_count": null,
      "outputs": [
        {
          "output_type": "execute_result",
          "data": {
            "text/plain": [
              "(896, 2)"
            ]
          },
          "metadata": {},
          "execution_count": 59
        }
      ]
    },
    {
      "cell_type": "code",
      "source": [
        "df.to_csv(\"Episódios_Café_Brasil.csv\", sep=';', index=False)"
      ],
      "metadata": {
        "id": "5nbGWG_r4qWW"
      },
      "execution_count": null,
      "outputs": []
    }
  ]
}