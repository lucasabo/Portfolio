{
  "cells": [
    {
      "cell_type": "markdown",
      "metadata": {
        "id": "CF1IOX9pjlo7"
      },
      "source": [
        "# ETL - Podcast Café Brasil"
      ]
    },
    {
      "cell_type": "markdown",
      "metadata": {
        "id": "FMD9Xz-9eJuy"
      },
      "source": [
        "##Imports"
      ]
    },
    {
      "cell_type": "code",
      "execution_count": 1,
      "metadata": {
        "id": "msIwFKqBjC1a"
      },
      "outputs": [],
      "source": [
        "import pandas as pd\n",
        "import requests\n",
        "from bs4 import BeautifulSoup as bs\n",
        "import logging"
      ]
    },
    {
      "cell_type": "markdown",
      "metadata": {
        "id": "sZS2Q9TgvXyq"
      },
      "source": [
        "#Parte 1 - Extraindo os dados da página 1"
      ]
    },
    {
      "cell_type": "code",
      "execution_count": 2,
      "metadata": {
        "colab": {
          "base_uri": "https://localhost:8080/",
          "height": 146
        },
        "id": "LaHe4T06lgIl",
        "outputId": "241f9bbd-62b6-4818-a44e-eae1b2b58ed5"
      },
      "outputs": [
        {
          "data": {
            "text/plain": [
              "'\\t<!DOCTYPE html>\\n<html lang=\"pt-br\">\\n<head>\\n    <meta charset=\"utf-8\">\\n    <meta http-equiv=\"X-UA-Compatible\" content=\"IE=edge\">\\n    <meta name=\"viewport\" content=\"width=device-width, initial-scale=1\">\\n            <title>Arquivos Podcasts - Café Brasil</title>\\n        <link href=\\'https://fonts.googl'"
            ]
          },
          "execution_count": 2,
          "metadata": {},
          "output_type": "execute_result"
        }
      ],
      "source": [
        "url = 'https://portalcafebrasil.com.br/todos/podcasts/'\n",
        "resp = requests.get(url)\n",
        "resp.text[:300]"
      ]
    },
    {
      "cell_type": "code",
      "execution_count": 6,
      "metadata": {
        "colab": {
          "base_uri": "https://localhost:8080/"
        },
        "id": "WDVfjpQAps6O",
        "outputId": "1604017e-473d-459c-c640-46d853823f47"
      },
      "outputs": [
        {
          "data": {
            "text/plain": [
              "<h5><a href=\"https://portalcafebrasil.com.br/podcasts/cafe-brasil-865-uma-pitada-de-estoicismo/\">Café Brasil 865 – Uma pitada de estoicismo</a></h5>"
            ]
          },
          "execution_count": 6,
          "metadata": {},
          "output_type": "execute_result"
        }
      ],
      "source": [
        "soup = bs(resp.text)\n",
        "soup.find('h5')"
      ]
    },
    {
      "cell_type": "code",
      "execution_count": null,
      "metadata": {
        "colab": {
          "base_uri": "https://localhost:8080/",
          "height": 36
        },
        "id": "xuNk8MCSpwrX",
        "outputId": "2aa061a1-1fda-4e03-ab6b-d9058e7fbf0f"
      },
      "outputs": [
        {
          "data": {
            "application/vnd.google.colaboratory.intrinsic+json": {
              "type": "string"
            },
            "text/plain": [
              "'Café Brasil 859 – OesteCast'"
            ]
          },
          "execution_count": 14,
          "metadata": {},
          "output_type": "execute_result"
        }
      ],
      "source": [
        "soup.find('h5').text"
      ]
    },
    {
      "cell_type": "code",
      "execution_count": null,
      "metadata": {
        "colab": {
          "base_uri": "https://localhost:8080/",
          "height": 36
        },
        "id": "_28CXMEep3Y2",
        "outputId": "7a091b63-0627-4990-f0c9-124112415f46"
      },
      "outputs": [
        {
          "data": {
            "application/vnd.google.colaboratory.intrinsic+json": {
              "type": "string"
            },
            "text/plain": [
              "'https://portalcafebrasil.com.br/podcasts/cafe-brasil-859-oestecast/'"
            ]
          },
          "execution_count": 19,
          "metadata": {},
          "output_type": "execute_result"
        }
      ],
      "source": [
        "soup.find('h5').a['href']"
      ]
    },
    {
      "cell_type": "code",
      "execution_count": null,
      "metadata": {
        "colab": {
          "base_uri": "https://localhost:8080/"
        },
        "id": "pcKjRpf8qIAn",
        "outputId": "046c3787-e67e-4285-be8f-8fb24f3f937e"
      },
      "outputs": [
        {
          "name": "stdout",
          "output_type": "stream",
          "text": [
            "Episódio: Café Brasil 859 – OesteCast. - Link: https://portalcafebrasil.com.br/podcasts/cafe-brasil-859-oestecast/\n",
            "Episódio: Café Brasil 858 – Um velho safado. - Link: https://portalcafebrasil.com.br/podcasts/cafe-brasil-858-um-velho-safado/\n",
            "Episódio: Café Brasil 857 – Independência ou morte. - Link: https://portalcafebrasil.com.br/podcasts/cafe-brasil-857-independencia-ou-morte/\n",
            "Episódio: Café Brasil 856 – Tá na hora do Café Com leite. - Link: https://portalcafebrasil.com.br/podcasts/cafe-brasil-856-ta-na-hora-do-cafe-com-leite/\n",
            "Episódio: Café Brasil 855 – Alguém me avisou. - Link: https://portalcafebrasil.com.br/podcasts/cafe-brasil-855-alguem-me-avisou/\n",
            "Episódio: Café Brasil 854 – O Otimismo Trágico. - Link: https://portalcafebrasil.com.br/podcasts/cafe-brasil-854-o-otimismo-tragico/\n",
            "Episódio: Café Brasil 853 – É Natal Revisitado. - Link: https://portalcafebrasil.com.br/podcasts/cafe-brasil-853-e-natal-revisitado/\n",
            "Episódio: Café Brasil 852 – Os donos das vendas. - Link: https://portalcafebrasil.com.br/podcasts/cafe-brasil-852-os-donos-das-vendas/\n",
            "Episódio: Café Brasil 851 – O abandono silencioso. - Link: https://portalcafebrasil.com.br/podcasts/cafe-brasil-851-o-abandono-silencioso/\n",
            "Episódio: Café Brasil 850 – Vida caótica. - Link: https://portalcafebrasil.com.br/podcasts/cafe-brasil-850-vida-caotica/\n",
            "Episódio: Café Brasil 849 – A cegueira da escolha. - Link: https://portalcafebrasil.com.br/podcasts/cafe-brasil-849-a-cegueira-da-escolha/\n",
            "Episódio: Café Brasil 848 – Meu nome é Gal.. - Link: https://portalcafebrasil.com.br/podcasts/cafe-brasil-848-meu-nome-e-gal/\n",
            "Episódio: Café Brasil 847 – Dissonância Cognitiva – Revisitado. - Link: https://portalcafebrasil.com.br/podcasts/cafe-brasil-847-dissonancia-cognitiva-revisitado/\n",
            "Episódio: Café Brasil 846 – Sina. - Link: https://portalcafebrasil.com.br/podcasts/cafe-brasil-846-sina/\n",
            "Episódio: Café Brasil 845 – Merdades e Ventiras live. - Link: https://portalcafebrasil.com.br/podcasts/cafe-brasil-845-merdades-e-ventiras-live/\n",
            "Episódio: Café Brasil 844 – Narrativas moldam o mundo. - Link: https://portalcafebrasil.com.br/podcasts/cafe-brasil-844-narrativas-moldam-o-mundo/\n"
          ]
        }
      ],
      "source": [
        "for pod in soup.find_all('h5'):\n",
        "  print(f'Episódio: {pod.text}. - Link: {pod.a[\"href\"]}')"
      ]
    },
    {
      "cell_type": "markdown",
      "metadata": {
        "id": "g-jH2vU0vZxN"
      },
      "source": [
        "#Parte 2 - Extraindo os dados de todas as páginas"
      ]
    },
    {
      "cell_type": "code",
      "execution_count": null,
      "metadata": {
        "colab": {
          "base_uri": "https://localhost:8080/",
          "height": 36
        },
        "id": "c9mcQnDwtM1r",
        "outputId": "bcb1916d-f29e-4498-d73c-cf50bed1dceb"
      },
      "outputs": [
        {
          "data": {
            "application/vnd.google.colaboratory.intrinsic+json": {
              "type": "string"
            },
            "text/plain": [
              "'Café Brasil 843 – O nosso hino'"
            ]
          },
          "execution_count": 41,
          "metadata": {},
          "output_type": "execute_result"
        }
      ],
      "source": [
        "url = 'https://portalcafebrasil.com.br/todos/podcasts/page/{}/?ajax=true'\n",
        "resp = requests.get(url.format(2))\n",
        "soup = bs(resp.text)\n",
        "soup.find('h5').text"
      ]
    },
    {
      "cell_type": "code",
      "execution_count": null,
      "metadata": {
        "id": "9CbqRNaTw5hN"
      },
      "outputs": [],
      "source": [
        "def get_podcasts(url):\n",
        "  resp = requests.get(url.format(2))\n",
        "  soup = bs(resp.text)\n",
        "  return soup.find_all('h5')"
      ]
    },
    {
      "cell_type": "code",
      "execution_count": null,
      "metadata": {
        "colab": {
          "base_uri": "https://localhost:8080/"
        },
        "id": "ah6egiCJxXYw",
        "outputId": "434ad718-7e4e-451f-ad51-1554133d8f20"
      },
      "outputs": [
        {
          "data": {
            "text/plain": [
              "[<h5><a href=\"https://portalcafebrasil.com.br/podcasts/cafe-brasil-827-a-complicada-arte-de-ver-revisitado/\">Café Brasil 827 – A complicada arte de ver – Revisitado</a></h5>,\n",
              " <h5><a href=\"https://portalcafebrasil.com.br/podcasts/cafe-brasil-826-os-fatos-ora-os-fatos/\">Café Brasil 826 – Os fatos? Ora, os fatos…</a></h5>,\n",
              " <h5><a href=\"https://portalcafebrasil.com.br/podcasts/cafe-brasil-825-precisamos-falar-sobre-o-medo/\">Café Brasil 825 – Precisamos falar sobre o medo</a></h5>,\n",
              " <h5><a href=\"https://portalcafebrasil.com.br/podcasts/cafe-brasil-824-choque-de-geracoes/\">Café Brasil 824 – Choque de gerações</a></h5>,\n",
              " <h5><a href=\"https://portalcafebrasil.com.br/podcasts/cafe-brasil-823-dinheiro-rico-sem-pobre-com/\">Café Brasil 823 – Dinheiro: rico sem, pobre com</a></h5>,\n",
              " <h5><a href=\"https://portalcafebrasil.com.br/podcasts/cafe-brasil-822-cafe-ao-quadrado/\">Café Brasil 822 – Café ao Quadrado</a></h5>,\n",
              " <h5><a href=\"https://portalcafebrasil.com.br/podcasts/cafe-brasil-821-o-amor-que-nunca-morre/\">Café Brasil 821 – O amor que nunca morre</a></h5>,\n",
              " <h5><a href=\"https://portalcafebrasil.com.br/podcasts/cafe-brasil-820-my-generations/\">Café Brasil 820 – My Generations</a></h5>,\n",
              " <h5><a href=\"https://portalcafebrasil.com.br/podcasts/cafe-brasil-819-num-sei-por-que-to-tao-feliz/\">Café Brasil 819 – Num sei por que tô tão feliz</a></h5>,\n",
              " <h5><a href=\"https://portalcafebrasil.com.br/podcasts/cafe-brasil-818-a-cultura-do-cancelamento/\">Café Brasil 818 – A cultura do cancelamento</a></h5>,\n",
              " <h5><a href=\"https://portalcafebrasil.com.br/podcasts/cafe-brasil-817-exibicionismo-moral/\">Café Brasil 817 – Exibicionismo Moral</a></h5>,\n",
              " <h5><a href=\"https://portalcafebrasil.com.br/podcasts/cafe-brasil-816-leve-a-serio-e-educacao-dos-filhos/\">Café Brasil 816 – Leve a sério e educação dos filhos</a></h5>,\n",
              " <h5><a href=\"https://portalcafebrasil.com.br/podcasts/cafe-brasil-815-redes-sociais-bem-ou-mal/\">Café Brasil 815 – Redes sociais: bem ou mal?</a></h5>,\n",
              " <h5><a href=\"https://portalcafebrasil.com.br/podcasts/cafe-brasil-814-o-navio-de-teseu/\">Café Brasil 814 – O Navio de Teseu</a></h5>,\n",
              " <h5><a href=\"https://portalcafebrasil.com.br/podcasts/cafe-brasil-813-no-creo-en-brujas/\">Café Brasil 813 – No creo en brujas</a></h5>,\n",
              " <h5><a href=\"https://portalcafebrasil.com.br/podcasts/cafe-brasil-812-agroecologia-e-manipulacao/\">Café Brasil 812 – Agroecologia e Manipulação</a></h5>]"
            ]
          },
          "execution_count": 43,
          "metadata": {},
          "output_type": "execute_result"
        }
      ],
      "source": [
        "get_podcasts(url.format(3))"
      ]
    },
    {
      "cell_type": "code",
      "execution_count": null,
      "metadata": {
        "id": "xRbw6Qva0OCC"
      },
      "outputs": [],
      "source": [
        "log = logging.getLogger()\n",
        "log.setLevel(logging.DEBUG)\n",
        "formatter = logging.Formatter(\n",
        "    '%(asctime)s - %(name)s - %(levelname)s - %(message)s')\n",
        "ch = logging.StreamHandler()\n",
        "ch.setFormatter(formatter)\n",
        "log.addHandler(ch)"
      ]
    },
    {
      "cell_type": "code",
      "execution_count": null,
      "metadata": {
        "colab": {
          "base_uri": "https://localhost:8080/"
        },
        "id": "pxaBnlMiyzIs",
        "outputId": "2e2adee3-fba8-45ef-cb6c-38c9ed662364"
      },
      "outputs": [
        {
          "name": "stderr",
          "output_type": "stream",
          "text": [
            "DEBUG:urllib3.connectionpool:Starting new HTTPS connection (1): portalcafebrasil.com.br:443\n",
            "2023-02-02 01:55:24,462 - urllib3.connectionpool - DEBUG - Starting new HTTPS connection (1): portalcafebrasil.com.br:443\n",
            "DEBUG:urllib3.connectionpool:https://portalcafebrasil.com.br:443 \"GET /todos/podcasts/page/1/?ajax=true HTTP/1.1\" 301 0\n",
            "2023-02-02 01:55:24,951 - urllib3.connectionpool - DEBUG - https://portalcafebrasil.com.br:443 \"GET /todos/podcasts/page/1/?ajax=true HTTP/1.1\" 301 0\n",
            "DEBUG:urllib3.connectionpool:https://portalcafebrasil.com.br:443 \"GET /todos/podcasts/?ajax=true HTTP/1.1\" 200 None\n",
            "2023-02-02 01:55:25,452 - urllib3.connectionpool - DEBUG - https://portalcafebrasil.com.br:443 \"GET /todos/podcasts/?ajax=true HTTP/1.1\" 200 None\n",
            "DEBUG:root:Coletado 16 do link: https://portalcafebrasil.com.br/todos/podcasts/page/1/?ajax=true\n",
            "2023-02-02 01:55:25,468 - root - DEBUG - Coletado 16 do link: https://portalcafebrasil.com.br/todos/podcasts/page/1/?ajax=true\n",
            "DEBUG:urllib3.connectionpool:Starting new HTTPS connection (1): portalcafebrasil.com.br:443\n",
            "2023-02-02 01:55:25,475 - urllib3.connectionpool - DEBUG - Starting new HTTPS connection (1): portalcafebrasil.com.br:443\n",
            "DEBUG:urllib3.connectionpool:https://portalcafebrasil.com.br:443 \"GET /todos/podcasts/page/2/?ajax=true HTTP/1.1\" 200 None\n",
            "2023-02-02 01:55:26,146 - urllib3.connectionpool - DEBUG - https://portalcafebrasil.com.br:443 \"GET /todos/podcasts/page/2/?ajax=true HTTP/1.1\" 200 None\n",
            "DEBUG:root:Coletado 16 do link: https://portalcafebrasil.com.br/todos/podcasts/page/2/?ajax=true\n",
            "2023-02-02 01:55:26,165 - root - DEBUG - Coletado 16 do link: https://portalcafebrasil.com.br/todos/podcasts/page/2/?ajax=true\n",
            "DEBUG:urllib3.connectionpool:Starting new HTTPS connection (1): portalcafebrasil.com.br:443\n",
            "2023-02-02 01:55:26,171 - urllib3.connectionpool - DEBUG - Starting new HTTPS connection (1): portalcafebrasil.com.br:443\n",
            "DEBUG:urllib3.connectionpool:https://portalcafebrasil.com.br:443 \"GET /todos/podcasts/page/3/?ajax=true HTTP/1.1\" 200 None\n",
            "2023-02-02 01:55:26,796 - urllib3.connectionpool - DEBUG - https://portalcafebrasil.com.br:443 \"GET /todos/podcasts/page/3/?ajax=true HTTP/1.1\" 200 None\n",
            "DEBUG:root:Coletado 16 do link: https://portalcafebrasil.com.br/todos/podcasts/page/3/?ajax=true\n",
            "2023-02-02 01:55:26,811 - root - DEBUG - Coletado 16 do link: https://portalcafebrasil.com.br/todos/podcasts/page/3/?ajax=true\n",
            "DEBUG:urllib3.connectionpool:Starting new HTTPS connection (1): portalcafebrasil.com.br:443\n",
            "2023-02-02 01:55:26,817 - urllib3.connectionpool - DEBUG - Starting new HTTPS connection (1): portalcafebrasil.com.br:443\n",
            "DEBUG:urllib3.connectionpool:https://portalcafebrasil.com.br:443 \"GET /todos/podcasts/page/4/?ajax=true HTTP/1.1\" 200 None\n",
            "2023-02-02 01:55:27,312 - urllib3.connectionpool - DEBUG - https://portalcafebrasil.com.br:443 \"GET /todos/podcasts/page/4/?ajax=true HTTP/1.1\" 200 None\n",
            "DEBUG:root:Coletado 16 do link: https://portalcafebrasil.com.br/todos/podcasts/page/4/?ajax=true\n",
            "2023-02-02 01:55:27,331 - root - DEBUG - Coletado 16 do link: https://portalcafebrasil.com.br/todos/podcasts/page/4/?ajax=true\n",
            "DEBUG:urllib3.connectionpool:Starting new HTTPS connection (1): portalcafebrasil.com.br:443\n",
            "2023-02-02 01:55:27,339 - urllib3.connectionpool - DEBUG - Starting new HTTPS connection (1): portalcafebrasil.com.br:443\n",
            "DEBUG:urllib3.connectionpool:https://portalcafebrasil.com.br:443 \"GET /todos/podcasts/page/5/?ajax=true HTTP/1.1\" 200 None\n",
            "2023-02-02 01:55:27,904 - urllib3.connectionpool - DEBUG - https://portalcafebrasil.com.br:443 \"GET /todos/podcasts/page/5/?ajax=true HTTP/1.1\" 200 None\n",
            "DEBUG:root:Coletado 16 do link: https://portalcafebrasil.com.br/todos/podcasts/page/5/?ajax=true\n",
            "2023-02-02 01:55:27,929 - root - DEBUG - Coletado 16 do link: https://portalcafebrasil.com.br/todos/podcasts/page/5/?ajax=true\n",
            "DEBUG:urllib3.connectionpool:Starting new HTTPS connection (1): portalcafebrasil.com.br:443\n",
            "2023-02-02 01:55:27,936 - urllib3.connectionpool - DEBUG - Starting new HTTPS connection (1): portalcafebrasil.com.br:443\n",
            "DEBUG:urllib3.connectionpool:https://portalcafebrasil.com.br:443 \"GET /todos/podcasts/page/6/?ajax=true HTTP/1.1\" 200 None\n",
            "2023-02-02 01:55:28,446 - urllib3.connectionpool - DEBUG - https://portalcafebrasil.com.br:443 \"GET /todos/podcasts/page/6/?ajax=true HTTP/1.1\" 200 None\n",
            "DEBUG:root:Coletado 16 do link: https://portalcafebrasil.com.br/todos/podcasts/page/6/?ajax=true\n",
            "2023-02-02 01:55:28,470 - root - DEBUG - Coletado 16 do link: https://portalcafebrasil.com.br/todos/podcasts/page/6/?ajax=true\n",
            "DEBUG:urllib3.connectionpool:Starting new HTTPS connection (1): portalcafebrasil.com.br:443\n",
            "2023-02-02 01:55:28,478 - urllib3.connectionpool - DEBUG - Starting new HTTPS connection (1): portalcafebrasil.com.br:443\n",
            "DEBUG:urllib3.connectionpool:https://portalcafebrasil.com.br:443 \"GET /todos/podcasts/page/7/?ajax=true HTTP/1.1\" 200 None\n",
            "2023-02-02 01:55:28,989 - urllib3.connectionpool - DEBUG - https://portalcafebrasil.com.br:443 \"GET /todos/podcasts/page/7/?ajax=true HTTP/1.1\" 200 None\n",
            "DEBUG:root:Coletado 16 do link: https://portalcafebrasil.com.br/todos/podcasts/page/7/?ajax=true\n",
            "2023-02-02 01:55:29,009 - root - DEBUG - Coletado 16 do link: https://portalcafebrasil.com.br/todos/podcasts/page/7/?ajax=true\n",
            "DEBUG:urllib3.connectionpool:Starting new HTTPS connection (1): portalcafebrasil.com.br:443\n",
            "2023-02-02 01:55:29,019 - urllib3.connectionpool - DEBUG - Starting new HTTPS connection (1): portalcafebrasil.com.br:443\n",
            "DEBUG:urllib3.connectionpool:https://portalcafebrasil.com.br:443 \"GET /todos/podcasts/page/8/?ajax=true HTTP/1.1\" 200 None\n",
            "2023-02-02 01:55:29,554 - urllib3.connectionpool - DEBUG - https://portalcafebrasil.com.br:443 \"GET /todos/podcasts/page/8/?ajax=true HTTP/1.1\" 200 None\n",
            "DEBUG:root:Coletado 16 do link: https://portalcafebrasil.com.br/todos/podcasts/page/8/?ajax=true\n",
            "2023-02-02 01:55:29,571 - root - DEBUG - Coletado 16 do link: https://portalcafebrasil.com.br/todos/podcasts/page/8/?ajax=true\n",
            "DEBUG:urllib3.connectionpool:Starting new HTTPS connection (1): portalcafebrasil.com.br:443\n",
            "2023-02-02 01:55:29,579 - urllib3.connectionpool - DEBUG - Starting new HTTPS connection (1): portalcafebrasil.com.br:443\n",
            "DEBUG:urllib3.connectionpool:https://portalcafebrasil.com.br:443 \"GET /todos/podcasts/page/9/?ajax=true HTTP/1.1\" 200 None\n",
            "2023-02-02 01:55:30,117 - urllib3.connectionpool - DEBUG - https://portalcafebrasil.com.br:443 \"GET /todos/podcasts/page/9/?ajax=true HTTP/1.1\" 200 None\n",
            "DEBUG:root:Coletado 16 do link: https://portalcafebrasil.com.br/todos/podcasts/page/9/?ajax=true\n",
            "2023-02-02 01:55:30,138 - root - DEBUG - Coletado 16 do link: https://portalcafebrasil.com.br/todos/podcasts/page/9/?ajax=true\n",
            "DEBUG:urllib3.connectionpool:Starting new HTTPS connection (1): portalcafebrasil.com.br:443\n",
            "2023-02-02 01:55:30,146 - urllib3.connectionpool - DEBUG - Starting new HTTPS connection (1): portalcafebrasil.com.br:443\n",
            "DEBUG:urllib3.connectionpool:https://portalcafebrasil.com.br:443 \"GET /todos/podcasts/page/10/?ajax=true HTTP/1.1\" 200 None\n",
            "2023-02-02 01:55:30,630 - urllib3.connectionpool - DEBUG - https://portalcafebrasil.com.br:443 \"GET /todos/podcasts/page/10/?ajax=true HTTP/1.1\" 200 None\n",
            "DEBUG:root:Coletado 16 do link: https://portalcafebrasil.com.br/todos/podcasts/page/10/?ajax=true\n",
            "2023-02-02 01:55:30,649 - root - DEBUG - Coletado 16 do link: https://portalcafebrasil.com.br/todos/podcasts/page/10/?ajax=true\n",
            "DEBUG:urllib3.connectionpool:Starting new HTTPS connection (1): portalcafebrasil.com.br:443\n",
            "2023-02-02 01:55:30,657 - urllib3.connectionpool - DEBUG - Starting new HTTPS connection (1): portalcafebrasil.com.br:443\n",
            "DEBUG:urllib3.connectionpool:https://portalcafebrasil.com.br:443 \"GET /todos/podcasts/page/11/?ajax=true HTTP/1.1\" 200 None\n",
            "2023-02-02 01:55:31,312 - urllib3.connectionpool - DEBUG - https://portalcafebrasil.com.br:443 \"GET /todos/podcasts/page/11/?ajax=true HTTP/1.1\" 200 None\n",
            "DEBUG:root:Coletado 16 do link: https://portalcafebrasil.com.br/todos/podcasts/page/11/?ajax=true\n",
            "2023-02-02 01:55:31,472 - root - DEBUG - Coletado 16 do link: https://portalcafebrasil.com.br/todos/podcasts/page/11/?ajax=true\n",
            "DEBUG:urllib3.connectionpool:Starting new HTTPS connection (1): portalcafebrasil.com.br:443\n",
            "2023-02-02 01:55:31,481 - urllib3.connectionpool - DEBUG - Starting new HTTPS connection (1): portalcafebrasil.com.br:443\n",
            "DEBUG:urllib3.connectionpool:https://portalcafebrasil.com.br:443 \"GET /todos/podcasts/page/12/?ajax=true HTTP/1.1\" 200 None\n",
            "2023-02-02 01:55:32,009 - urllib3.connectionpool - DEBUG - https://portalcafebrasil.com.br:443 \"GET /todos/podcasts/page/12/?ajax=true HTTP/1.1\" 200 None\n",
            "DEBUG:root:Coletado 16 do link: https://portalcafebrasil.com.br/todos/podcasts/page/12/?ajax=true\n",
            "2023-02-02 01:55:32,025 - root - DEBUG - Coletado 16 do link: https://portalcafebrasil.com.br/todos/podcasts/page/12/?ajax=true\n",
            "DEBUG:urllib3.connectionpool:Starting new HTTPS connection (1): portalcafebrasil.com.br:443\n",
            "2023-02-02 01:55:32,029 - urllib3.connectionpool - DEBUG - Starting new HTTPS connection (1): portalcafebrasil.com.br:443\n",
            "DEBUG:urllib3.connectionpool:https://portalcafebrasil.com.br:443 \"GET /todos/podcasts/page/13/?ajax=true HTTP/1.1\" 200 None\n",
            "2023-02-02 01:55:32,535 - urllib3.connectionpool - DEBUG - https://portalcafebrasil.com.br:443 \"GET /todos/podcasts/page/13/?ajax=true HTTP/1.1\" 200 None\n",
            "DEBUG:root:Coletado 16 do link: https://portalcafebrasil.com.br/todos/podcasts/page/13/?ajax=true\n",
            "2023-02-02 01:55:32,552 - root - DEBUG - Coletado 16 do link: https://portalcafebrasil.com.br/todos/podcasts/page/13/?ajax=true\n",
            "DEBUG:urllib3.connectionpool:Starting new HTTPS connection (1): portalcafebrasil.com.br:443\n",
            "2023-02-02 01:55:32,560 - urllib3.connectionpool - DEBUG - Starting new HTTPS connection (1): portalcafebrasil.com.br:443\n",
            "DEBUG:urllib3.connectionpool:https://portalcafebrasil.com.br:443 \"GET /todos/podcasts/page/14/?ajax=true HTTP/1.1\" 200 None\n",
            "2023-02-02 01:55:33,205 - urllib3.connectionpool - DEBUG - https://portalcafebrasil.com.br:443 \"GET /todos/podcasts/page/14/?ajax=true HTTP/1.1\" 200 None\n",
            "DEBUG:root:Coletado 16 do link: https://portalcafebrasil.com.br/todos/podcasts/page/14/?ajax=true\n",
            "2023-02-02 01:55:33,224 - root - DEBUG - Coletado 16 do link: https://portalcafebrasil.com.br/todos/podcasts/page/14/?ajax=true\n",
            "DEBUG:urllib3.connectionpool:Starting new HTTPS connection (1): portalcafebrasil.com.br:443\n",
            "2023-02-02 01:55:33,234 - urllib3.connectionpool - DEBUG - Starting new HTTPS connection (1): portalcafebrasil.com.br:443\n",
            "DEBUG:urllib3.connectionpool:https://portalcafebrasil.com.br:443 \"GET /todos/podcasts/page/15/?ajax=true HTTP/1.1\" 200 None\n",
            "2023-02-02 01:55:33,780 - urllib3.connectionpool - DEBUG - https://portalcafebrasil.com.br:443 \"GET /todos/podcasts/page/15/?ajax=true HTTP/1.1\" 200 None\n",
            "DEBUG:root:Coletado 16 do link: https://portalcafebrasil.com.br/todos/podcasts/page/15/?ajax=true\n",
            "2023-02-02 01:55:33,798 - root - DEBUG - Coletado 16 do link: https://portalcafebrasil.com.br/todos/podcasts/page/15/?ajax=true\n",
            "DEBUG:urllib3.connectionpool:Starting new HTTPS connection (1): portalcafebrasil.com.br:443\n",
            "2023-02-02 01:55:33,805 - urllib3.connectionpool - DEBUG - Starting new HTTPS connection (1): portalcafebrasil.com.br:443\n",
            "DEBUG:urllib3.connectionpool:https://portalcafebrasil.com.br:443 \"GET /todos/podcasts/page/16/?ajax=true HTTP/1.1\" 200 None\n",
            "2023-02-02 01:55:34,382 - urllib3.connectionpool - DEBUG - https://portalcafebrasil.com.br:443 \"GET /todos/podcasts/page/16/?ajax=true HTTP/1.1\" 200 None\n",
            "DEBUG:root:Coletado 16 do link: https://portalcafebrasil.com.br/todos/podcasts/page/16/?ajax=true\n",
            "2023-02-02 01:55:34,407 - root - DEBUG - Coletado 16 do link: https://portalcafebrasil.com.br/todos/podcasts/page/16/?ajax=true\n",
            "DEBUG:urllib3.connectionpool:Starting new HTTPS connection (1): portalcafebrasil.com.br:443\n",
            "2023-02-02 01:55:34,415 - urllib3.connectionpool - DEBUG - Starting new HTTPS connection (1): portalcafebrasil.com.br:443\n",
            "DEBUG:urllib3.connectionpool:https://portalcafebrasil.com.br:443 \"GET /todos/podcasts/page/17/?ajax=true HTTP/1.1\" 200 None\n",
            "2023-02-02 01:55:35,417 - urllib3.connectionpool - DEBUG - https://portalcafebrasil.com.br:443 \"GET /todos/podcasts/page/17/?ajax=true HTTP/1.1\" 200 None\n",
            "DEBUG:root:Coletado 16 do link: https://portalcafebrasil.com.br/todos/podcasts/page/17/?ajax=true\n",
            "2023-02-02 01:55:35,437 - root - DEBUG - Coletado 16 do link: https://portalcafebrasil.com.br/todos/podcasts/page/17/?ajax=true\n",
            "DEBUG:urllib3.connectionpool:Starting new HTTPS connection (1): portalcafebrasil.com.br:443\n",
            "2023-02-02 01:55:35,443 - urllib3.connectionpool - DEBUG - Starting new HTTPS connection (1): portalcafebrasil.com.br:443\n",
            "DEBUG:urllib3.connectionpool:https://portalcafebrasil.com.br:443 \"GET /todos/podcasts/page/18/?ajax=true HTTP/1.1\" 200 None\n",
            "2023-02-02 01:55:36,221 - urllib3.connectionpool - DEBUG - https://portalcafebrasil.com.br:443 \"GET /todos/podcasts/page/18/?ajax=true HTTP/1.1\" 200 None\n",
            "DEBUG:root:Coletado 16 do link: https://portalcafebrasil.com.br/todos/podcasts/page/18/?ajax=true\n",
            "2023-02-02 01:55:36,240 - root - DEBUG - Coletado 16 do link: https://portalcafebrasil.com.br/todos/podcasts/page/18/?ajax=true\n",
            "DEBUG:urllib3.connectionpool:Starting new HTTPS connection (1): portalcafebrasil.com.br:443\n",
            "2023-02-02 01:55:36,248 - urllib3.connectionpool - DEBUG - Starting new HTTPS connection (1): portalcafebrasil.com.br:443\n",
            "DEBUG:urllib3.connectionpool:https://portalcafebrasil.com.br:443 \"GET /todos/podcasts/page/19/?ajax=true HTTP/1.1\" 200 3300\n",
            "2023-02-02 01:55:37,238 - urllib3.connectionpool - DEBUG - https://portalcafebrasil.com.br:443 \"GET /todos/podcasts/page/19/?ajax=true HTTP/1.1\" 200 3300\n",
            "DEBUG:root:Coletado 16 do link: https://portalcafebrasil.com.br/todos/podcasts/page/19/?ajax=true\n",
            "2023-02-02 01:55:37,255 - root - DEBUG - Coletado 16 do link: https://portalcafebrasil.com.br/todos/podcasts/page/19/?ajax=true\n",
            "DEBUG:urllib3.connectionpool:Starting new HTTPS connection (1): portalcafebrasil.com.br:443\n",
            "2023-02-02 01:55:37,263 - urllib3.connectionpool - DEBUG - Starting new HTTPS connection (1): portalcafebrasil.com.br:443\n",
            "DEBUG:urllib3.connectionpool:https://portalcafebrasil.com.br:443 \"GET /todos/podcasts/page/20/?ajax=true HTTP/1.1\" 200 None\n",
            "2023-02-02 01:55:38,909 - urllib3.connectionpool - DEBUG - https://portalcafebrasil.com.br:443 \"GET /todos/podcasts/page/20/?ajax=true HTTP/1.1\" 200 None\n",
            "DEBUG:root:Coletado 16 do link: https://portalcafebrasil.com.br/todos/podcasts/page/20/?ajax=true\n",
            "2023-02-02 01:55:38,927 - root - DEBUG - Coletado 16 do link: https://portalcafebrasil.com.br/todos/podcasts/page/20/?ajax=true\n",
            "DEBUG:urllib3.connectionpool:Starting new HTTPS connection (1): portalcafebrasil.com.br:443\n",
            "2023-02-02 01:55:38,933 - urllib3.connectionpool - DEBUG - Starting new HTTPS connection (1): portalcafebrasil.com.br:443\n",
            "DEBUG:urllib3.connectionpool:https://portalcafebrasil.com.br:443 \"GET /todos/podcasts/page/21/?ajax=true HTTP/1.1\" 200 None\n",
            "2023-02-02 01:55:40,029 - urllib3.connectionpool - DEBUG - https://portalcafebrasil.com.br:443 \"GET /todos/podcasts/page/21/?ajax=true HTTP/1.1\" 200 None\n",
            "DEBUG:root:Coletado 16 do link: https://portalcafebrasil.com.br/todos/podcasts/page/21/?ajax=true\n",
            "2023-02-02 01:55:40,056 - root - DEBUG - Coletado 16 do link: https://portalcafebrasil.com.br/todos/podcasts/page/21/?ajax=true\n",
            "DEBUG:urllib3.connectionpool:Starting new HTTPS connection (1): portalcafebrasil.com.br:443\n",
            "2023-02-02 01:55:40,063 - urllib3.connectionpool - DEBUG - Starting new HTTPS connection (1): portalcafebrasil.com.br:443\n",
            "DEBUG:urllib3.connectionpool:https://portalcafebrasil.com.br:443 \"GET /todos/podcasts/page/22/?ajax=true HTTP/1.1\" 200 None\n",
            "2023-02-02 01:55:41,205 - urllib3.connectionpool - DEBUG - https://portalcafebrasil.com.br:443 \"GET /todos/podcasts/page/22/?ajax=true HTTP/1.1\" 200 None\n",
            "DEBUG:root:Coletado 16 do link: https://portalcafebrasil.com.br/todos/podcasts/page/22/?ajax=true\n",
            "2023-02-02 01:55:41,227 - root - DEBUG - Coletado 16 do link: https://portalcafebrasil.com.br/todos/podcasts/page/22/?ajax=true\n",
            "DEBUG:urllib3.connectionpool:Starting new HTTPS connection (1): portalcafebrasil.com.br:443\n",
            "2023-02-02 01:55:41,237 - urllib3.connectionpool - DEBUG - Starting new HTTPS connection (1): portalcafebrasil.com.br:443\n",
            "DEBUG:urllib3.connectionpool:https://portalcafebrasil.com.br:443 \"GET /todos/podcasts/page/23/?ajax=true HTTP/1.1\" 200 None\n",
            "2023-02-02 01:55:42,426 - urllib3.connectionpool - DEBUG - https://portalcafebrasil.com.br:443 \"GET /todos/podcasts/page/23/?ajax=true HTTP/1.1\" 200 None\n",
            "DEBUG:root:Coletado 16 do link: https://portalcafebrasil.com.br/todos/podcasts/page/23/?ajax=true\n",
            "2023-02-02 01:55:42,446 - root - DEBUG - Coletado 16 do link: https://portalcafebrasil.com.br/todos/podcasts/page/23/?ajax=true\n",
            "DEBUG:urllib3.connectionpool:Starting new HTTPS connection (1): portalcafebrasil.com.br:443\n",
            "2023-02-02 01:55:42,456 - urllib3.connectionpool - DEBUG - Starting new HTTPS connection (1): portalcafebrasil.com.br:443\n",
            "DEBUG:urllib3.connectionpool:https://portalcafebrasil.com.br:443 \"GET /todos/podcasts/page/24/?ajax=true HTTP/1.1\" 200 None\n",
            "2023-02-02 01:55:44,029 - urllib3.connectionpool - DEBUG - https://portalcafebrasil.com.br:443 \"GET /todos/podcasts/page/24/?ajax=true HTTP/1.1\" 200 None\n",
            "DEBUG:root:Coletado 16 do link: https://portalcafebrasil.com.br/todos/podcasts/page/24/?ajax=true\n",
            "2023-02-02 01:55:44,046 - root - DEBUG - Coletado 16 do link: https://portalcafebrasil.com.br/todos/podcasts/page/24/?ajax=true\n",
            "DEBUG:urllib3.connectionpool:Starting new HTTPS connection (1): portalcafebrasil.com.br:443\n",
            "2023-02-02 01:55:44,052 - urllib3.connectionpool - DEBUG - Starting new HTTPS connection (1): portalcafebrasil.com.br:443\n",
            "DEBUG:urllib3.connectionpool:https://portalcafebrasil.com.br:443 \"GET /todos/podcasts/page/25/?ajax=true HTTP/1.1\" 200 None\n",
            "2023-02-02 01:55:45,103 - urllib3.connectionpool - DEBUG - https://portalcafebrasil.com.br:443 \"GET /todos/podcasts/page/25/?ajax=true HTTP/1.1\" 200 None\n",
            "DEBUG:root:Coletado 16 do link: https://portalcafebrasil.com.br/todos/podcasts/page/25/?ajax=true\n",
            "2023-02-02 01:55:45,128 - root - DEBUG - Coletado 16 do link: https://portalcafebrasil.com.br/todos/podcasts/page/25/?ajax=true\n",
            "DEBUG:urllib3.connectionpool:Starting new HTTPS connection (1): portalcafebrasil.com.br:443\n",
            "2023-02-02 01:55:45,139 - urllib3.connectionpool - DEBUG - Starting new HTTPS connection (1): portalcafebrasil.com.br:443\n",
            "DEBUG:urllib3.connectionpool:https://portalcafebrasil.com.br:443 \"GET /todos/podcasts/page/26/?ajax=true HTTP/1.1\" 200 None\n",
            "2023-02-02 01:55:46,420 - urllib3.connectionpool - DEBUG - https://portalcafebrasil.com.br:443 \"GET /todos/podcasts/page/26/?ajax=true HTTP/1.1\" 200 None\n",
            "DEBUG:root:Coletado 16 do link: https://portalcafebrasil.com.br/todos/podcasts/page/26/?ajax=true\n",
            "2023-02-02 01:55:46,439 - root - DEBUG - Coletado 16 do link: https://portalcafebrasil.com.br/todos/podcasts/page/26/?ajax=true\n",
            "DEBUG:urllib3.connectionpool:Starting new HTTPS connection (1): portalcafebrasil.com.br:443\n",
            "2023-02-02 01:55:46,446 - urllib3.connectionpool - DEBUG - Starting new HTTPS connection (1): portalcafebrasil.com.br:443\n",
            "DEBUG:urllib3.connectionpool:https://portalcafebrasil.com.br:443 \"GET /todos/podcasts/page/27/?ajax=true HTTP/1.1\" 200 None\n",
            "2023-02-02 01:55:47,938 - urllib3.connectionpool - DEBUG - https://portalcafebrasil.com.br:443 \"GET /todos/podcasts/page/27/?ajax=true HTTP/1.1\" 200 None\n",
            "DEBUG:root:Coletado 16 do link: https://portalcafebrasil.com.br/todos/podcasts/page/27/?ajax=true\n",
            "2023-02-02 01:55:47,958 - root - DEBUG - Coletado 16 do link: https://portalcafebrasil.com.br/todos/podcasts/page/27/?ajax=true\n",
            "DEBUG:urllib3.connectionpool:Starting new HTTPS connection (1): portalcafebrasil.com.br:443\n",
            "2023-02-02 01:55:47,969 - urllib3.connectionpool - DEBUG - Starting new HTTPS connection (1): portalcafebrasil.com.br:443\n",
            "DEBUG:urllib3.connectionpool:https://portalcafebrasil.com.br:443 \"GET /todos/podcasts/page/28/?ajax=true HTTP/1.1\" 200 None\n",
            "2023-02-02 01:55:49,030 - urllib3.connectionpool - DEBUG - https://portalcafebrasil.com.br:443 \"GET /todos/podcasts/page/28/?ajax=true HTTP/1.1\" 200 None\n",
            "DEBUG:root:Coletado 16 do link: https://portalcafebrasil.com.br/todos/podcasts/page/28/?ajax=true\n",
            "2023-02-02 01:55:49,047 - root - DEBUG - Coletado 16 do link: https://portalcafebrasil.com.br/todos/podcasts/page/28/?ajax=true\n",
            "DEBUG:urllib3.connectionpool:Starting new HTTPS connection (1): portalcafebrasil.com.br:443\n",
            "2023-02-02 01:55:49,055 - urllib3.connectionpool - DEBUG - Starting new HTTPS connection (1): portalcafebrasil.com.br:443\n",
            "DEBUG:urllib3.connectionpool:https://portalcafebrasil.com.br:443 \"GET /todos/podcasts/page/29/?ajax=true HTTP/1.1\" 200 None\n",
            "2023-02-02 01:55:50,433 - urllib3.connectionpool - DEBUG - https://portalcafebrasil.com.br:443 \"GET /todos/podcasts/page/29/?ajax=true HTTP/1.1\" 200 None\n",
            "DEBUG:root:Coletado 16 do link: https://portalcafebrasil.com.br/todos/podcasts/page/29/?ajax=true\n",
            "2023-02-02 01:55:50,449 - root - DEBUG - Coletado 16 do link: https://portalcafebrasil.com.br/todos/podcasts/page/29/?ajax=true\n",
            "DEBUG:urllib3.connectionpool:Starting new HTTPS connection (1): portalcafebrasil.com.br:443\n",
            "2023-02-02 01:55:50,456 - urllib3.connectionpool - DEBUG - Starting new HTTPS connection (1): portalcafebrasil.com.br:443\n",
            "DEBUG:urllib3.connectionpool:https://portalcafebrasil.com.br:443 \"GET /todos/podcasts/page/30/?ajax=true HTTP/1.1\" 200 None\n",
            "2023-02-02 01:55:51,641 - urllib3.connectionpool - DEBUG - https://portalcafebrasil.com.br:443 \"GET /todos/podcasts/page/30/?ajax=true HTTP/1.1\" 200 None\n",
            "DEBUG:root:Coletado 16 do link: https://portalcafebrasil.com.br/todos/podcasts/page/30/?ajax=true\n",
            "2023-02-02 01:55:51,663 - root - DEBUG - Coletado 16 do link: https://portalcafebrasil.com.br/todos/podcasts/page/30/?ajax=true\n",
            "DEBUG:urllib3.connectionpool:Starting new HTTPS connection (1): portalcafebrasil.com.br:443\n",
            "2023-02-02 01:55:51,670 - urllib3.connectionpool - DEBUG - Starting new HTTPS connection (1): portalcafebrasil.com.br:443\n",
            "DEBUG:urllib3.connectionpool:https://portalcafebrasil.com.br:443 \"GET /todos/podcasts/page/31/?ajax=true HTTP/1.1\" 200 None\n",
            "2023-02-02 01:55:52,704 - urllib3.connectionpool - DEBUG - https://portalcafebrasil.com.br:443 \"GET /todos/podcasts/page/31/?ajax=true HTTP/1.1\" 200 None\n",
            "DEBUG:root:Coletado 16 do link: https://portalcafebrasil.com.br/todos/podcasts/page/31/?ajax=true\n",
            "2023-02-02 01:55:52,728 - root - DEBUG - Coletado 16 do link: https://portalcafebrasil.com.br/todos/podcasts/page/31/?ajax=true\n",
            "DEBUG:urllib3.connectionpool:Starting new HTTPS connection (1): portalcafebrasil.com.br:443\n",
            "2023-02-02 01:55:52,735 - urllib3.connectionpool - DEBUG - Starting new HTTPS connection (1): portalcafebrasil.com.br:443\n",
            "DEBUG:urllib3.connectionpool:https://portalcafebrasil.com.br:443 \"GET /todos/podcasts/page/32/?ajax=true HTTP/1.1\" 200 None\n",
            "2023-02-02 01:55:53,644 - urllib3.connectionpool - DEBUG - https://portalcafebrasil.com.br:443 \"GET /todos/podcasts/page/32/?ajax=true HTTP/1.1\" 200 None\n",
            "DEBUG:root:Coletado 16 do link: https://portalcafebrasil.com.br/todos/podcasts/page/32/?ajax=true\n",
            "2023-02-02 01:55:53,662 - root - DEBUG - Coletado 16 do link: https://portalcafebrasil.com.br/todos/podcasts/page/32/?ajax=true\n",
            "DEBUG:urllib3.connectionpool:Starting new HTTPS connection (1): portalcafebrasil.com.br:443\n",
            "2023-02-02 01:55:53,667 - urllib3.connectionpool - DEBUG - Starting new HTTPS connection (1): portalcafebrasil.com.br:443\n",
            "DEBUG:urllib3.connectionpool:https://portalcafebrasil.com.br:443 \"GET /todos/podcasts/page/33/?ajax=true HTTP/1.1\" 200 None\n",
            "2023-02-02 01:55:54,145 - urllib3.connectionpool - DEBUG - https://portalcafebrasil.com.br:443 \"GET /todos/podcasts/page/33/?ajax=true HTTP/1.1\" 200 None\n",
            "DEBUG:root:Coletado 16 do link: https://portalcafebrasil.com.br/todos/podcasts/page/33/?ajax=true\n",
            "2023-02-02 01:55:54,163 - root - DEBUG - Coletado 16 do link: https://portalcafebrasil.com.br/todos/podcasts/page/33/?ajax=true\n",
            "DEBUG:urllib3.connectionpool:Starting new HTTPS connection (1): portalcafebrasil.com.br:443\n",
            "2023-02-02 01:55:54,172 - urllib3.connectionpool - DEBUG - Starting new HTTPS connection (1): portalcafebrasil.com.br:443\n",
            "DEBUG:urllib3.connectionpool:https://portalcafebrasil.com.br:443 \"GET /todos/podcasts/page/34/?ajax=true HTTP/1.1\" 200 None\n",
            "2023-02-02 01:55:54,823 - urllib3.connectionpool - DEBUG - https://portalcafebrasil.com.br:443 \"GET /todos/podcasts/page/34/?ajax=true HTTP/1.1\" 200 None\n",
            "DEBUG:root:Coletado 16 do link: https://portalcafebrasil.com.br/todos/podcasts/page/34/?ajax=true\n",
            "2023-02-02 01:55:54,842 - root - DEBUG - Coletado 16 do link: https://portalcafebrasil.com.br/todos/podcasts/page/34/?ajax=true\n",
            "DEBUG:urllib3.connectionpool:Starting new HTTPS connection (1): portalcafebrasil.com.br:443\n",
            "2023-02-02 01:55:54,849 - urllib3.connectionpool - DEBUG - Starting new HTTPS connection (1): portalcafebrasil.com.br:443\n",
            "DEBUG:urllib3.connectionpool:https://portalcafebrasil.com.br:443 \"GET /todos/podcasts/page/35/?ajax=true HTTP/1.1\" 200 None\n",
            "2023-02-02 01:55:55,463 - urllib3.connectionpool - DEBUG - https://portalcafebrasil.com.br:443 \"GET /todos/podcasts/page/35/?ajax=true HTTP/1.1\" 200 None\n",
            "DEBUG:root:Coletado 16 do link: https://portalcafebrasil.com.br/todos/podcasts/page/35/?ajax=true\n",
            "2023-02-02 01:55:55,485 - root - DEBUG - Coletado 16 do link: https://portalcafebrasil.com.br/todos/podcasts/page/35/?ajax=true\n",
            "DEBUG:urllib3.connectionpool:Starting new HTTPS connection (1): portalcafebrasil.com.br:443\n",
            "2023-02-02 01:55:55,495 - urllib3.connectionpool - DEBUG - Starting new HTTPS connection (1): portalcafebrasil.com.br:443\n",
            "DEBUG:urllib3.connectionpool:https://portalcafebrasil.com.br:443 \"GET /todos/podcasts/page/36/?ajax=true HTTP/1.1\" 200 None\n",
            "2023-02-02 01:55:56,082 - urllib3.connectionpool - DEBUG - https://portalcafebrasil.com.br:443 \"GET /todos/podcasts/page/36/?ajax=true HTTP/1.1\" 200 None\n",
            "DEBUG:root:Coletado 16 do link: https://portalcafebrasil.com.br/todos/podcasts/page/36/?ajax=true\n",
            "2023-02-02 01:55:56,103 - root - DEBUG - Coletado 16 do link: https://portalcafebrasil.com.br/todos/podcasts/page/36/?ajax=true\n",
            "DEBUG:urllib3.connectionpool:Starting new HTTPS connection (1): portalcafebrasil.com.br:443\n",
            "2023-02-02 01:55:56,109 - urllib3.connectionpool - DEBUG - Starting new HTTPS connection (1): portalcafebrasil.com.br:443\n",
            "DEBUG:urllib3.connectionpool:https://portalcafebrasil.com.br:443 \"GET /todos/podcasts/page/37/?ajax=true HTTP/1.1\" 200 None\n",
            "2023-02-02 01:55:56,602 - urllib3.connectionpool - DEBUG - https://portalcafebrasil.com.br:443 \"GET /todos/podcasts/page/37/?ajax=true HTTP/1.1\" 200 None\n",
            "DEBUG:root:Coletado 16 do link: https://portalcafebrasil.com.br/todos/podcasts/page/37/?ajax=true\n",
            "2023-02-02 01:55:56,623 - root - DEBUG - Coletado 16 do link: https://portalcafebrasil.com.br/todos/podcasts/page/37/?ajax=true\n",
            "DEBUG:urllib3.connectionpool:Starting new HTTPS connection (1): portalcafebrasil.com.br:443\n",
            "2023-02-02 01:55:56,630 - urllib3.connectionpool - DEBUG - Starting new HTTPS connection (1): portalcafebrasil.com.br:443\n",
            "DEBUG:urllib3.connectionpool:https://portalcafebrasil.com.br:443 \"GET /todos/podcasts/page/38/?ajax=true HTTP/1.1\" 200 None\n",
            "2023-02-02 01:55:57,177 - urllib3.connectionpool - DEBUG - https://portalcafebrasil.com.br:443 \"GET /todos/podcasts/page/38/?ajax=true HTTP/1.1\" 200 None\n",
            "DEBUG:root:Coletado 16 do link: https://portalcafebrasil.com.br/todos/podcasts/page/38/?ajax=true\n",
            "2023-02-02 01:55:57,194 - root - DEBUG - Coletado 16 do link: https://portalcafebrasil.com.br/todos/podcasts/page/38/?ajax=true\n",
            "DEBUG:urllib3.connectionpool:Starting new HTTPS connection (1): portalcafebrasil.com.br:443\n",
            "2023-02-02 01:55:57,202 - urllib3.connectionpool - DEBUG - Starting new HTTPS connection (1): portalcafebrasil.com.br:443\n",
            "DEBUG:urllib3.connectionpool:https://portalcafebrasil.com.br:443 \"GET /todos/podcasts/page/39/?ajax=true HTTP/1.1\" 200 None\n",
            "2023-02-02 01:55:57,660 - urllib3.connectionpool - DEBUG - https://portalcafebrasil.com.br:443 \"GET /todos/podcasts/page/39/?ajax=true HTTP/1.1\" 200 None\n",
            "DEBUG:root:Coletado 16 do link: https://portalcafebrasil.com.br/todos/podcasts/page/39/?ajax=true\n",
            "2023-02-02 01:55:57,679 - root - DEBUG - Coletado 16 do link: https://portalcafebrasil.com.br/todos/podcasts/page/39/?ajax=true\n",
            "DEBUG:urllib3.connectionpool:Starting new HTTPS connection (1): portalcafebrasil.com.br:443\n",
            "2023-02-02 01:55:57,685 - urllib3.connectionpool - DEBUG - Starting new HTTPS connection (1): portalcafebrasil.com.br:443\n",
            "DEBUG:urllib3.connectionpool:https://portalcafebrasil.com.br:443 \"GET /todos/podcasts/page/40/?ajax=true HTTP/1.1\" 200 None\n",
            "2023-02-02 01:55:58,151 - urllib3.connectionpool - DEBUG - https://portalcafebrasil.com.br:443 \"GET /todos/podcasts/page/40/?ajax=true HTTP/1.1\" 200 None\n",
            "DEBUG:root:Coletado 16 do link: https://portalcafebrasil.com.br/todos/podcasts/page/40/?ajax=true\n",
            "2023-02-02 01:55:58,171 - root - DEBUG - Coletado 16 do link: https://portalcafebrasil.com.br/todos/podcasts/page/40/?ajax=true\n",
            "DEBUG:urllib3.connectionpool:Starting new HTTPS connection (1): portalcafebrasil.com.br:443\n",
            "2023-02-02 01:55:58,178 - urllib3.connectionpool - DEBUG - Starting new HTTPS connection (1): portalcafebrasil.com.br:443\n",
            "DEBUG:urllib3.connectionpool:https://portalcafebrasil.com.br:443 \"GET /todos/podcasts/page/41/?ajax=true HTTP/1.1\" 200 None\n",
            "2023-02-02 01:55:58,676 - urllib3.connectionpool - DEBUG - https://portalcafebrasil.com.br:443 \"GET /todos/podcasts/page/41/?ajax=true HTTP/1.1\" 200 None\n",
            "DEBUG:root:Coletado 16 do link: https://portalcafebrasil.com.br/todos/podcasts/page/41/?ajax=true\n",
            "2023-02-02 01:55:58,697 - root - DEBUG - Coletado 16 do link: https://portalcafebrasil.com.br/todos/podcasts/page/41/?ajax=true\n",
            "DEBUG:urllib3.connectionpool:Starting new HTTPS connection (1): portalcafebrasil.com.br:443\n",
            "2023-02-02 01:55:58,706 - urllib3.connectionpool - DEBUG - Starting new HTTPS connection (1): portalcafebrasil.com.br:443\n",
            "DEBUG:urllib3.connectionpool:https://portalcafebrasil.com.br:443 \"GET /todos/podcasts/page/42/?ajax=true HTTP/1.1\" 200 None\n",
            "2023-02-02 01:55:59,220 - urllib3.connectionpool - DEBUG - https://portalcafebrasil.com.br:443 \"GET /todos/podcasts/page/42/?ajax=true HTTP/1.1\" 200 None\n",
            "DEBUG:root:Coletado 16 do link: https://portalcafebrasil.com.br/todos/podcasts/page/42/?ajax=true\n",
            "2023-02-02 01:55:59,246 - root - DEBUG - Coletado 16 do link: https://portalcafebrasil.com.br/todos/podcasts/page/42/?ajax=true\n",
            "DEBUG:urllib3.connectionpool:Starting new HTTPS connection (1): portalcafebrasil.com.br:443\n",
            "2023-02-02 01:55:59,254 - urllib3.connectionpool - DEBUG - Starting new HTTPS connection (1): portalcafebrasil.com.br:443\n",
            "DEBUG:urllib3.connectionpool:https://portalcafebrasil.com.br:443 \"GET /todos/podcasts/page/43/?ajax=true HTTP/1.1\" 200 None\n",
            "2023-02-02 01:56:00,111 - urllib3.connectionpool - DEBUG - https://portalcafebrasil.com.br:443 \"GET /todos/podcasts/page/43/?ajax=true HTTP/1.1\" 200 None\n",
            "DEBUG:root:Coletado 16 do link: https://portalcafebrasil.com.br/todos/podcasts/page/43/?ajax=true\n",
            "2023-02-02 01:56:00,131 - root - DEBUG - Coletado 16 do link: https://portalcafebrasil.com.br/todos/podcasts/page/43/?ajax=true\n",
            "DEBUG:urllib3.connectionpool:Starting new HTTPS connection (1): portalcafebrasil.com.br:443\n",
            "2023-02-02 01:56:00,139 - urllib3.connectionpool - DEBUG - Starting new HTTPS connection (1): portalcafebrasil.com.br:443\n",
            "DEBUG:urllib3.connectionpool:https://portalcafebrasil.com.br:443 \"GET /todos/podcasts/page/44/?ajax=true HTTP/1.1\" 200 None\n",
            "2023-02-02 01:56:00,869 - urllib3.connectionpool - DEBUG - https://portalcafebrasil.com.br:443 \"GET /todos/podcasts/page/44/?ajax=true HTTP/1.1\" 200 None\n",
            "DEBUG:root:Coletado 16 do link: https://portalcafebrasil.com.br/todos/podcasts/page/44/?ajax=true\n",
            "2023-02-02 01:56:00,890 - root - DEBUG - Coletado 16 do link: https://portalcafebrasil.com.br/todos/podcasts/page/44/?ajax=true\n",
            "DEBUG:urllib3.connectionpool:Starting new HTTPS connection (1): portalcafebrasil.com.br:443\n",
            "2023-02-02 01:56:00,897 - urllib3.connectionpool - DEBUG - Starting new HTTPS connection (1): portalcafebrasil.com.br:443\n",
            "DEBUG:urllib3.connectionpool:https://portalcafebrasil.com.br:443 \"GET /todos/podcasts/page/45/?ajax=true HTTP/1.1\" 200 None\n",
            "2023-02-02 01:56:01,534 - urllib3.connectionpool - DEBUG - https://portalcafebrasil.com.br:443 \"GET /todos/podcasts/page/45/?ajax=true HTTP/1.1\" 200 None\n",
            "DEBUG:root:Coletado 16 do link: https://portalcafebrasil.com.br/todos/podcasts/page/45/?ajax=true\n",
            "2023-02-02 01:56:01,552 - root - DEBUG - Coletado 16 do link: https://portalcafebrasil.com.br/todos/podcasts/page/45/?ajax=true\n",
            "DEBUG:urllib3.connectionpool:Starting new HTTPS connection (1): portalcafebrasil.com.br:443\n",
            "2023-02-02 01:56:01,560 - urllib3.connectionpool - DEBUG - Starting new HTTPS connection (1): portalcafebrasil.com.br:443\n",
            "DEBUG:urllib3.connectionpool:https://portalcafebrasil.com.br:443 \"GET /todos/podcasts/page/46/?ajax=true HTTP/1.1\" 200 None\n",
            "2023-02-02 01:56:02,630 - urllib3.connectionpool - DEBUG - https://portalcafebrasil.com.br:443 \"GET /todos/podcasts/page/46/?ajax=true HTTP/1.1\" 200 None\n",
            "DEBUG:root:Coletado 16 do link: https://portalcafebrasil.com.br/todos/podcasts/page/46/?ajax=true\n",
            "2023-02-02 01:56:02,649 - root - DEBUG - Coletado 16 do link: https://portalcafebrasil.com.br/todos/podcasts/page/46/?ajax=true\n",
            "DEBUG:urllib3.connectionpool:Starting new HTTPS connection (1): portalcafebrasil.com.br:443\n",
            "2023-02-02 01:56:02,655 - urllib3.connectionpool - DEBUG - Starting new HTTPS connection (1): portalcafebrasil.com.br:443\n",
            "DEBUG:urllib3.connectionpool:https://portalcafebrasil.com.br:443 \"GET /todos/podcasts/page/47/?ajax=true HTTP/1.1\" 200 None\n",
            "2023-02-02 01:56:03,126 - urllib3.connectionpool - DEBUG - https://portalcafebrasil.com.br:443 \"GET /todos/podcasts/page/47/?ajax=true HTTP/1.1\" 200 None\n",
            "DEBUG:root:Coletado 16 do link: https://portalcafebrasil.com.br/todos/podcasts/page/47/?ajax=true\n",
            "2023-02-02 01:56:03,142 - root - DEBUG - Coletado 16 do link: https://portalcafebrasil.com.br/todos/podcasts/page/47/?ajax=true\n",
            "DEBUG:urllib3.connectionpool:Starting new HTTPS connection (1): portalcafebrasil.com.br:443\n",
            "2023-02-02 01:56:03,149 - urllib3.connectionpool - DEBUG - Starting new HTTPS connection (1): portalcafebrasil.com.br:443\n",
            "DEBUG:urllib3.connectionpool:https://portalcafebrasil.com.br:443 \"GET /todos/podcasts/page/48/?ajax=true HTTP/1.1\" 200 None\n",
            "2023-02-02 01:56:03,708 - urllib3.connectionpool - DEBUG - https://portalcafebrasil.com.br:443 \"GET /todos/podcasts/page/48/?ajax=true HTTP/1.1\" 200 None\n",
            "DEBUG:root:Coletado 16 do link: https://portalcafebrasil.com.br/todos/podcasts/page/48/?ajax=true\n",
            "2023-02-02 01:56:03,727 - root - DEBUG - Coletado 16 do link: https://portalcafebrasil.com.br/todos/podcasts/page/48/?ajax=true\n",
            "DEBUG:urllib3.connectionpool:Starting new HTTPS connection (1): portalcafebrasil.com.br:443\n",
            "2023-02-02 01:56:03,733 - urllib3.connectionpool - DEBUG - Starting new HTTPS connection (1): portalcafebrasil.com.br:443\n",
            "DEBUG:urllib3.connectionpool:https://portalcafebrasil.com.br:443 \"GET /todos/podcasts/page/49/?ajax=true HTTP/1.1\" 200 None\n",
            "2023-02-02 01:56:04,166 - urllib3.connectionpool - DEBUG - https://portalcafebrasil.com.br:443 \"GET /todos/podcasts/page/49/?ajax=true HTTP/1.1\" 200 None\n",
            "DEBUG:root:Coletado 16 do link: https://portalcafebrasil.com.br/todos/podcasts/page/49/?ajax=true\n",
            "2023-02-02 01:56:04,183 - root - DEBUG - Coletado 16 do link: https://portalcafebrasil.com.br/todos/podcasts/page/49/?ajax=true\n",
            "DEBUG:urllib3.connectionpool:Starting new HTTPS connection (1): portalcafebrasil.com.br:443\n",
            "2023-02-02 01:56:04,191 - urllib3.connectionpool - DEBUG - Starting new HTTPS connection (1): portalcafebrasil.com.br:443\n",
            "DEBUG:urllib3.connectionpool:https://portalcafebrasil.com.br:443 \"GET /todos/podcasts/page/50/?ajax=true HTTP/1.1\" 200 None\n",
            "2023-02-02 01:56:04,655 - urllib3.connectionpool - DEBUG - https://portalcafebrasil.com.br:443 \"GET /todos/podcasts/page/50/?ajax=true HTTP/1.1\" 200 None\n",
            "DEBUG:root:Coletado 16 do link: https://portalcafebrasil.com.br/todos/podcasts/page/50/?ajax=true\n",
            "2023-02-02 01:56:04,674 - root - DEBUG - Coletado 16 do link: https://portalcafebrasil.com.br/todos/podcasts/page/50/?ajax=true\n",
            "DEBUG:urllib3.connectionpool:Starting new HTTPS connection (1): portalcafebrasil.com.br:443\n",
            "2023-02-02 01:56:04,680 - urllib3.connectionpool - DEBUG - Starting new HTTPS connection (1): portalcafebrasil.com.br:443\n",
            "DEBUG:urllib3.connectionpool:https://portalcafebrasil.com.br:443 \"GET /todos/podcasts/page/51/?ajax=true HTTP/1.1\" 200 None\n",
            "2023-02-02 01:56:05,157 - urllib3.connectionpool - DEBUG - https://portalcafebrasil.com.br:443 \"GET /todos/podcasts/page/51/?ajax=true HTTP/1.1\" 200 None\n",
            "DEBUG:root:Coletado 16 do link: https://portalcafebrasil.com.br/todos/podcasts/page/51/?ajax=true\n",
            "2023-02-02 01:56:05,175 - root - DEBUG - Coletado 16 do link: https://portalcafebrasil.com.br/todos/podcasts/page/51/?ajax=true\n",
            "DEBUG:urllib3.connectionpool:Starting new HTTPS connection (1): portalcafebrasil.com.br:443\n",
            "2023-02-02 01:56:05,183 - urllib3.connectionpool - DEBUG - Starting new HTTPS connection (1): portalcafebrasil.com.br:443\n",
            "DEBUG:urllib3.connectionpool:https://portalcafebrasil.com.br:443 \"GET /todos/podcasts/page/52/?ajax=true HTTP/1.1\" 200 None\n",
            "2023-02-02 01:56:05,716 - urllib3.connectionpool - DEBUG - https://portalcafebrasil.com.br:443 \"GET /todos/podcasts/page/52/?ajax=true HTTP/1.1\" 200 None\n",
            "DEBUG:root:Coletado 16 do link: https://portalcafebrasil.com.br/todos/podcasts/page/52/?ajax=true\n",
            "2023-02-02 01:56:05,735 - root - DEBUG - Coletado 16 do link: https://portalcafebrasil.com.br/todos/podcasts/page/52/?ajax=true\n",
            "DEBUG:urllib3.connectionpool:Starting new HTTPS connection (1): portalcafebrasil.com.br:443\n",
            "2023-02-02 01:56:05,741 - urllib3.connectionpool - DEBUG - Starting new HTTPS connection (1): portalcafebrasil.com.br:443\n",
            "DEBUG:urllib3.connectionpool:https://portalcafebrasil.com.br:443 \"GET /todos/podcasts/page/53/?ajax=true HTTP/1.1\" 200 None\n",
            "2023-02-02 01:56:06,227 - urllib3.connectionpool - DEBUG - https://portalcafebrasil.com.br:443 \"GET /todos/podcasts/page/53/?ajax=true HTTP/1.1\" 200 None\n",
            "DEBUG:root:Coletado 16 do link: https://portalcafebrasil.com.br/todos/podcasts/page/53/?ajax=true\n",
            "2023-02-02 01:56:06,248 - root - DEBUG - Coletado 16 do link: https://portalcafebrasil.com.br/todos/podcasts/page/53/?ajax=true\n",
            "DEBUG:urllib3.connectionpool:Starting new HTTPS connection (1): portalcafebrasil.com.br:443\n",
            "2023-02-02 01:56:06,255 - urllib3.connectionpool - DEBUG - Starting new HTTPS connection (1): portalcafebrasil.com.br:443\n",
            "DEBUG:urllib3.connectionpool:https://portalcafebrasil.com.br:443 \"GET /todos/podcasts/page/54/?ajax=true HTTP/1.1\" 200 None\n",
            "2023-02-02 01:56:06,705 - urllib3.connectionpool - DEBUG - https://portalcafebrasil.com.br:443 \"GET /todos/podcasts/page/54/?ajax=true HTTP/1.1\" 200 None\n",
            "DEBUG:root:Coletado 16 do link: https://portalcafebrasil.com.br/todos/podcasts/page/54/?ajax=true\n",
            "2023-02-02 01:56:06,725 - root - DEBUG - Coletado 16 do link: https://portalcafebrasil.com.br/todos/podcasts/page/54/?ajax=true\n",
            "DEBUG:urllib3.connectionpool:Starting new HTTPS connection (1): portalcafebrasil.com.br:443\n",
            "2023-02-02 01:56:06,735 - urllib3.connectionpool - DEBUG - Starting new HTTPS connection (1): portalcafebrasil.com.br:443\n",
            "DEBUG:urllib3.connectionpool:https://portalcafebrasil.com.br:443 \"GET /todos/podcasts/page/55/?ajax=true HTTP/1.1\" 200 None\n",
            "2023-02-02 01:56:07,225 - urllib3.connectionpool - DEBUG - https://portalcafebrasil.com.br:443 \"GET /todos/podcasts/page/55/?ajax=true HTTP/1.1\" 200 None\n",
            "DEBUG:root:Coletado 16 do link: https://portalcafebrasil.com.br/todos/podcasts/page/55/?ajax=true\n",
            "2023-02-02 01:56:07,243 - root - DEBUG - Coletado 16 do link: https://portalcafebrasil.com.br/todos/podcasts/page/55/?ajax=true\n",
            "DEBUG:urllib3.connectionpool:Starting new HTTPS connection (1): portalcafebrasil.com.br:443\n",
            "2023-02-02 01:56:07,250 - urllib3.connectionpool - DEBUG - Starting new HTTPS connection (1): portalcafebrasil.com.br:443\n",
            "DEBUG:urllib3.connectionpool:https://portalcafebrasil.com.br:443 \"GET /todos/podcasts/page/56/?ajax=true HTTP/1.1\" 200 None\n",
            "2023-02-02 01:56:07,708 - urllib3.connectionpool - DEBUG - https://portalcafebrasil.com.br:443 \"GET /todos/podcasts/page/56/?ajax=true HTTP/1.1\" 200 None\n",
            "DEBUG:root:Coletado 16 do link: https://portalcafebrasil.com.br/todos/podcasts/page/56/?ajax=true\n",
            "2023-02-02 01:56:07,728 - root - DEBUG - Coletado 16 do link: https://portalcafebrasil.com.br/todos/podcasts/page/56/?ajax=true\n",
            "DEBUG:urllib3.connectionpool:Starting new HTTPS connection (1): portalcafebrasil.com.br:443\n",
            "2023-02-02 01:56:07,734 - urllib3.connectionpool - DEBUG - Starting new HTTPS connection (1): portalcafebrasil.com.br:443\n",
            "DEBUG:urllib3.connectionpool:https://portalcafebrasil.com.br:443 \"GET /todos/podcasts/page/57/?ajax=true HTTP/1.1\" 200 79\n",
            "2023-02-02 01:56:08,381 - urllib3.connectionpool - DEBUG - https://portalcafebrasil.com.br:443 \"GET /todos/podcasts/page/57/?ajax=true HTTP/1.1\" 200 79\n",
            "DEBUG:root:Coletado 0 do link: https://portalcafebrasil.com.br/todos/podcasts/page/57/?ajax=true\n",
            "2023-02-02 01:56:08,388 - root - DEBUG - Coletado 0 do link: https://portalcafebrasil.com.br/todos/podcasts/page/57/?ajax=true\n"
          ]
        }
      ],
      "source": [
        "i = 1\n",
        "lst_podcast = []\n",
        "lst_get = get_podcasts(url.format(i))\n",
        "log.debug(f'Coletado {len(lst_get)} do link: {url.format(i)}')\n",
        "\n",
        "while len(lst_get) > 0:\n",
        "  lst_podcast = lst_podcast + lst_get\n",
        "  i += 1\n",
        "  lst_get = get_podcasts(url.format(i))\n",
        "  log.debug(f'Coletado {len(lst_get)} do link: {url.format(i)}')"
      ]
    },
    {
      "cell_type": "code",
      "execution_count": null,
      "metadata": {
        "colab": {
          "base_uri": "https://localhost:8080/"
        },
        "id": "ALSzAG372Sd-",
        "outputId": "b4f84c4e-6369-4400-afa3-1e510b33e225"
      },
      "outputs": [
        {
          "data": {
            "text/plain": [
              "[<h5><a href=\"https://portalcafebrasil.com.br/podcasts/cafe-brasil-859-oestecast/\">Café Brasil 859 – OesteCast</a></h5>,\n",
              " <h5><a href=\"https://portalcafebrasil.com.br/podcasts/cafe-brasil-858-um-velho-safado/\">Café Brasil 858 – Um velho safado</a></h5>,\n",
              " <h5><a href=\"https://portalcafebrasil.com.br/podcasts/cafe-brasil-857-independencia-ou-morte/\">Café Brasil 857 – Independência ou morte</a></h5>,\n",
              " <h5><a href=\"https://portalcafebrasil.com.br/podcasts/cafe-brasil-856-ta-na-hora-do-cafe-com-leite/\">Café Brasil 856 – Tá na hora do Café Com leite</a></h5>,\n",
              " <h5><a href=\"https://portalcafebrasil.com.br/podcasts/cafe-brasil-855-alguem-me-avisou/\">Café Brasil 855 – Alguém me avisou</a></h5>]"
            ]
          },
          "execution_count": 49,
          "metadata": {},
          "output_type": "execute_result"
        }
      ],
      "source": [
        "lst_podcast[:5]"
      ]
    },
    {
      "cell_type": "code",
      "execution_count": null,
      "metadata": {
        "id": "yU6IVotB2pJn"
      },
      "outputs": [],
      "source": [
        "df = pd.DataFrame(columns=('Episódio', 'Link'))\n",
        "\n",
        "for i in lst_podcast:\n",
        "  ep = i.text\n",
        "  link = i.a['href']\n",
        "  df.loc[df.shape[0]] = (ep, link)"
      ]
    },
    {
      "cell_type": "code",
      "execution_count": null,
      "metadata": {
        "colab": {
          "base_uri": "https://localhost:8080/",
          "height": 206
        },
        "id": "d6Y8ZjVz3nQ7",
        "outputId": "104d724b-51d6-4c5e-8902-254ab8d9641e"
      },
      "outputs": [
        {
          "data": {
            "text/html": [
              "\n",
              "  <div id=\"df-9bfeb333-66e4-443d-8413-f556412a523d\">\n",
              "    <div class=\"colab-df-container\">\n",
              "      <div>\n",
              "<style scoped>\n",
              "    .dataframe tbody tr th:only-of-type {\n",
              "        vertical-align: middle;\n",
              "    }\n",
              "\n",
              "    .dataframe tbody tr th {\n",
              "        vertical-align: top;\n",
              "    }\n",
              "\n",
              "    .dataframe thead th {\n",
              "        text-align: right;\n",
              "    }\n",
              "</style>\n",
              "<table border=\"1\" class=\"dataframe\">\n",
              "  <thead>\n",
              "    <tr style=\"text-align: right;\">\n",
              "      <th></th>\n",
              "      <th>Episódio</th>\n",
              "      <th>Link</th>\n",
              "    </tr>\n",
              "  </thead>\n",
              "  <tbody>\n",
              "    <tr>\n",
              "      <th>0</th>\n",
              "      <td>Café Brasil 859 – OesteCast</td>\n",
              "      <td>https://portalcafebrasil.com.br/podcasts/cafe-...</td>\n",
              "    </tr>\n",
              "    <tr>\n",
              "      <th>1</th>\n",
              "      <td>Café Brasil 858 – Um velho safado</td>\n",
              "      <td>https://portalcafebrasil.com.br/podcasts/cafe-...</td>\n",
              "    </tr>\n",
              "    <tr>\n",
              "      <th>2</th>\n",
              "      <td>Café Brasil 857 – Independência ou morte</td>\n",
              "      <td>https://portalcafebrasil.com.br/podcasts/cafe-...</td>\n",
              "    </tr>\n",
              "    <tr>\n",
              "      <th>3</th>\n",
              "      <td>Café Brasil 856 – Tá na hora do Café Com leite</td>\n",
              "      <td>https://portalcafebrasil.com.br/podcasts/cafe-...</td>\n",
              "    </tr>\n",
              "    <tr>\n",
              "      <th>4</th>\n",
              "      <td>Café Brasil 855 – Alguém me avisou</td>\n",
              "      <td>https://portalcafebrasil.com.br/podcasts/cafe-...</td>\n",
              "    </tr>\n",
              "  </tbody>\n",
              "</table>\n",
              "</div>\n",
              "      <button class=\"colab-df-convert\" onclick=\"convertToInteractive('df-9bfeb333-66e4-443d-8413-f556412a523d')\"\n",
              "              title=\"Convert this dataframe to an interactive table.\"\n",
              "              style=\"display:none;\">\n",
              "        \n",
              "  <svg xmlns=\"http://www.w3.org/2000/svg\" height=\"24px\"viewBox=\"0 0 24 24\"\n",
              "       width=\"24px\">\n",
              "    <path d=\"M0 0h24v24H0V0z\" fill=\"none\"/>\n",
              "    <path d=\"M18.56 5.44l.94 2.06.94-2.06 2.06-.94-2.06-.94-.94-2.06-.94 2.06-2.06.94zm-11 1L8.5 8.5l.94-2.06 2.06-.94-2.06-.94L8.5 2.5l-.94 2.06-2.06.94zm10 10l.94 2.06.94-2.06 2.06-.94-2.06-.94-.94-2.06-.94 2.06-2.06.94z\"/><path d=\"M17.41 7.96l-1.37-1.37c-.4-.4-.92-.59-1.43-.59-.52 0-1.04.2-1.43.59L10.3 9.45l-7.72 7.72c-.78.78-.78 2.05 0 2.83L4 21.41c.39.39.9.59 1.41.59.51 0 1.02-.2 1.41-.59l7.78-7.78 2.81-2.81c.8-.78.8-2.07 0-2.86zM5.41 20L4 18.59l7.72-7.72 1.47 1.35L5.41 20z\"/>\n",
              "  </svg>\n",
              "      </button>\n",
              "      \n",
              "  <style>\n",
              "    .colab-df-container {\n",
              "      display:flex;\n",
              "      flex-wrap:wrap;\n",
              "      gap: 12px;\n",
              "    }\n",
              "\n",
              "    .colab-df-convert {\n",
              "      background-color: #E8F0FE;\n",
              "      border: none;\n",
              "      border-radius: 50%;\n",
              "      cursor: pointer;\n",
              "      display: none;\n",
              "      fill: #1967D2;\n",
              "      height: 32px;\n",
              "      padding: 0 0 0 0;\n",
              "      width: 32px;\n",
              "    }\n",
              "\n",
              "    .colab-df-convert:hover {\n",
              "      background-color: #E2EBFA;\n",
              "      box-shadow: 0px 1px 2px rgba(60, 64, 67, 0.3), 0px 1px 3px 1px rgba(60, 64, 67, 0.15);\n",
              "      fill: #174EA6;\n",
              "    }\n",
              "\n",
              "    [theme=dark] .colab-df-convert {\n",
              "      background-color: #3B4455;\n",
              "      fill: #D2E3FC;\n",
              "    }\n",
              "\n",
              "    [theme=dark] .colab-df-convert:hover {\n",
              "      background-color: #434B5C;\n",
              "      box-shadow: 0px 1px 3px 1px rgba(0, 0, 0, 0.15);\n",
              "      filter: drop-shadow(0px 1px 2px rgba(0, 0, 0, 0.3));\n",
              "      fill: #FFFFFF;\n",
              "    }\n",
              "  </style>\n",
              "\n",
              "      <script>\n",
              "        const buttonEl =\n",
              "          document.querySelector('#df-9bfeb333-66e4-443d-8413-f556412a523d button.colab-df-convert');\n",
              "        buttonEl.style.display =\n",
              "          google.colab.kernel.accessAllowed ? 'block' : 'none';\n",
              "\n",
              "        async function convertToInteractive(key) {\n",
              "          const element = document.querySelector('#df-9bfeb333-66e4-443d-8413-f556412a523d');\n",
              "          const dataTable =\n",
              "            await google.colab.kernel.invokeFunction('convertToInteractive',\n",
              "                                                     [key], {});\n",
              "          if (!dataTable) return;\n",
              "\n",
              "          const docLinkHtml = 'Like what you see? Visit the ' +\n",
              "            '<a target=\"_blank\" href=https://colab.research.google.com/notebooks/data_table.ipynb>data table notebook</a>'\n",
              "            + ' to learn more about interactive tables.';\n",
              "          element.innerHTML = '';\n",
              "          dataTable['output_type'] = 'display_data';\n",
              "          await google.colab.output.renderOutput(dataTable, element);\n",
              "          const docLink = document.createElement('div');\n",
              "          docLink.innerHTML = docLinkHtml;\n",
              "          element.appendChild(docLink);\n",
              "        }\n",
              "      </script>\n",
              "    </div>\n",
              "  </div>\n",
              "  "
            ],
            "text/plain": [
              "                                         Episódio  \\\n",
              "0                     Café Brasil 859 – OesteCast   \n",
              "1               Café Brasil 858 – Um velho safado   \n",
              "2        Café Brasil 857 – Independência ou morte   \n",
              "3  Café Brasil 856 – Tá na hora do Café Com leite   \n",
              "4              Café Brasil 855 – Alguém me avisou   \n",
              "\n",
              "                                                Link  \n",
              "0  https://portalcafebrasil.com.br/podcasts/cafe-...  \n",
              "1  https://portalcafebrasil.com.br/podcasts/cafe-...  \n",
              "2  https://portalcafebrasil.com.br/podcasts/cafe-...  \n",
              "3  https://portalcafebrasil.com.br/podcasts/cafe-...  \n",
              "4  https://portalcafebrasil.com.br/podcasts/cafe-...  "
            ]
          },
          "execution_count": 58,
          "metadata": {},
          "output_type": "execute_result"
        }
      ],
      "source": [
        "df.head()"
      ]
    },
    {
      "cell_type": "code",
      "execution_count": null,
      "metadata": {
        "colab": {
          "base_uri": "https://localhost:8080/"
        },
        "id": "tJRaDFZu4W4i",
        "outputId": "3a95dda5-9373-4696-d5f2-28ae0b89e703"
      },
      "outputs": [
        {
          "data": {
            "text/plain": [
              "(896, 2)"
            ]
          },
          "execution_count": 59,
          "metadata": {},
          "output_type": "execute_result"
        }
      ],
      "source": [
        "df.shape"
      ]
    },
    {
      "cell_type": "code",
      "execution_count": null,
      "metadata": {
        "id": "5nbGWG_r4qWW"
      },
      "outputs": [],
      "source": [
        "df.to_csv(\"Episódios_Café_Brasil.csv\", sep=';', index=False)"
      ]
    }
  ],
  "metadata": {
    "colab": {
      "provenance": []
    },
    "kernelspec": {
      "display_name": "base",
      "language": "python",
      "name": "python3"
    },
    "language_info": {
      "codemirror_mode": {
        "name": "ipython",
        "version": 3
      },
      "file_extension": ".py",
      "mimetype": "text/x-python",
      "name": "python",
      "nbconvert_exporter": "python",
      "pygments_lexer": "ipython3",
      "version": "3.9.7"
    },
    "vscode": {
      "interpreter": {
        "hash": "112989f40982219f9c2133127490be09f86560db102a13a350eb86b01002b443"
      }
    }
  },
  "nbformat": 4,
  "nbformat_minor": 0
}
