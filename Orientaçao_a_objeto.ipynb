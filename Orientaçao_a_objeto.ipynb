{
  "nbformat": 4,
  "nbformat_minor": 0,
  "metadata": {
    "colab": {
      "provenance": []
    },
    "kernelspec": {
      "name": "python3",
      "display_name": "Python 3"
    },
    "language_info": {
      "name": "python"
    }
  },
  "cells": [
    {
      "cell_type": "markdown",
      "source": [
        "#Criando classes utilizando os seguintes princípios"
      ],
      "metadata": {
        "id": "H8ENNIDXJmXA"
      }
    },
    {
      "cell_type": "markdown",
      "source": [
        "Princípio da responsabilidade única:\n",
        "* Cada classe deve ter uma única responsabilidade. \n"
      ],
      "metadata": {
        "id": "PyGyi_x7TJGj"
      }
    },
    {
      "cell_type": "markdown",
      "source": [
        "Princípio Aberto/Fechado:\n",
        "* Entidades devem ser abertas para expansão, mas fechadas para modificação.\n"
      ],
      "metadata": {
        "id": "mzgFuxXiT3Rs"
      }
    },
    {
      "cell_type": "markdown",
      "source": [
        "##Classe Pessoa\n",
        "\n",
        "\n",
        "\n"
      ],
      "metadata": {
        "id": "OVBfZOpPbjQc"
      }
    },
    {
      "cell_type": "code",
      "source": [
        "import datetime\n",
        "import math"
      ],
      "metadata": {
        "id": "dxYUQbA-cuBm"
      },
      "execution_count": 1,
      "outputs": []
    },
    {
      "cell_type": "code",
      "execution_count": 2,
      "metadata": {
        "id": "RbbBROjYOC8w"
      },
      "outputs": [],
      "source": [
        "class Pessoa:\n",
        "  def __init__(self, nome: str, sobrenome: str, cor: str, data_de_nascimento: datetime.date):\n",
        "    self.nome = nome\n",
        "    self.sobrenome = sobrenome\n",
        "    self.cor = cor\n",
        "    self.data_de_nascimento = data_de_nascimento\n",
        "    self.iniciais = nome[0] + sobrenome[0]\n",
        "  \n",
        "  @property\n",
        "  def idade(self) -> int:\n",
        "    return math.floor((datetime.date.today() - self.data_de_nascimento).days / 365.2425)\n",
        "\n",
        "  def __str__(self) -> str:\n",
        "    return f\"{self.nome} {self.sobrenome} é {self.cor} e tem {self.idade} anos\""
      ]
    },
    {
      "cell_type": "code",
      "source": [
        "lucas = Pessoa(nome='Lucas', sobrenome='Alexandre', cor='Preto', data_de_nascimento=datetime.date(1997,4,4))\n",
        "print(lucas)"
      ],
      "metadata": {
        "colab": {
          "base_uri": "https://localhost:8080/"
        },
        "id": "UGWMJ7iScx3_",
        "outputId": "096df48f-b218-4730-ea8f-3988c5b4ab0f"
      },
      "execution_count": 3,
      "outputs": [
        {
          "output_type": "stream",
          "name": "stdout",
          "text": [
            "Lucas Alexandre é Preto e tem 25 anos\n"
          ]
        }
      ]
    },
    {
      "cell_type": "code",
      "source": [
        "print(f'Nome: {lucas.nome}')\n",
        "print(f'Sobrenome: {lucas.sobrenome}')\n",
        "print(f'Cor: {lucas.cor}')\n",
        "print(f'Nascimento: {lucas.data_de_nascimento}')\n",
        "print(f'Iniciais: {lucas.iniciais}')\n",
        "print(f'Idade: {lucas.idade}')"
      ],
      "metadata": {
        "colab": {
          "base_uri": "https://localhost:8080/"
        },
        "id": "-dmyjq6OeW6W",
        "outputId": "147bf370-6d13-4011-8fc0-dfa99372dc1d"
      },
      "execution_count": 10,
      "outputs": [
        {
          "output_type": "stream",
          "name": "stdout",
          "text": [
            "Nome: Lucas\n",
            "Sobrenome: Alexandre\n",
            "Cor: Preto\n",
            "Nascimento: 1997-04-04\n",
            "Iniciais: LA\n",
            "Idade: 25\n"
          ]
        }
      ]
    },
    {
      "cell_type": "markdown",
      "source": [
        "##Classe Currículo"
      ],
      "metadata": {
        "id": "CR5HikI4S_9Y"
      }
    },
    {
      "cell_type": "code",
      "source": [
        "class Curriculo:\n",
        "  def __init__(self, pessoa: Pessoa, experiencias: list()):\n",
        "    self.pessoa = pessoa\n",
        "    self.experiencias = experiencias\n",
        "\n",
        "  @property\n",
        "  def qtd_experiencias(self) -> int:\n",
        "    return len(self.experiencias)\n",
        "\n",
        "  @property\n",
        "  def empresa_atual(self) -> str:\n",
        "    return self.experiencias[-1]\n",
        "\n",
        "  def adiciona_experiencia(self, experiencia: str) -> None:\n",
        "    self.experiencias.append(experiencia)\n",
        "\n",
        "  def __str__(self):\n",
        "    return f\"{self.pessoa.nome} tem {self.pessoa.idade} e já trabalhou em {self.qtd_experiencias} empresas. Hoje ele atua na empresa {self.empresa_atual}.\""
      ],
      "metadata": {
        "id": "8_S808ROTIC4"
      },
      "execution_count": 11,
      "outputs": []
    },
    {
      "cell_type": "code",
      "source": [
        "cv_lucas = Curriculo(lucas,['UFS', 'Instituto Butantan', 'Sincroniza Educação'])\n",
        "print(cv_lucas)"
      ],
      "metadata": {
        "colab": {
          "base_uri": "https://localhost:8080/"
        },
        "id": "23ERAvYOXUNL",
        "outputId": "41a15571-a3c1-44d0-864f-cc55a49cd7cf"
      },
      "execution_count": 12,
      "outputs": [
        {
          "output_type": "stream",
          "name": "stdout",
          "text": [
            "Lucas tem 25 e já trabalhou em 3 empresas. Hoje ele atua na empresa Sincroniza Educação.\n"
          ]
        }
      ]
    },
    {
      "cell_type": "code",
      "source": [
        "cv_lucas.adiciona_experiencia('Google')\n",
        "print(cv_lucas)"
      ],
      "metadata": {
        "id": "1XbMiDMaX5XV",
        "colab": {
          "base_uri": "https://localhost:8080/"
        },
        "outputId": "c0280267-c719-471b-e620-a039a18675dd"
      },
      "execution_count": 13,
      "outputs": [
        {
          "output_type": "stream",
          "name": "stdout",
          "text": [
            "Lucas tem 25 e já trabalhou em 4 empresas. Hoje ele atua na empresa Google.\n"
          ]
        }
      ]
    },
    {
      "cell_type": "markdown",
      "source": [
        "##Classe Vivente"
      ],
      "metadata": {
        "id": "y4g3Bgz1KJS1"
      }
    },
    {
      "cell_type": "code",
      "source": [
        "class Vivente:\n",
        "  def __init__(self, nome: str, tipo: str):\n",
        "    self.nome = nome\n",
        "    self.tipo = tipo\n",
        "\n",
        "  def __str__(self):\n",
        "    return f\"{self.nome} é {self.tipo}\"\n",
        "\n",
        "  def emite_ruido(self, ruido:str):\n",
        "    print(f\"{self.nome} fez ruído: {ruido}\")\n",
        "    "
      ],
      "metadata": {
        "id": "QZBCmktaYnCU"
      },
      "execution_count": 14,
      "outputs": []
    },
    {
      "cell_type": "code",
      "source": [
        "lucas2 = Vivente(nome='Lucas', tipo='gente')\n",
        "guerreiro = Vivente(nome='Rex', tipo='bicho')\n",
        "mendel = Vivente(nome='Pix', tipo='bicho')\n",
        "\n",
        "print(lucas2, guerreiro, mendel, sep='\\n')"
      ],
      "metadata": {
        "colab": {
          "base_uri": "https://localhost:8080/"
        },
        "id": "_8ckD9MIZFrb",
        "outputId": "633154c5-686c-4fce-cb1e-59ee35e59815"
      },
      "execution_count": 16,
      "outputs": [
        {
          "output_type": "stream",
          "name": "stdout",
          "text": [
            "Lucas é gente\n",
            "Rex é bicho\n",
            "Pix é bicho\n"
          ]
        }
      ]
    },
    {
      "cell_type": "markdown",
      "source": [
        "Herança"
      ],
      "metadata": {
        "id": "SLKMiJxzKWFA"
      }
    },
    {
      "cell_type": "code",
      "source": [
        "class Bicho(Vivente):\n",
        "  def __init__(self, nome: str, tipo: str, raca: str):\n",
        "    super().__init__(nome, tipo)\n",
        "    self.raca = raca\n",
        "\n",
        "  def __str__(self):\n",
        "    return f\"{self.nome} é {self.tipo} da raça {self.raca}\"\n",
        "\n",
        "  def late(self):\n",
        "    return self.emite_ruido(\"Au!Au!\")\n"
      ],
      "metadata": {
        "id": "uXtT4ML3agt3"
      },
      "execution_count": 17,
      "outputs": []
    },
    {
      "cell_type": "code",
      "source": [
        "mendel_completo = Bicho(nome='Rex', tipo='bicho', raca='Border Collie')\n",
        "print(mendel_completo)"
      ],
      "metadata": {
        "colab": {
          "base_uri": "https://localhost:8080/"
        },
        "id": "xG1Hk0lGbY-F",
        "outputId": "2df10137-c2d3-4c07-8e30-e4cb6bc5a0cf"
      },
      "execution_count": 18,
      "outputs": [
        {
          "output_type": "stream",
          "name": "stdout",
          "text": [
            "Rex é bicho da raça Border Collie\n"
          ]
        }
      ]
    },
    {
      "cell_type": "code",
      "source": [
        "mendel_completo.late()\n",
        "mendel_completo.late()\n",
        "mendel_completo.late()"
      ],
      "metadata": {
        "colab": {
          "base_uri": "https://localhost:8080/"
        },
        "id": "B3uaKZRpduA-",
        "outputId": "e3039586-d621-4815-aed8-ebef2d7b688b"
      },
      "execution_count": 19,
      "outputs": [
        {
          "output_type": "stream",
          "name": "stdout",
          "text": [
            "Rex fez ruído: Au!Au!\n",
            "Rex fez ruído: Au!Au!\n",
            "Rex fez ruído: Au!Au!\n"
          ]
        }
      ]
    }
  ]
}